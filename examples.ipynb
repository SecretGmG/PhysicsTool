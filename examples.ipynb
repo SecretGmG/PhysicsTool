{
 "cells": [
  {
   "cell_type": "code",
   "execution_count": 1,
   "metadata": {},
   "outputs": [],
   "source": [
    "import PhysicsTool as pt\n",
    "import pandas as pd\n",
    "import numpy as np\n",
    "import sympy"
   ]
  },
  {
   "cell_type": "code",
   "execution_count": 2,
   "metadata": {},
   "outputs": [
    {
     "name": "stdout",
     "output_type": "stream",
     "text": [
      "x = 1.0 +- 0.45\n"
     ]
    },
    {
     "data": {
      "text/html": [
       "<div>\n",
       "<style scoped>\n",
       "    .dataframe tbody tr th:only-of-type {\n",
       "        vertical-align: middle;\n",
       "    }\n",
       "\n",
       "    .dataframe tbody tr th {\n",
       "        vertical-align: top;\n",
       "    }\n",
       "\n",
       "    .dataframe thead th {\n",
       "        text-align: right;\n",
       "    }\n",
       "</style>\n",
       "<table border=\"1\" class=\"dataframe\">\n",
       "  <thead>\n",
       "    <tr style=\"text-align: right;\">\n",
       "      <th></th>\n",
       "      <th>y</th>\n",
       "      <th>z_0</th>\n",
       "      <th>z_1</th>\n",
       "      <th>z_2</th>\n",
       "      <th>z_3</th>\n",
       "      <th>z_4</th>\n",
       "    </tr>\n",
       "  </thead>\n",
       "  <tbody>\n",
       "    <tr>\n",
       "      <th>0</th>\n",
       "      <td>1.627914</td>\n",
       "      <td>4.494427</td>\n",
       "      <td>1.901376</td>\n",
       "      <td>4.907389</td>\n",
       "      <td>0.767544</td>\n",
       "      <td>5.012678</td>\n",
       "    </tr>\n",
       "    <tr>\n",
       "      <th>1</th>\n",
       "      <td>2.403670</td>\n",
       "      <td>2.920728</td>\n",
       "      <td>1.369847</td>\n",
       "      <td>3.153648</td>\n",
       "      <td>0.051116</td>\n",
       "      <td>2.134008</td>\n",
       "    </tr>\n",
       "    <tr>\n",
       "      <th>2</th>\n",
       "      <td>2.433130</td>\n",
       "      <td>3.278310</td>\n",
       "      <td>1.413267</td>\n",
       "      <td>-1.225705</td>\n",
       "      <td>1.979304</td>\n",
       "      <td>4.177487</td>\n",
       "    </tr>\n",
       "    <tr>\n",
       "      <th>3</th>\n",
       "      <td>1.797008</td>\n",
       "      <td>4.205595</td>\n",
       "      <td>2.946616</td>\n",
       "      <td>1.407547</td>\n",
       "      <td>2.384187</td>\n",
       "      <td>3.456425</td>\n",
       "    </tr>\n",
       "    <tr>\n",
       "      <th>4</th>\n",
       "      <td>2.362494</td>\n",
       "      <td>3.080592</td>\n",
       "      <td>3.066886</td>\n",
       "      <td>3.341621</td>\n",
       "      <td>3.647219</td>\n",
       "      <td>2.481659</td>\n",
       "    </tr>\n",
       "    <tr>\n",
       "      <th>5</th>\n",
       "      <td>1.807970</td>\n",
       "      <td>2.834733</td>\n",
       "      <td>1.779336</td>\n",
       "      <td>4.933089</td>\n",
       "      <td>4.100746</td>\n",
       "      <td>3.849697</td>\n",
       "    </tr>\n",
       "    <tr>\n",
       "      <th>6</th>\n",
       "      <td>1.736896</td>\n",
       "      <td>4.051612</td>\n",
       "      <td>4.216034</td>\n",
       "      <td>1.928440</td>\n",
       "      <td>1.855940</td>\n",
       "      <td>0.885532</td>\n",
       "    </tr>\n",
       "    <tr>\n",
       "      <th>7</th>\n",
       "      <td>2.059693</td>\n",
       "      <td>4.139534</td>\n",
       "      <td>3.305099</td>\n",
       "      <td>5.257262</td>\n",
       "      <td>2.463373</td>\n",
       "      <td>0.768728</td>\n",
       "    </tr>\n",
       "    <tr>\n",
       "      <th>8</th>\n",
       "      <td>1.970419</td>\n",
       "      <td>3.320381</td>\n",
       "      <td>1.201123</td>\n",
       "      <td>3.006458</td>\n",
       "      <td>2.504613</td>\n",
       "      <td>2.794948</td>\n",
       "    </tr>\n",
       "    <tr>\n",
       "      <th>9</th>\n",
       "      <td>2.853566</td>\n",
       "      <td>4.832861</td>\n",
       "      <td>1.811249</td>\n",
       "      <td>4.712036</td>\n",
       "      <td>3.751934</td>\n",
       "      <td>1.085758</td>\n",
       "    </tr>\n",
       "    <tr>\n",
       "      <th>10</th>\n",
       "      <td>2.047596</td>\n",
       "      <td>-0.729445</td>\n",
       "      <td>2.029770</td>\n",
       "      <td>3.492149</td>\n",
       "      <td>4.242960</td>\n",
       "      <td>4.051900</td>\n",
       "    </tr>\n",
       "    <tr>\n",
       "      <th>11</th>\n",
       "      <td>1.960835</td>\n",
       "      <td>3.943770</td>\n",
       "      <td>2.193515</td>\n",
       "      <td>5.237088</td>\n",
       "      <td>3.691162</td>\n",
       "      <td>3.471187</td>\n",
       "    </tr>\n",
       "    <tr>\n",
       "      <th>12</th>\n",
       "      <td>2.772579</td>\n",
       "      <td>4.495669</td>\n",
       "      <td>4.596695</td>\n",
       "      <td>2.323019</td>\n",
       "      <td>4.095257</td>\n",
       "      <td>4.767758</td>\n",
       "    </tr>\n",
       "    <tr>\n",
       "      <th>13</th>\n",
       "      <td>1.838051</td>\n",
       "      <td>3.595153</td>\n",
       "      <td>1.859398</td>\n",
       "      <td>1.969930</td>\n",
       "      <td>4.668486</td>\n",
       "      <td>2.527640</td>\n",
       "    </tr>\n",
       "    <tr>\n",
       "      <th>14</th>\n",
       "      <td>1.974910</td>\n",
       "      <td>3.161611</td>\n",
       "      <td>2.564214</td>\n",
       "      <td>1.622266</td>\n",
       "      <td>2.773955</td>\n",
       "      <td>6.323332</td>\n",
       "    </tr>\n",
       "    <tr>\n",
       "      <th>15</th>\n",
       "      <td>1.900950</td>\n",
       "      <td>0.711569</td>\n",
       "      <td>3.697714</td>\n",
       "      <td>3.161991</td>\n",
       "      <td>3.061073</td>\n",
       "      <td>0.384377</td>\n",
       "    </tr>\n",
       "    <tr>\n",
       "      <th>16</th>\n",
       "      <td>2.677108</td>\n",
       "      <td>0.940718</td>\n",
       "      <td>1.224395</td>\n",
       "      <td>1.637593</td>\n",
       "      <td>4.689943</td>\n",
       "      <td>5.142808</td>\n",
       "    </tr>\n",
       "    <tr>\n",
       "      <th>17</th>\n",
       "      <td>1.437546</td>\n",
       "      <td>2.724944</td>\n",
       "      <td>2.832088</td>\n",
       "      <td>2.724894</td>\n",
       "      <td>-0.278646</td>\n",
       "      <td>0.699581</td>\n",
       "    </tr>\n",
       "    <tr>\n",
       "      <th>18</th>\n",
       "      <td>2.037603</td>\n",
       "      <td>0.671292</td>\n",
       "      <td>1.253632</td>\n",
       "      <td>2.863389</td>\n",
       "      <td>3.715087</td>\n",
       "      <td>4.262368</td>\n",
       "    </tr>\n",
       "    <tr>\n",
       "      <th>19</th>\n",
       "      <td>2.065911</td>\n",
       "      <td>3.243297</td>\n",
       "      <td>2.028847</td>\n",
       "      <td>4.187055</td>\n",
       "      <td>2.848557</td>\n",
       "      <td>1.750413</td>\n",
       "    </tr>\n",
       "  </tbody>\n",
       "</table>\n",
       "</div>"
      ],
      "text/plain": [
       "           y       z_0       z_1       z_2       z_3       z_4\n",
       "0   1.627914  4.494427  1.901376  4.907389  0.767544  5.012678\n",
       "1   2.403670  2.920728  1.369847  3.153648  0.051116  2.134008\n",
       "2   2.433130  3.278310  1.413267 -1.225705  1.979304  4.177487\n",
       "3   1.797008  4.205595  2.946616  1.407547  2.384187  3.456425\n",
       "4   2.362494  3.080592  3.066886  3.341621  3.647219  2.481659\n",
       "5   1.807970  2.834733  1.779336  4.933089  4.100746  3.849697\n",
       "6   1.736896  4.051612  4.216034  1.928440  1.855940  0.885532\n",
       "7   2.059693  4.139534  3.305099  5.257262  2.463373  0.768728\n",
       "8   1.970419  3.320381  1.201123  3.006458  2.504613  2.794948\n",
       "9   2.853566  4.832861  1.811249  4.712036  3.751934  1.085758\n",
       "10  2.047596 -0.729445  2.029770  3.492149  4.242960  4.051900\n",
       "11  1.960835  3.943770  2.193515  5.237088  3.691162  3.471187\n",
       "12  2.772579  4.495669  4.596695  2.323019  4.095257  4.767758\n",
       "13  1.838051  3.595153  1.859398  1.969930  4.668486  2.527640\n",
       "14  1.974910  3.161611  2.564214  1.622266  2.773955  6.323332\n",
       "15  1.900950  0.711569  3.697714  3.161991  3.061073  0.384377\n",
       "16  2.677108  0.940718  1.224395  1.637593  4.689943  5.142808\n",
       "17  1.437546  2.724944  2.832088  2.724894 -0.278646  0.699581\n",
       "18  2.037603  0.671292  1.253632  2.863389  3.715087  4.262368\n",
       "19  2.065911  3.243297  2.028847  4.187055  2.848557  1.750413"
      ]
     },
     "metadata": {},
     "output_type": "display_data"
    }
   ],
   "source": [
    "x_center = 1.0\n",
    "y_center = 2.0\n",
    "z_center = 3.0\n",
    "\n",
    "x_mean = x_center\n",
    "x_error = 0.45\n",
    "y_data = np.random.standard_normal(20) * 0.5 + y_center\n",
    "z_data = np.random.standard_normal((5, 20)) * 1.5 + z_center\n",
    "\n",
    "raw_data_table = pd.DataFrame({\n",
    "    'y' : y_data,\n",
    "} | {\n",
    "    f'z_{i}' : col for i, col in enumerate(z_data)\n",
    "})\n",
    "print(f'x = {x_mean} +- {x_error}')\n",
    "display(raw_data_table)"
   ]
  },
  {
   "cell_type": "code",
   "execution_count": 3,
   "metadata": {},
   "outputs": [
    {
     "data": {
      "text/latex": [
       "$1.00\\pm0.45$"
      ],
      "text/plain": [
       "1.00 ± 0.45"
      ]
     },
     "metadata": {},
     "output_type": "display_data"
    },
    {
     "data": {
      "text/latex": [
       "$2.088\\pm0.085$"
      ],
      "text/plain": [
       "2.088 ± 0.085"
      ]
     },
     "metadata": {},
     "output_type": "display_data"
    }
   ],
   "source": [
    "x_val = pt.Err(x_mean, x_error)\n",
    "y_val = pt.Err.from_data(y_data)\n",
    "display(x_val)\n",
    "display(y_val)"
   ]
  },
  {
   "cell_type": "code",
   "execution_count": 4,
   "metadata": {},
   "outputs": [
    {
     "data": {
      "text/latex": [
       "$3.00\\pm0.33\\\\2.36\\pm0.23\\\\3.03\\pm0.36\\\\2.85\\pm0.32\\\\3.00\\pm0.38$"
      ],
      "text/plain": [
       "['3.00' '2.36' '3.03' '2.85' '3.00'] ± ['0.33' '0.23' '0.36' '0.32' '0.38']"
      ]
     },
     "metadata": {},
     "output_type": "display_data"
    },
    {
     "data": {
      "text/html": [
       "<div>\n",
       "<style scoped>\n",
       "    .dataframe tbody tr th:only-of-type {\n",
       "        vertical-align: middle;\n",
       "    }\n",
       "\n",
       "    .dataframe tbody tr th {\n",
       "        vertical-align: top;\n",
       "    }\n",
       "\n",
       "    .dataframe thead th {\n",
       "        text-align: right;\n",
       "    }\n",
       "</style>\n",
       "<table border=\"1\" class=\"dataframe\">\n",
       "  <thead>\n",
       "    <tr style=\"text-align: right;\">\n",
       "      <th></th>\n",
       "      <th>z_0</th>\n",
       "      <th>z_1</th>\n",
       "      <th>z_2</th>\n",
       "      <th>z_3</th>\n",
       "      <th>z_4</th>\n",
       "    </tr>\n",
       "  </thead>\n",
       "  <tbody>\n",
       "    <tr>\n",
       "      <th>mean</th>\n",
       "      <td>3.00</td>\n",
       "      <td>2.36</td>\n",
       "      <td>3.03</td>\n",
       "      <td>2.85</td>\n",
       "      <td>3.00</td>\n",
       "    </tr>\n",
       "    <tr>\n",
       "      <th>error</th>\n",
       "      <td>0.33</td>\n",
       "      <td>0.23</td>\n",
       "      <td>0.36</td>\n",
       "      <td>0.32</td>\n",
       "      <td>0.38</td>\n",
       "    </tr>\n",
       "  </tbody>\n",
       "</table>\n",
       "</div>"
      ],
      "text/plain": [
       "        z_0   z_1   z_2   z_3   z_4\n",
       "mean   3.00  2.36  3.03  2.85  3.00\n",
       "error  0.33  0.23  0.36  0.32  0.38"
      ]
     },
     "metadata": {},
     "output_type": "display_data"
    },
    {
     "name": "stdout",
     "output_type": "stream",
     "text": [
      "\\begin{table}[H]\n",
      "\\centering\n",
      "\\begin{tabular}{lllll}\n",
      "\\toprule\n",
      "z_0 & z_1 & z_2 & z_3 & z_4 \\\\\n",
      "\\midrule\n",
      "3.00 & 2.36 & 3.03 & 2.85 & 3.00 \\\\\n",
      "0.33 & 0.23 & 0.36 & 0.32 & 0.38 \\\\\n",
      "\\bottomrule\n",
      "\\end{tabular}\n",
      "\\caption{Caption}\n",
      "\\label{tab:labelname}\n",
      "\\end{table}\n",
      "\n"
     ]
    },
    {
     "data": {
      "text/html": [
       "<div>\n",
       "<style scoped>\n",
       "    .dataframe tbody tr th:only-of-type {\n",
       "        vertical-align: middle;\n",
       "    }\n",
       "\n",
       "    .dataframe tbody tr th {\n",
       "        vertical-align: top;\n",
       "    }\n",
       "\n",
       "    .dataframe thead th {\n",
       "        text-align: right;\n",
       "    }\n",
       "</style>\n",
       "<table border=\"1\" class=\"dataframe\">\n",
       "  <thead>\n",
       "    <tr style=\"text-align: right;\">\n",
       "      <th></th>\n",
       "      <th>z</th>\n",
       "    </tr>\n",
       "    <tr>\n",
       "      <th>i</th>\n",
       "      <th></th>\n",
       "    </tr>\n",
       "  </thead>\n",
       "  <tbody>\n",
       "    <tr>\n",
       "      <th>0</th>\n",
       "      <td>$3.00\\pm0.33$</td>\n",
       "    </tr>\n",
       "    <tr>\n",
       "      <th>1</th>\n",
       "      <td>$2.36\\pm0.23$</td>\n",
       "    </tr>\n",
       "    <tr>\n",
       "      <th>2</th>\n",
       "      <td>$3.03\\pm0.36$</td>\n",
       "    </tr>\n",
       "    <tr>\n",
       "      <th>3</th>\n",
       "      <td>$2.85\\pm0.32$</td>\n",
       "    </tr>\n",
       "    <tr>\n",
       "      <th>4</th>\n",
       "      <td>$3.00\\pm0.38$</td>\n",
       "    </tr>\n",
       "  </tbody>\n",
       "</table>\n",
       "</div>"
      ],
      "text/plain": [
       "               z\n",
       "i               \n",
       "0  $3.00\\pm0.33$\n",
       "1  $2.36\\pm0.23$\n",
       "2  $3.03\\pm0.36$\n",
       "3  $2.85\\pm0.32$\n",
       "4  $3.00\\pm0.38$"
      ]
     },
     "metadata": {},
     "output_type": "display_data"
    },
    {
     "name": "stdout",
     "output_type": "stream",
     "text": [
      "\\begin{table}[H]\n",
      "\\centering\n",
      "\\begin{tabular}{l}\n",
      "\\toprule\n",
      "z \\\\\n",
      "\\midrule\n",
      "$3.00\\pm0.33$ \\\\\n",
      "$2.36\\pm0.23$ \\\\\n",
      "$3.03\\pm0.36$ \\\\\n",
      "$2.85\\pm0.32$ \\\\\n",
      "$3.00\\pm0.38$ \\\\\n",
      "\\bottomrule\n",
      "\\end{tabular}\n",
      "\\caption{Caption}\n",
      "\\label{tab:labelname}\n",
      "\\end{table}\n",
      "\n"
     ]
    }
   ],
   "source": [
    "z_vals_grouped = pt.Err.from_data(z_data, axis = 1)\n",
    "\n",
    "grouped_z_table_1 = pd.DataFrame({\n",
    "    f'z_{i}' : [val.formatted_mean(), val.formatted_err()] for i, val in enumerate(z_vals_grouped)\n",
    "}, index = ['mean', 'error'])\n",
    "\n",
    "grouped_z_table_2 = pd.DataFrame({\n",
    "    'z' : z_vals_grouped.latex()\n",
    "})\n",
    "grouped_z_table_2.index.name = 'i'\n",
    "\n",
    "display(z_vals_grouped)\n",
    "pt.log(grouped_z_table_1)\n",
    "pt.log(grouped_z_table_2)"
   ]
  },
  {
   "cell_type": "code",
   "execution_count": 5,
   "metadata": {},
   "outputs": [
    {
     "data": {
      "text/latex": [
       "$2.85\\pm0.15$"
      ],
      "text/plain": [
       "2.85 ± 0.15"
      ]
     },
     "metadata": {},
     "output_type": "display_data"
    },
    {
     "data": {
      "text/latex": [
       "$2.74\\pm0.14$"
      ],
      "text/plain": [
       "2.74 ± 0.14"
      ]
     },
     "metadata": {},
     "output_type": "display_data"
    }
   ],
   "source": [
    "z_val_1 = z_vals_grouped.average()\n",
    "z_val_2 = z_vals_grouped.weighted_average()\n",
    "\n",
    "display(z_val_1)\n",
    "display(z_val_2)"
   ]
  },
  {
   "cell_type": "code",
   "execution_count": 6,
   "metadata": {},
   "outputs": [
    {
     "name": "stdout",
     "output_type": "stream",
     "text": [
      "our initial equation\n"
     ]
    },
    {
     "data": {
      "text/latex": [
       "$\\displaystyle w + y - \\sin{\\left(x \\right)} = \\frac{a e^{y \\sin{\\left(x \\right)}}}{z} + 2$"
      ],
      "text/plain": [
       "Eq(w + y - sin(x), a*exp(y*sin(x))/z + 2)"
      ]
     },
     "metadata": {},
     "output_type": "display_data"
    },
    {
     "name": "stdout",
     "output_type": "stream",
     "text": [
      "our equation solved for w\n"
     ]
    },
    {
     "data": {
      "text/latex": [
       "$\\displaystyle \\frac{a e^{y \\sin{\\left(x \\right)}}}{z} - y + \\sin{\\left(x \\right)} + 2$"
      ],
      "text/plain": [
       "a*exp(y*sin(x))/z - y + sin(x) + 2"
      ]
     },
     "metadata": {},
     "output_type": "display_data"
    },
    {
     "name": "stdout",
     "output_type": "stream",
     "text": [
      "error derivation of w assuming x,y,z are values with errors and a is a constant\n"
     ]
    },
    {
     "data": {
      "text/latex": [
       "$\\displaystyle s_{w}^{2} = s_{x}^{2} \\left(\\frac{\\partial}{\\partial x} w{\\left(z,x,y \\right)}\\right)^{2} + s_{y}^{2} \\left(\\frac{\\partial}{\\partial y} w{\\left(z,x,y \\right)}\\right)^{2} + s_{z}^{2} \\left(\\frac{\\partial}{\\partial z} w{\\left(z,x,y \\right)}\\right)^{2}$"
      ],
      "text/plain": [
       "Eq(s_w**2, s_x**2*Derivative(w(z, x, y), x)**2 + s_y**2*Derivative(w(z, x, y), y)**2 + s_z**2*Derivative(w(z, x, y), z)**2)"
      ]
     },
     "metadata": {},
     "output_type": "display_data"
    },
    {
     "data": {
      "text/latex": [
       "$\\displaystyle s_{w}^{2} = s_{x}^{2} \\left(\\frac{a y e^{y \\sin{\\left(x \\right)}} \\cos{\\left(x \\right)}}{z} + \\cos{\\left(x \\right)}\\right)^{2} + s_{y}^{2} \\left(\\frac{a e^{y \\sin{\\left(x \\right)}} \\sin{\\left(x \\right)}}{z} - 1\\right)^{2} + s_{z}^{2} \\left(- \\frac{a e^{y \\sin{\\left(x \\right)}}}{z^{2}}\\right)^{2}$"
      ],
      "text/plain": [
       "Eq(s_w**2, s_x**2*(a*y*exp(y*sin(x))*cos(x)/z + cos(x))**2 + s_y**2*(a*exp(y*sin(x))*sin(x)/z - 1)**2 + s_z**2*(-a*exp(y*sin(x))/z**2)**2)"
      ]
     },
     "metadata": {},
     "output_type": "display_data"
    },
    {
     "data": {
      "text/latex": [
       "$\\displaystyle s_{w} = \\sqrt{s_{x}^{2} \\left(\\frac{a y e^{y \\sin{\\left(x \\right)}} \\cos{\\left(x \\right)}}{z} + \\cos{\\left(x \\right)}\\right)^{2} + s_{y}^{2} \\left(\\frac{a e^{y \\sin{\\left(x \\right)}} \\sin{\\left(x \\right)}}{z} - 1\\right)^{2} + s_{z}^{2} \\left(- \\frac{a e^{y \\sin{\\left(x \\right)}}}{z^{2}}\\right)^{2}}$"
      ],
      "text/plain": [
       "Eq(s_w, sqrt(s_x**2*(a*y*exp(y*sin(x))*cos(x)/z + cos(x))**2 + s_y**2*(a*exp(y*sin(x))*sin(x)/z - 1)**2 + s_z**2*(-a*exp(y*sin(x))/z**2)**2))"
      ]
     },
     "metadata": {},
     "output_type": "display_data"
    },
    {
     "data": {
      "text/latex": [
       "$\\displaystyle \\sqrt{s_{x}^{2} \\left(\\frac{a y e^{y \\sin{\\left(x \\right)}} \\cos{\\left(x \\right)}}{z} + \\cos{\\left(x \\right)}\\right)^{2} + s_{y}^{2} \\left(\\frac{a e^{y \\sin{\\left(x \\right)}} \\sin{\\left(x \\right)}}{z} - 1\\right)^{2} + s_{z}^{2} \\left(- \\frac{a e^{y \\sin{\\left(x \\right)}}}{z^{2}}\\right)^{2}}$"
      ],
      "text/plain": [
       "sqrt(s_x**2*(a*y*exp(y*sin(x))*cos(x)/z + cos(x))**2 + s_y**2*(a*exp(y*sin(x))*sin(x)/z - 1)**2 + s_z**2*(-a*exp(y*sin(x))/z**2)**2)"
      ]
     },
     "execution_count": 6,
     "metadata": {},
     "output_type": "execute_result"
    }
   ],
   "source": [
    "a,x,y,z,w = sympy.symbols('a,x,y,z,w')\n",
    "\n",
    "print('our initial equation')\n",
    "some_equation = sympy.Eq(w + y - sympy.sin(x), a * sympy.exp(y * sympy.sin(x)) / z + 2)\n",
    "display(some_equation)\n",
    "\n",
    "print('our equation solved for w')\n",
    "w_expr = sympy.solve(some_equation, w)[0]\n",
    "display(w_expr)\n",
    "\n",
    "print('error derivation of w assuming x,y,z are values with errors and a is a constant')\n",
    "pt.derive_err(w_expr, values = [x,y,z], target_symbol=w, do_display=True)"
   ]
  },
  {
   "cell_type": "code",
   "execution_count": 7,
   "metadata": {},
   "outputs": [
    {
     "name": "stdout",
     "output_type": "stream",
     "text": [
      "The error when computed for each value in the grouped z vals seperately\n"
     ]
    },
    {
     "data": {
      "text/latex": [
       "$6.8\\pm3.4\\\\8.5\\pm4.2\\\\6.8\\pm3.4\\\\7.1\\pm3.6\\\\6.8\\pm3.4$"
      ],
      "text/plain": [
       "['6.8' '8.5' '6.8' '7.1' '6.8'] ± ['3.4' '4.2' '3.4' '3.6' '3.4']"
      ]
     },
     "metadata": {},
     "output_type": "display_data"
    },
    {
     "name": "stdout",
     "output_type": "stream",
     "text": [
      "The average of the values above\n"
     ]
    },
    {
     "data": {
      "text/latex": [
       "$7.2\\pm1.6$"
      ],
      "text/plain": [
       "7.2 ± 1.6"
      ]
     },
     "metadata": {},
     "output_type": "display_data"
    },
    {
     "name": "stdout",
     "output_type": "stream",
     "text": [
      "The error when computed for the averaged z value\n"
     ]
    },
    {
     "data": {
      "text/latex": [
       "$7.1\\pm3.5$"
      ],
      "text/plain": [
       "7.1 ± 3.5"
      ]
     },
     "metadata": {},
     "output_type": "display_data"
    },
    {
     "name": "stdout",
     "output_type": "stream",
     "text": [
      "The value computed with the true means of the distribution\n"
     ]
    },
    {
     "data": {
      "text/latex": [
       "$6.5\\pm0$"
      ],
      "text/plain": [
       "6.5 ± 0"
      ]
     },
     "metadata": {},
     "output_type": "display_data"
    }
   ],
   "source": [
    "w_grouped_val = pt.calc_err(w_expr, {a : np.pi, x: x_val, y: y_val, z: z_vals_grouped})\n",
    "w_val_1 = w_grouped_val.average()\n",
    "w_val_2 = pt.calc_err(w_expr, {a : np.pi, x: x_val, y: y_val, z: z_val_1})\n",
    "theoretical_val = pt.calc_err(w_expr, {a: np.pi, x: x_center, y: y_center, z: z_center})\n",
    "print('The error when computed for each value in the grouped z vals seperately')\n",
    "display(w_grouped_val)\n",
    "print('The average of the values above')\n",
    "display(w_val_1)\n",
    "print('The error when computed for the averaged z value')\n",
    "display(w_val_2)\n",
    "print('The value computed with the true means of the distribution')\n",
    "display(theoretical_val)\n",
    "\n",
    "assert w_val_1.approx_eq(theoretical_val)\n",
    "assert w_val_2.approx_eq(theoretical_val)"
   ]
  },
  {
   "cell_type": "code",
   "execution_count": 8,
   "metadata": {},
   "outputs": [
    {
     "data": {
      "text/latex": [
       "$7.45\\pm0.63$"
      ],
      "text/plain": [
       "7.45 ± 0.63"
      ]
     },
     "metadata": {},
     "output_type": "display_data"
    },
    {
     "data": {
      "text/latex": [
       "$7.45\\pm0.58$"
      ],
      "text/plain": [
       "7.45 ± 0.58"
      ]
     },
     "metadata": {},
     "output_type": "display_data"
    }
   ],
   "source": [
    "u_val_1 = pt.calc_err(x + y**2 + y, {x: x_val, y: y_val})\n",
    "u_val_2 = x_val + y_val**2 + y_val \n",
    "#since the terms y_val**2 and y_val are evaluated separately their correlation will not be captured in the final result. \n",
    "#In this case it is better to use the calc_err method\n",
    "display(u_val_1)\n",
    "display(u_val_2)\n",
    "assert not u_val_1.allclose(u_val_2)"
   ]
  },
  {
   "cell_type": "code",
   "execution_count": 9,
   "metadata": {},
   "outputs": [
    {
     "data": {
      "text/latex": [
       "$1.00\\pm0.45$"
      ],
      "text/plain": [
       "1.00 ± 0.45"
      ]
     },
     "metadata": {},
     "output_type": "display_data"
    },
    {
     "data": {
      "text/latex": [
       "$1.00\\pm0.45$"
      ],
      "text/plain": [
       "1.00 ± 0.45"
      ]
     },
     "metadata": {},
     "output_type": "display_data"
    }
   ],
   "source": [
    "v_val_1 = pt.calc_err(x**sympy.sin(y**0.5), {x: x_val, y: y_val})\n",
    "v_val_2 = x_val**(y_val**0.5).apply(sympy.sin) \n",
    "#if every independent variable only appears once in the expression the result of calc_err and direct evaluation will match up!\n",
    "#In this case direct evaluation is sufficent\n",
    "display(v_val_1)\n",
    "display(v_val_2)\n",
    "assert v_val_1.allclose(v_val_2)"
   ]
  }
 ],
 "metadata": {
  "kernelspec": {
   "display_name": "Python 3",
   "language": "python",
   "name": "python3"
  },
  "language_info": {
   "codemirror_mode": {
    "name": "ipython",
    "version": 3
   },
   "file_extension": ".py",
   "mimetype": "text/x-python",
   "name": "python",
   "nbconvert_exporter": "python",
   "pygments_lexer": "ipython3",
   "version": "3.11.5"
  }
 },
 "nbformat": 4,
 "nbformat_minor": 2
}
