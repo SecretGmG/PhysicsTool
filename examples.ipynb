{
 "cells": [
  {
   "cell_type": "code",
   "execution_count": 1,
   "metadata": {},
   "outputs": [],
   "source": [
    "import PhysicsTool as pt\n",
    "import pandas as pd\n",
    "import numpy as np\n",
    "import sympy"
   ]
  },
  {
   "cell_type": "code",
   "execution_count": 2,
   "metadata": {},
   "outputs": [
    {
     "name": "stdout",
     "output_type": "stream",
     "text": [
      "x = 1.0 +- 0.45\n"
     ]
    },
    {
     "data": {
      "text/html": [
       "<div>\n",
       "<style scoped>\n",
       "    .dataframe tbody tr th:only-of-type {\n",
       "        vertical-align: middle;\n",
       "    }\n",
       "\n",
       "    .dataframe tbody tr th {\n",
       "        vertical-align: top;\n",
       "    }\n",
       "\n",
       "    .dataframe thead th {\n",
       "        text-align: right;\n",
       "    }\n",
       "</style>\n",
       "<table border=\"1\" class=\"dataframe\">\n",
       "  <thead>\n",
       "    <tr style=\"text-align: right;\">\n",
       "      <th></th>\n",
       "      <th>y</th>\n",
       "      <th>z_0</th>\n",
       "      <th>z_1</th>\n",
       "      <th>z_2</th>\n",
       "      <th>z_3</th>\n",
       "      <th>z_4</th>\n",
       "    </tr>\n",
       "  </thead>\n",
       "  <tbody>\n",
       "    <tr>\n",
       "      <th>0</th>\n",
       "      <td>0.793617</td>\n",
       "      <td>3.949702</td>\n",
       "      <td>3.710666</td>\n",
       "      <td>5.878693</td>\n",
       "      <td>4.962861</td>\n",
       "      <td>5.974544</td>\n",
       "    </tr>\n",
       "    <tr>\n",
       "      <th>1</th>\n",
       "      <td>1.967730</td>\n",
       "      <td>3.893219</td>\n",
       "      <td>3.928890</td>\n",
       "      <td>2.316378</td>\n",
       "      <td>3.672942</td>\n",
       "      <td>3.440006</td>\n",
       "    </tr>\n",
       "    <tr>\n",
       "      <th>2</th>\n",
       "      <td>1.889765</td>\n",
       "      <td>3.673844</td>\n",
       "      <td>1.853938</td>\n",
       "      <td>0.936133</td>\n",
       "      <td>2.382888</td>\n",
       "      <td>3.941092</td>\n",
       "    </tr>\n",
       "    <tr>\n",
       "      <th>3</th>\n",
       "      <td>2.439145</td>\n",
       "      <td>2.315591</td>\n",
       "      <td>0.966982</td>\n",
       "      <td>1.703573</td>\n",
       "      <td>2.202764</td>\n",
       "      <td>-1.295778</td>\n",
       "    </tr>\n",
       "    <tr>\n",
       "      <th>4</th>\n",
       "      <td>2.241643</td>\n",
       "      <td>3.919951</td>\n",
       "      <td>5.714940</td>\n",
       "      <td>0.671568</td>\n",
       "      <td>2.473637</td>\n",
       "      <td>1.900892</td>\n",
       "    </tr>\n",
       "    <tr>\n",
       "      <th>5</th>\n",
       "      <td>1.729111</td>\n",
       "      <td>1.075743</td>\n",
       "      <td>2.588429</td>\n",
       "      <td>2.490040</td>\n",
       "      <td>4.379828</td>\n",
       "      <td>2.334919</td>\n",
       "    </tr>\n",
       "    <tr>\n",
       "      <th>6</th>\n",
       "      <td>2.114782</td>\n",
       "      <td>3.427674</td>\n",
       "      <td>3.309342</td>\n",
       "      <td>0.628037</td>\n",
       "      <td>3.206281</td>\n",
       "      <td>3.125491</td>\n",
       "    </tr>\n",
       "    <tr>\n",
       "      <th>7</th>\n",
       "      <td>2.151061</td>\n",
       "      <td>2.935183</td>\n",
       "      <td>3.763614</td>\n",
       "      <td>2.369728</td>\n",
       "      <td>3.785954</td>\n",
       "      <td>3.252499</td>\n",
       "    </tr>\n",
       "    <tr>\n",
       "      <th>8</th>\n",
       "      <td>1.839636</td>\n",
       "      <td>2.616197</td>\n",
       "      <td>1.953316</td>\n",
       "      <td>3.210605</td>\n",
       "      <td>3.991930</td>\n",
       "      <td>5.150606</td>\n",
       "    </tr>\n",
       "    <tr>\n",
       "      <th>9</th>\n",
       "      <td>3.080781</td>\n",
       "      <td>0.275582</td>\n",
       "      <td>3.742041</td>\n",
       "      <td>2.192267</td>\n",
       "      <td>2.151457</td>\n",
       "      <td>4.586211</td>\n",
       "    </tr>\n",
       "    <tr>\n",
       "      <th>10</th>\n",
       "      <td>1.786234</td>\n",
       "      <td>4.325546</td>\n",
       "      <td>3.606138</td>\n",
       "      <td>2.865582</td>\n",
       "      <td>1.630233</td>\n",
       "      <td>4.817254</td>\n",
       "    </tr>\n",
       "    <tr>\n",
       "      <th>11</th>\n",
       "      <td>1.456079</td>\n",
       "      <td>2.453816</td>\n",
       "      <td>0.836890</td>\n",
       "      <td>3.851595</td>\n",
       "      <td>3.752442</td>\n",
       "      <td>1.484253</td>\n",
       "    </tr>\n",
       "    <tr>\n",
       "      <th>12</th>\n",
       "      <td>2.356801</td>\n",
       "      <td>2.188230</td>\n",
       "      <td>2.723003</td>\n",
       "      <td>4.002181</td>\n",
       "      <td>4.956433</td>\n",
       "      <td>-0.186255</td>\n",
       "    </tr>\n",
       "    <tr>\n",
       "      <th>13</th>\n",
       "      <td>3.252657</td>\n",
       "      <td>4.091808</td>\n",
       "      <td>6.653880</td>\n",
       "      <td>0.366231</td>\n",
       "      <td>2.255261</td>\n",
       "      <td>3.371356</td>\n",
       "    </tr>\n",
       "    <tr>\n",
       "      <th>14</th>\n",
       "      <td>1.243505</td>\n",
       "      <td>3.386468</td>\n",
       "      <td>3.343578</td>\n",
       "      <td>3.938841</td>\n",
       "      <td>3.409623</td>\n",
       "      <td>3.376190</td>\n",
       "    </tr>\n",
       "    <tr>\n",
       "      <th>15</th>\n",
       "      <td>1.921775</td>\n",
       "      <td>2.672221</td>\n",
       "      <td>4.780249</td>\n",
       "      <td>2.542259</td>\n",
       "      <td>2.103997</td>\n",
       "      <td>3.393650</td>\n",
       "    </tr>\n",
       "    <tr>\n",
       "      <th>16</th>\n",
       "      <td>1.876069</td>\n",
       "      <td>3.464886</td>\n",
       "      <td>1.718705</td>\n",
       "      <td>3.057060</td>\n",
       "      <td>3.086942</td>\n",
       "      <td>4.913157</td>\n",
       "    </tr>\n",
       "    <tr>\n",
       "      <th>17</th>\n",
       "      <td>2.371953</td>\n",
       "      <td>2.326705</td>\n",
       "      <td>2.649866</td>\n",
       "      <td>3.252406</td>\n",
       "      <td>3.414725</td>\n",
       "      <td>3.330726</td>\n",
       "    </tr>\n",
       "    <tr>\n",
       "      <th>18</th>\n",
       "      <td>2.039799</td>\n",
       "      <td>2.782911</td>\n",
       "      <td>5.113034</td>\n",
       "      <td>3.739665</td>\n",
       "      <td>2.032189</td>\n",
       "      <td>1.308519</td>\n",
       "    </tr>\n",
       "    <tr>\n",
       "      <th>19</th>\n",
       "      <td>0.875517</td>\n",
       "      <td>4.194571</td>\n",
       "      <td>4.303014</td>\n",
       "      <td>2.957657</td>\n",
       "      <td>1.053483</td>\n",
       "      <td>3.827266</td>\n",
       "    </tr>\n",
       "  </tbody>\n",
       "</table>\n",
       "</div>"
      ],
      "text/plain": [
       "           y       z_0       z_1       z_2       z_3       z_4\n",
       "0   0.793617  3.949702  3.710666  5.878693  4.962861  5.974544\n",
       "1   1.967730  3.893219  3.928890  2.316378  3.672942  3.440006\n",
       "2   1.889765  3.673844  1.853938  0.936133  2.382888  3.941092\n",
       "3   2.439145  2.315591  0.966982  1.703573  2.202764 -1.295778\n",
       "4   2.241643  3.919951  5.714940  0.671568  2.473637  1.900892\n",
       "5   1.729111  1.075743  2.588429  2.490040  4.379828  2.334919\n",
       "6   2.114782  3.427674  3.309342  0.628037  3.206281  3.125491\n",
       "7   2.151061  2.935183  3.763614  2.369728  3.785954  3.252499\n",
       "8   1.839636  2.616197  1.953316  3.210605  3.991930  5.150606\n",
       "9   3.080781  0.275582  3.742041  2.192267  2.151457  4.586211\n",
       "10  1.786234  4.325546  3.606138  2.865582  1.630233  4.817254\n",
       "11  1.456079  2.453816  0.836890  3.851595  3.752442  1.484253\n",
       "12  2.356801  2.188230  2.723003  4.002181  4.956433 -0.186255\n",
       "13  3.252657  4.091808  6.653880  0.366231  2.255261  3.371356\n",
       "14  1.243505  3.386468  3.343578  3.938841  3.409623  3.376190\n",
       "15  1.921775  2.672221  4.780249  2.542259  2.103997  3.393650\n",
       "16  1.876069  3.464886  1.718705  3.057060  3.086942  4.913157\n",
       "17  2.371953  2.326705  2.649866  3.252406  3.414725  3.330726\n",
       "18  2.039799  2.782911  5.113034  3.739665  2.032189  1.308519\n",
       "19  0.875517  4.194571  4.303014  2.957657  1.053483  3.827266"
      ]
     },
     "metadata": {},
     "output_type": "display_data"
    }
   ],
   "source": [
    "x_center = 1.0\n",
    "y_center = 2.0\n",
    "z_center = 3.0\n",
    "\n",
    "x_mean = x_center\n",
    "x_error = 0.45\n",
    "y_data = np.random.standard_normal(20) * 0.5 + y_center\n",
    "z_data = np.random.standard_normal((5, 20)) * 1.5 + z_center\n",
    "\n",
    "raw_data_table = pd.DataFrame({\n",
    "    'y' : y_data,\n",
    "} | {\n",
    "    f'z_{i}' : col for i, col in enumerate(z_data)\n",
    "})\n",
    "print(f'x = {x_mean} +- {x_error}')\n",
    "display(raw_data_table)"
   ]
  },
  {
   "cell_type": "code",
   "execution_count": 3,
   "metadata": {},
   "outputs": [
    {
     "data": {
      "text/latex": [
       "$$1.00\\pm0.45$$"
      ],
      "text/plain": [
       "1.00 ± 0.45"
      ]
     },
     "metadata": {},
     "output_type": "display_data"
    },
    {
     "data": {
      "text/latex": [
       "$$1.97\\pm0.14$$"
      ],
      "text/plain": [
       "1.97 ± 0.14"
      ]
     },
     "metadata": {},
     "output_type": "display_data"
    }
   ],
   "source": [
    "x_val = pt.Err(x_mean, x_error)\n",
    "y_val = pt.Err.from_data(y_data)\n",
    "display(x_val)\n",
    "display(y_val)"
   ]
  },
  {
   "cell_type": "code",
   "execution_count": 4,
   "metadata": {},
   "outputs": [
    {
     "data": {
      "text/latex": [
       "$$3.00\\pm0.24\\\\3.36\\pm0.34\\\\2.65\\pm0.30\\\\3.05\\pm0.24\\\\3.10\\pm0.40$$"
      ],
      "text/plain": [
       "['3.00' '3.36' '2.65' '3.05' '3.10'] ± ['0.24' '0.34' '0.30' '0.24' '0.40']"
      ]
     },
     "metadata": {},
     "output_type": "display_data"
    },
    {
     "data": {
      "text/html": [
       "<div>\n",
       "<style scoped>\n",
       "    .dataframe tbody tr th:only-of-type {\n",
       "        vertical-align: middle;\n",
       "    }\n",
       "\n",
       "    .dataframe tbody tr th {\n",
       "        vertical-align: top;\n",
       "    }\n",
       "\n",
       "    .dataframe thead th {\n",
       "        text-align: right;\n",
       "    }\n",
       "</style>\n",
       "<table border=\"1\" class=\"dataframe\">\n",
       "  <thead>\n",
       "    <tr style=\"text-align: right;\">\n",
       "      <th></th>\n",
       "      <th>z_0</th>\n",
       "      <th>z_1</th>\n",
       "      <th>z_2</th>\n",
       "      <th>z_3</th>\n",
       "      <th>z_4</th>\n",
       "    </tr>\n",
       "  </thead>\n",
       "  <tbody>\n",
       "    <tr>\n",
       "      <th>mean</th>\n",
       "      <td>3.00</td>\n",
       "      <td>3.36</td>\n",
       "      <td>2.65</td>\n",
       "      <td>3.05</td>\n",
       "      <td>3.10</td>\n",
       "    </tr>\n",
       "    <tr>\n",
       "      <th>error</th>\n",
       "      <td>0.24</td>\n",
       "      <td>0.34</td>\n",
       "      <td>0.30</td>\n",
       "      <td>0.24</td>\n",
       "      <td>0.40</td>\n",
       "    </tr>\n",
       "  </tbody>\n",
       "</table>\n",
       "</div>"
      ],
      "text/plain": [
       "        z_0   z_1   z_2   z_3   z_4\n",
       "mean   3.00  3.36  2.65  3.05  3.10\n",
       "error  0.24  0.34  0.30  0.24  0.40"
      ]
     },
     "metadata": {},
     "output_type": "display_data"
    },
    {
     "name": "stdout",
     "output_type": "stream",
     "text": [
      "\\begin{table}[H]\n",
      "\\centering\n",
      "\\begin{tabular}{lllll}\n",
      "\\toprule\n",
      "z_0 & z_1 & z_2 & z_3 & z_4 \\\\\n",
      "\\midrule\n",
      "3.00 & 3.36 & 2.65 & 3.05 & 3.10 \\\\\n",
      "0.24 & 0.34 & 0.30 & 0.24 & 0.40 \\\\\n",
      "\\bottomrule\n",
      "\\end{tabular}\n",
      "\\caption{Caption}\n",
      "\\label{tab:labelname}\n",
      "\\end{table}\n",
      "\n"
     ]
    },
    {
     "data": {
      "text/html": [
       "<div>\n",
       "<style scoped>\n",
       "    .dataframe tbody tr th:only-of-type {\n",
       "        vertical-align: middle;\n",
       "    }\n",
       "\n",
       "    .dataframe tbody tr th {\n",
       "        vertical-align: top;\n",
       "    }\n",
       "\n",
       "    .dataframe thead th {\n",
       "        text-align: right;\n",
       "    }\n",
       "</style>\n",
       "<table border=\"1\" class=\"dataframe\">\n",
       "  <thead>\n",
       "    <tr style=\"text-align: right;\">\n",
       "      <th></th>\n",
       "      <th>z</th>\n",
       "    </tr>\n",
       "    <tr>\n",
       "      <th>i</th>\n",
       "      <th></th>\n",
       "    </tr>\n",
       "  </thead>\n",
       "  <tbody>\n",
       "    <tr>\n",
       "      <th>0</th>\n",
       "      <td>$3.00\\pm0.24$</td>\n",
       "    </tr>\n",
       "    <tr>\n",
       "      <th>1</th>\n",
       "      <td>$3.36\\pm0.34$</td>\n",
       "    </tr>\n",
       "    <tr>\n",
       "      <th>2</th>\n",
       "      <td>$2.65\\pm0.30$</td>\n",
       "    </tr>\n",
       "    <tr>\n",
       "      <th>3</th>\n",
       "      <td>$3.05\\pm0.24$</td>\n",
       "    </tr>\n",
       "    <tr>\n",
       "      <th>4</th>\n",
       "      <td>$3.10\\pm0.40$</td>\n",
       "    </tr>\n",
       "  </tbody>\n",
       "</table>\n",
       "</div>"
      ],
      "text/plain": [
       "               z\n",
       "i               \n",
       "0  $3.00\\pm0.24$\n",
       "1  $3.36\\pm0.34$\n",
       "2  $2.65\\pm0.30$\n",
       "3  $3.05\\pm0.24$\n",
       "4  $3.10\\pm0.40$"
      ]
     },
     "metadata": {},
     "output_type": "display_data"
    },
    {
     "name": "stdout",
     "output_type": "stream",
     "text": [
      "\\begin{table}[H]\n",
      "\\centering\n",
      "\\begin{tabular}{l}\n",
      "\\toprule\n",
      "z \\\\\n",
      "\\midrule\n",
      "$3.00\\pm0.24$ \\\\\n",
      "$3.36\\pm0.34$ \\\\\n",
      "$2.65\\pm0.30$ \\\\\n",
      "$3.05\\pm0.24$ \\\\\n",
      "$3.10\\pm0.40$ \\\\\n",
      "\\bottomrule\n",
      "\\end{tabular}\n",
      "\\caption{Caption}\n",
      "\\label{tab:labelname}\n",
      "\\end{table}\n",
      "\n"
     ]
    }
   ],
   "source": [
    "z_vals_grouped = pt.Err.from_data(z_data, axis = 1)\n",
    "\n",
    "grouped_z_table_1 = pd.DataFrame({\n",
    "    f'z_{i}' : [val.formatted_mean(), val.formatted_err()] for i, val in enumerate(z_vals_grouped)\n",
    "}, index = ['mean', 'error'])\n",
    "\n",
    "grouped_z_table_2 = pd.DataFrame({\n",
    "    'z' : z_vals_grouped.latex_array()\n",
    "})\n",
    "grouped_z_table_2.index.name = 'i'\n",
    "\n",
    "# this is shown correctly in the vscode notebook view but not in the github preview TODO\n",
    "display(z_vals_grouped) \n",
    "pt.log(grouped_z_table_1)\n",
    "pt.log(grouped_z_table_2)"
   ]
  },
  {
   "cell_type": "code",
   "execution_count": 5,
   "metadata": {},
   "outputs": [
    {
     "data": {
      "text/latex": [
       "$$3.03\\pm0.14$$"
      ],
      "text/plain": [
       "3.03 ± 0.14"
      ]
     },
     "metadata": {},
     "output_type": "display_data"
    },
    {
     "data": {
      "text/latex": [
       "$$3.01\\pm0.13$$"
      ],
      "text/plain": [
       "3.01 ± 0.13"
      ]
     },
     "metadata": {},
     "output_type": "display_data"
    }
   ],
   "source": [
    "z_val_1 = z_vals_grouped.average()\n",
    "z_val_2 = z_vals_grouped.weighted_average()\n",
    "\n",
    "display(z_val_1)\n",
    "display(z_val_2)"
   ]
  },
  {
   "cell_type": "code",
   "execution_count": 6,
   "metadata": {},
   "outputs": [
    {
     "name": "stdout",
     "output_type": "stream",
     "text": [
      "our initial equation\n"
     ]
    },
    {
     "data": {
      "text/latex": [
       "$\\displaystyle w + y - \\sin{\\left(x \\right)} = \\frac{a e^{y \\sin{\\left(x \\right)}}}{z} + 2$"
      ],
      "text/plain": [
       "Eq(w + y - sin(x), a*exp(y*sin(x))/z + 2)"
      ]
     },
     "metadata": {},
     "output_type": "display_data"
    },
    {
     "name": "stdout",
     "output_type": "stream",
     "text": [
      "our equation solved for w\n"
     ]
    },
    {
     "data": {
      "text/latex": [
       "$\\displaystyle \\frac{a e^{y \\sin{\\left(x \\right)}}}{z} - y + \\sin{\\left(x \\right)} + 2$"
      ],
      "text/plain": [
       "a*exp(y*sin(x))/z - y + sin(x) + 2"
      ]
     },
     "metadata": {},
     "output_type": "display_data"
    },
    {
     "name": "stdout",
     "output_type": "stream",
     "text": [
      "error derivation of w assuming x,y,z are values with errors and a is a constant\n"
     ]
    },
    {
     "data": {
      "text/latex": [
       "$\\displaystyle s_{w}^{2} = s_{x}^{2} \\left(\\frac{\\partial}{\\partial x} w{\\left(x,z,y \\right)}\\right)^{2} + s_{y}^{2} \\left(\\frac{\\partial}{\\partial y} w{\\left(x,z,y \\right)}\\right)^{2} + s_{z}^{2} \\left(\\frac{\\partial}{\\partial z} w{\\left(x,z,y \\right)}\\right)^{2}$"
      ],
      "text/plain": [
       "Eq(s_w**2, s_x**2*Derivative(w(x, z, y), x)**2 + s_y**2*Derivative(w(x, z, y), y)**2 + s_z**2*Derivative(w(x, z, y), z)**2)"
      ]
     },
     "metadata": {},
     "output_type": "display_data"
    },
    {
     "data": {
      "text/latex": [
       "$\\displaystyle s_{w}^{2} = s_{x}^{2} \\left(\\frac{a y e^{y \\sin{\\left(x \\right)}} \\cos{\\left(x \\right)}}{z} + \\cos{\\left(x \\right)}\\right)^{2} + s_{y}^{2} \\left(\\frac{a e^{y \\sin{\\left(x \\right)}} \\sin{\\left(x \\right)}}{z} - 1\\right)^{2} + s_{z}^{2} \\left(- \\frac{a e^{y \\sin{\\left(x \\right)}}}{z^{2}}\\right)^{2}$"
      ],
      "text/plain": [
       "Eq(s_w**2, s_x**2*(a*y*exp(y*sin(x))*cos(x)/z + cos(x))**2 + s_y**2*(a*exp(y*sin(x))*sin(x)/z - 1)**2 + s_z**2*(-a*exp(y*sin(x))/z**2)**2)"
      ]
     },
     "metadata": {},
     "output_type": "display_data"
    },
    {
     "data": {
      "text/latex": [
       "$\\displaystyle s_{w} = \\sqrt{s_{x}^{2} \\left(\\frac{a y e^{y \\sin{\\left(x \\right)}} \\cos{\\left(x \\right)}}{z} + \\cos{\\left(x \\right)}\\right)^{2} + s_{y}^{2} \\left(\\frac{a e^{y \\sin{\\left(x \\right)}} \\sin{\\left(x \\right)}}{z} - 1\\right)^{2} + s_{z}^{2} \\left(- \\frac{a e^{y \\sin{\\left(x \\right)}}}{z^{2}}\\right)^{2}}$"
      ],
      "text/plain": [
       "Eq(s_w, sqrt(s_x**2*(a*y*exp(y*sin(x))*cos(x)/z + cos(x))**2 + s_y**2*(a*exp(y*sin(x))*sin(x)/z - 1)**2 + s_z**2*(-a*exp(y*sin(x))/z**2)**2))"
      ]
     },
     "metadata": {},
     "output_type": "display_data"
    },
    {
     "data": {
      "text/latex": [
       "$\\displaystyle \\sqrt{s_{x}^{2} \\left(\\frac{a y e^{y \\sin{\\left(x \\right)}} \\cos{\\left(x \\right)}}{z} + \\cos{\\left(x \\right)}\\right)^{2} + s_{y}^{2} \\left(\\frac{a e^{y \\sin{\\left(x \\right)}} \\sin{\\left(x \\right)}}{z} - 1\\right)^{2} + s_{z}^{2} \\left(- \\frac{a e^{y \\sin{\\left(x \\right)}}}{z^{2}}\\right)^{2}}$"
      ],
      "text/plain": [
       "sqrt(s_x**2*(a*y*exp(y*sin(x))*cos(x)/z + cos(x))**2 + s_y**2*(a*exp(y*sin(x))*sin(x)/z - 1)**2 + s_z**2*(-a*exp(y*sin(x))/z**2)**2)"
      ]
     },
     "execution_count": 6,
     "metadata": {},
     "output_type": "execute_result"
    }
   ],
   "source": [
    "a,x,y,z,w = sympy.symbols('a,x,y,z,w')\n",
    "\n",
    "print('our initial equation')\n",
    "some_equation = sympy.Eq(w + y - sympy.sin(x), a * sympy.exp(y * sympy.sin(x)) / z + 2)\n",
    "display(some_equation)\n",
    "\n",
    "print('our equation solved for w')\n",
    "w_expr = sympy.solve(some_equation, w)[0]\n",
    "display(w_expr)\n",
    "\n",
    "print('error derivation of w assuming x,y,z are values with errors and a is a constant')\n",
    "pt.derive_err(w_expr, values = [x,y,z], target_symbol=w, do_display=True)"
   ]
  },
  {
   "cell_type": "code",
   "execution_count": 7,
   "metadata": {},
   "outputs": [
    {
     "name": "stdout",
     "output_type": "stream",
     "text": [
      "The error when computed for each value in the grouped z vals seperately\n"
     ]
    },
    {
     "data": {
      "text/latex": [
       "$$1650\\pm820\\\\1470\\pm740\\\\1870\\pm950\\\\1630\\pm810\\\\1600\\pm810$$"
      ],
      "text/plain": [
       "['1650' '1470' '1870' '1630' '1600'] ± ['820' '740' '950' '810' '810']"
      ]
     },
     "metadata": {},
     "output_type": "display_data"
    },
    {
     "name": "stdout",
     "output_type": "stream",
     "text": [
      "The average of the values above\n"
     ]
    },
    {
     "data": {
      "text/latex": [
       "$$1640\\pm370$$"
      ],
      "text/plain": [
       "1640 ± 370"
      ]
     },
     "metadata": {},
     "output_type": "display_data"
    },
    {
     "name": "stdout",
     "output_type": "stream",
     "text": [
      "The error when computed for the averaged z value\n"
     ]
    },
    {
     "data": {
      "text/latex": [
       "$$1630\\pm810$$"
      ],
      "text/plain": [
       "1630 ± 810"
      ]
     },
     "metadata": {},
     "output_type": "display_data"
    },
    {
     "name": "stdout",
     "output_type": "stream",
     "text": [
      "The value computed with the true means of the distribution\n"
     ]
    },
    {
     "data": {
      "text/latex": [
       "$$1691.45$$"
      ],
      "text/plain": [
       "1691.45 ± 0"
      ]
     },
     "metadata": {},
     "output_type": "display_data"
    }
   ],
   "source": [
    "A_VAL = np.pi * 300\n",
    "\n",
    "w_grouped_val = pt.calc_err(w_expr, {a : A_VAL, x: x_val, y: y_val, z: z_vals_grouped})\n",
    "w_val_1 = w_grouped_val.average()\n",
    "w_val_2 = pt.calc_err(w_expr, {a : A_VAL, x: x_val, y: y_val, z: z_val_1})\n",
    "theoretical_val = pt.calc_err(w_expr, {a: A_VAL, x: x_center, y: y_center, z: z_center})\n",
    "print('The error when computed for each value in the grouped z vals seperately')\n",
    "display(w_grouped_val)\n",
    "print('The average of the values above')\n",
    "display(w_val_1)\n",
    "print('The error when computed for the averaged z value')\n",
    "display(w_val_2)\n",
    "print('The value computed with the true means of the distribution')\n",
    "display(theoretical_val)\n",
    "\n",
    "assert w_val_1.approx_eq(theoretical_val)\n",
    "assert w_val_2.approx_eq(theoretical_val)"
   ]
  },
  {
   "cell_type": "code",
   "execution_count": 8,
   "metadata": {},
   "outputs": [
    {
     "data": {
      "text/latex": [
       "$$6.86\\pm0.81$$"
      ],
      "text/plain": [
       "6.86 ± 0.81"
      ]
     },
     "metadata": {},
     "output_type": "display_data"
    },
    {
     "data": {
      "text/latex": [
       "$$6.86\\pm0.71$$"
      ],
      "text/plain": [
       "6.86 ± 0.71"
      ]
     },
     "metadata": {},
     "output_type": "display_data"
    }
   ],
   "source": [
    "u_val_1 = pt.calc_err(x + y**2 + y, {x: x_val, y: y_val})\n",
    "u_val_2 = x_val + y_val**2 + y_val \n",
    "#since the terms y_val**2 and y_val are evaluated separately their correlation will not be captured in the final result. \n",
    "#In this case it is better to use the calc_err method\n",
    "display(u_val_1)\n",
    "display(u_val_2)\n",
    "assert not u_val_1.allclose(u_val_2)"
   ]
  },
  {
   "cell_type": "code",
   "execution_count": 9,
   "metadata": {},
   "outputs": [
    {
     "data": {
      "text/latex": [
       "$$1.00\\pm0.44$$"
      ],
      "text/plain": [
       "1.00 ± 0.44"
      ]
     },
     "metadata": {},
     "output_type": "display_data"
    },
    {
     "data": {
      "text/latex": [
       "$$1.00\\pm0.44$$"
      ],
      "text/plain": [
       "1.00 ± 0.44"
      ]
     },
     "metadata": {},
     "output_type": "display_data"
    }
   ],
   "source": [
    "v_val_1 = pt.calc_err(x**sympy.sin(y**0.5), {x: x_val, y: y_val})\n",
    "v_val_2 = x_val**(y_val**0.5).apply(sympy.sin) \n",
    "#if every independent variable only appears once in the expression the result of calc_err and direct evaluation will match up!\n",
    "#In this case direct evaluation is sufficent\n",
    "display(v_val_1)\n",
    "display(v_val_2)\n",
    "assert v_val_1.allclose(v_val_2)"
   ]
  }
 ],
 "metadata": {
  "kernelspec": {
   "display_name": "Python 3",
   "language": "python",
   "name": "python3"
  },
  "language_info": {
   "codemirror_mode": {
    "name": "ipython",
    "version": 3
   },
   "file_extension": ".py",
   "mimetype": "text/x-python",
   "name": "python",
   "nbconvert_exporter": "python",
   "pygments_lexer": "ipython3",
   "version": "3.11.5"
  }
 },
 "nbformat": 4,
 "nbformat_minor": 2
}
