{
 "cells": [
  {
   "cell_type": "code",
   "execution_count": 1,
   "metadata": {},
   "outputs": [],
   "source": [
    "import PhysicsTool as pt\n",
    "import pandas as pd\n",
    "import numpy as np\n",
    "import sympy"
   ]
  },
  {
   "cell_type": "code",
   "execution_count": 2,
   "metadata": {},
   "outputs": [
    {
     "name": "stdout",
     "output_type": "stream",
     "text": [
      "x = 1.0 +- 0.45\n"
     ]
    },
    {
     "data": {
      "text/html": [
       "<div>\n",
       "<style scoped>\n",
       "    .dataframe tbody tr th:only-of-type {\n",
       "        vertical-align: middle;\n",
       "    }\n",
       "\n",
       "    .dataframe tbody tr th {\n",
       "        vertical-align: top;\n",
       "    }\n",
       "\n",
       "    .dataframe thead th {\n",
       "        text-align: right;\n",
       "    }\n",
       "</style>\n",
       "<table border=\"1\" class=\"dataframe\">\n",
       "  <thead>\n",
       "    <tr style=\"text-align: right;\">\n",
       "      <th></th>\n",
       "      <th>y</th>\n",
       "      <th>z_0</th>\n",
       "      <th>z_1</th>\n",
       "      <th>z_2</th>\n",
       "      <th>z_3</th>\n",
       "      <th>z_4</th>\n",
       "    </tr>\n",
       "  </thead>\n",
       "  <tbody>\n",
       "    <tr>\n",
       "      <th>0</th>\n",
       "      <td>2.096315</td>\n",
       "      <td>2.082575</td>\n",
       "      <td>4.890468</td>\n",
       "      <td>3.614695</td>\n",
       "      <td>1.922292</td>\n",
       "      <td>1.615212</td>\n",
       "    </tr>\n",
       "    <tr>\n",
       "      <th>1</th>\n",
       "      <td>2.116093</td>\n",
       "      <td>2.831232</td>\n",
       "      <td>3.058601</td>\n",
       "      <td>2.083540</td>\n",
       "      <td>2.241830</td>\n",
       "      <td>0.755775</td>\n",
       "    </tr>\n",
       "    <tr>\n",
       "      <th>2</th>\n",
       "      <td>2.252260</td>\n",
       "      <td>2.076595</td>\n",
       "      <td>3.443595</td>\n",
       "      <td>4.581487</td>\n",
       "      <td>2.622725</td>\n",
       "      <td>5.307162</td>\n",
       "    </tr>\n",
       "    <tr>\n",
       "      <th>3</th>\n",
       "      <td>2.221966</td>\n",
       "      <td>4.860905</td>\n",
       "      <td>1.318223</td>\n",
       "      <td>4.418177</td>\n",
       "      <td>2.194714</td>\n",
       "      <td>1.396435</td>\n",
       "    </tr>\n",
       "    <tr>\n",
       "      <th>4</th>\n",
       "      <td>2.153422</td>\n",
       "      <td>4.613190</td>\n",
       "      <td>0.961963</td>\n",
       "      <td>2.942583</td>\n",
       "      <td>3.720855</td>\n",
       "      <td>4.851220</td>\n",
       "    </tr>\n",
       "    <tr>\n",
       "      <th>5</th>\n",
       "      <td>1.721319</td>\n",
       "      <td>2.250965</td>\n",
       "      <td>4.349615</td>\n",
       "      <td>0.290047</td>\n",
       "      <td>4.216661</td>\n",
       "      <td>1.396300</td>\n",
       "    </tr>\n",
       "    <tr>\n",
       "      <th>6</th>\n",
       "      <td>1.855888</td>\n",
       "      <td>4.313152</td>\n",
       "      <td>-0.499520</td>\n",
       "      <td>2.452246</td>\n",
       "      <td>3.540417</td>\n",
       "      <td>5.787162</td>\n",
       "    </tr>\n",
       "    <tr>\n",
       "      <th>7</th>\n",
       "      <td>1.889823</td>\n",
       "      <td>3.735030</td>\n",
       "      <td>1.748374</td>\n",
       "      <td>3.107067</td>\n",
       "      <td>2.132723</td>\n",
       "      <td>1.502283</td>\n",
       "    </tr>\n",
       "    <tr>\n",
       "      <th>8</th>\n",
       "      <td>2.258752</td>\n",
       "      <td>2.847456</td>\n",
       "      <td>1.991055</td>\n",
       "      <td>1.725809</td>\n",
       "      <td>2.939449</td>\n",
       "      <td>1.683229</td>\n",
       "    </tr>\n",
       "    <tr>\n",
       "      <th>9</th>\n",
       "      <td>2.736016</td>\n",
       "      <td>5.157151</td>\n",
       "      <td>4.820189</td>\n",
       "      <td>3.878042</td>\n",
       "      <td>2.762848</td>\n",
       "      <td>2.765860</td>\n",
       "    </tr>\n",
       "    <tr>\n",
       "      <th>10</th>\n",
       "      <td>2.086380</td>\n",
       "      <td>5.568415</td>\n",
       "      <td>4.072034</td>\n",
       "      <td>2.717472</td>\n",
       "      <td>2.455961</td>\n",
       "      <td>1.736587</td>\n",
       "    </tr>\n",
       "    <tr>\n",
       "      <th>11</th>\n",
       "      <td>1.895482</td>\n",
       "      <td>3.357080</td>\n",
       "      <td>3.331408</td>\n",
       "      <td>8.433839</td>\n",
       "      <td>5.730665</td>\n",
       "      <td>5.304068</td>\n",
       "    </tr>\n",
       "    <tr>\n",
       "      <th>12</th>\n",
       "      <td>1.894100</td>\n",
       "      <td>3.339004</td>\n",
       "      <td>3.260017</td>\n",
       "      <td>3.631806</td>\n",
       "      <td>0.269181</td>\n",
       "      <td>2.640364</td>\n",
       "    </tr>\n",
       "    <tr>\n",
       "      <th>13</th>\n",
       "      <td>2.048332</td>\n",
       "      <td>3.220634</td>\n",
       "      <td>3.499897</td>\n",
       "      <td>5.045784</td>\n",
       "      <td>4.108994</td>\n",
       "      <td>3.641340</td>\n",
       "    </tr>\n",
       "    <tr>\n",
       "      <th>14</th>\n",
       "      <td>1.575693</td>\n",
       "      <td>2.562086</td>\n",
       "      <td>5.307968</td>\n",
       "      <td>3.582680</td>\n",
       "      <td>0.096551</td>\n",
       "      <td>2.361497</td>\n",
       "    </tr>\n",
       "    <tr>\n",
       "      <th>15</th>\n",
       "      <td>1.326439</td>\n",
       "      <td>3.362552</td>\n",
       "      <td>0.599797</td>\n",
       "      <td>1.446857</td>\n",
       "      <td>1.703073</td>\n",
       "      <td>3.183394</td>\n",
       "    </tr>\n",
       "    <tr>\n",
       "      <th>16</th>\n",
       "      <td>2.471005</td>\n",
       "      <td>5.261546</td>\n",
       "      <td>4.303246</td>\n",
       "      <td>-0.352895</td>\n",
       "      <td>2.062270</td>\n",
       "      <td>5.330424</td>\n",
       "    </tr>\n",
       "    <tr>\n",
       "      <th>17</th>\n",
       "      <td>2.361608</td>\n",
       "      <td>4.042526</td>\n",
       "      <td>0.825199</td>\n",
       "      <td>2.808237</td>\n",
       "      <td>0.684067</td>\n",
       "      <td>5.211407</td>\n",
       "    </tr>\n",
       "    <tr>\n",
       "      <th>18</th>\n",
       "      <td>1.941835</td>\n",
       "      <td>3.348789</td>\n",
       "      <td>6.298320</td>\n",
       "      <td>3.912281</td>\n",
       "      <td>2.091703</td>\n",
       "      <td>-0.183627</td>\n",
       "    </tr>\n",
       "    <tr>\n",
       "      <th>19</th>\n",
       "      <td>1.868427</td>\n",
       "      <td>3.992088</td>\n",
       "      <td>1.165971</td>\n",
       "      <td>5.136874</td>\n",
       "      <td>1.172807</td>\n",
       "      <td>3.352692</td>\n",
       "    </tr>\n",
       "  </tbody>\n",
       "</table>\n",
       "</div>"
      ],
      "text/plain": [
       "           y       z_0       z_1       z_2       z_3       z_4\n",
       "0   2.096315  2.082575  4.890468  3.614695  1.922292  1.615212\n",
       "1   2.116093  2.831232  3.058601  2.083540  2.241830  0.755775\n",
       "2   2.252260  2.076595  3.443595  4.581487  2.622725  5.307162\n",
       "3   2.221966  4.860905  1.318223  4.418177  2.194714  1.396435\n",
       "4   2.153422  4.613190  0.961963  2.942583  3.720855  4.851220\n",
       "5   1.721319  2.250965  4.349615  0.290047  4.216661  1.396300\n",
       "6   1.855888  4.313152 -0.499520  2.452246  3.540417  5.787162\n",
       "7   1.889823  3.735030  1.748374  3.107067  2.132723  1.502283\n",
       "8   2.258752  2.847456  1.991055  1.725809  2.939449  1.683229\n",
       "9   2.736016  5.157151  4.820189  3.878042  2.762848  2.765860\n",
       "10  2.086380  5.568415  4.072034  2.717472  2.455961  1.736587\n",
       "11  1.895482  3.357080  3.331408  8.433839  5.730665  5.304068\n",
       "12  1.894100  3.339004  3.260017  3.631806  0.269181  2.640364\n",
       "13  2.048332  3.220634  3.499897  5.045784  4.108994  3.641340\n",
       "14  1.575693  2.562086  5.307968  3.582680  0.096551  2.361497\n",
       "15  1.326439  3.362552  0.599797  1.446857  1.703073  3.183394\n",
       "16  2.471005  5.261546  4.303246 -0.352895  2.062270  5.330424\n",
       "17  2.361608  4.042526  0.825199  2.808237  0.684067  5.211407\n",
       "18  1.941835  3.348789  6.298320  3.912281  2.091703 -0.183627\n",
       "19  1.868427  3.992088  1.165971  5.136874  1.172807  3.352692"
      ]
     },
     "metadata": {},
     "output_type": "display_data"
    }
   ],
   "source": [
    "x_center = 1.0\n",
    "y_center = 2.0\n",
    "z_center = 3.0\n",
    "\n",
    "x_mean = x_center\n",
    "x_error = 0.45\n",
    "y_data = np.random.standard_normal(20) * 0.5 + y_center\n",
    "z_data = np.random.standard_normal((5, 20)) * 1.5 + z_center\n",
    "\n",
    "raw_data_table = pd.DataFrame({\n",
    "    'y' : y_data,\n",
    "} | {\n",
    "    f'z_{i}' : col for i, col in enumerate(z_data)\n",
    "})\n",
    "print(f'x = {x_mean} +- {x_error}')\n",
    "display(raw_data_table)"
   ]
  },
  {
   "cell_type": "code",
   "execution_count": 3,
   "metadata": {},
   "outputs": [
    {
     "data": {
      "text/latex": [
       "$1.00\\pm0.45$"
      ],
      "text/plain": [
       "1.00 ± 0.45"
      ]
     },
     "metadata": {},
     "output_type": "display_data"
    },
    {
     "data": {
      "text/latex": [
       "$2.039\\pm0.070$"
      ],
      "text/plain": [
       "2.039 ± 0.070"
      ]
     },
     "metadata": {},
     "output_type": "display_data"
    }
   ],
   "source": [
    "x_val = pt.Err(x_mean, x_error)\n",
    "y_val = pt.Err.from_data(y_data)\n",
    "display(x_val)\n",
    "display(y_val)"
   ]
  },
  {
   "cell_type": "code",
   "execution_count": 4,
   "metadata": {},
   "outputs": [
    {
     "data": {
      "text/latex": [
       "$3.64\\pm0.24\\\\2.94\\pm0.41\\\\3.27\\pm0.42\\\\2.43\\pm0.31\\\\2.98\\pm0.40$"
      ],
      "text/plain": [
       "['3.64' '2.94' '3.27' '2.43' '2.98'] ± ['0.24' '0.41' '0.42' '0.31' '0.40']"
      ]
     },
     "metadata": {},
     "output_type": "display_data"
    },
    {
     "data": {
      "text/html": [
       "<div>\n",
       "<style scoped>\n",
       "    .dataframe tbody tr th:only-of-type {\n",
       "        vertical-align: middle;\n",
       "    }\n",
       "\n",
       "    .dataframe tbody tr th {\n",
       "        vertical-align: top;\n",
       "    }\n",
       "\n",
       "    .dataframe thead th {\n",
       "        text-align: right;\n",
       "    }\n",
       "</style>\n",
       "<table border=\"1\" class=\"dataframe\">\n",
       "  <thead>\n",
       "    <tr style=\"text-align: right;\">\n",
       "      <th></th>\n",
       "      <th>z_0</th>\n",
       "      <th>z_1</th>\n",
       "      <th>z_2</th>\n",
       "      <th>z_3</th>\n",
       "      <th>z_4</th>\n",
       "    </tr>\n",
       "  </thead>\n",
       "  <tbody>\n",
       "    <tr>\n",
       "      <th>mean</th>\n",
       "      <td>3.64</td>\n",
       "      <td>2.94</td>\n",
       "      <td>3.27</td>\n",
       "      <td>2.43</td>\n",
       "      <td>2.98</td>\n",
       "    </tr>\n",
       "    <tr>\n",
       "      <th>error</th>\n",
       "      <td>0.24</td>\n",
       "      <td>0.41</td>\n",
       "      <td>0.42</td>\n",
       "      <td>0.31</td>\n",
       "      <td>0.40</td>\n",
       "    </tr>\n",
       "  </tbody>\n",
       "</table>\n",
       "</div>"
      ],
      "text/plain": [
       "        z_0   z_1   z_2   z_3   z_4\n",
       "mean   3.64  2.94  3.27  2.43  2.98\n",
       "error  0.24  0.41  0.42  0.31  0.40"
      ]
     },
     "metadata": {},
     "output_type": "display_data"
    },
    {
     "name": "stdout",
     "output_type": "stream",
     "text": [
      "\\begin{table}[H]\n",
      "\\centering\n",
      "\\begin{tabular}{lllll}\n",
      "\\toprule\n",
      "z_0 & z_1 & z_2 & z_3 & z_4 \\\\\n",
      "\\midrule\n",
      "3.64 & 2.94 & 3.27 & 2.43 & 2.98 \\\\\n",
      "0.24 & 0.41 & 0.42 & 0.31 & 0.40 \\\\\n",
      "\\bottomrule\n",
      "\\end{tabular}\n",
      "\\caption{Caption}\n",
      "\\label{tab:labelname}\n",
      "\\end{table}\n",
      "\n"
     ]
    },
    {
     "data": {
      "text/html": [
       "<div>\n",
       "<style scoped>\n",
       "    .dataframe tbody tr th:only-of-type {\n",
       "        vertical-align: middle;\n",
       "    }\n",
       "\n",
       "    .dataframe tbody tr th {\n",
       "        vertical-align: top;\n",
       "    }\n",
       "\n",
       "    .dataframe thead th {\n",
       "        text-align: right;\n",
       "    }\n",
       "</style>\n",
       "<table border=\"1\" class=\"dataframe\">\n",
       "  <thead>\n",
       "    <tr style=\"text-align: right;\">\n",
       "      <th></th>\n",
       "      <th>z</th>\n",
       "    </tr>\n",
       "    <tr>\n",
       "      <th>i</th>\n",
       "      <th></th>\n",
       "    </tr>\n",
       "  </thead>\n",
       "  <tbody>\n",
       "    <tr>\n",
       "      <th>0</th>\n",
       "      <td>$3.64\\pm0.24$</td>\n",
       "    </tr>\n",
       "    <tr>\n",
       "      <th>1</th>\n",
       "      <td>$2.94\\pm0.41$</td>\n",
       "    </tr>\n",
       "    <tr>\n",
       "      <th>2</th>\n",
       "      <td>$3.27\\pm0.42$</td>\n",
       "    </tr>\n",
       "    <tr>\n",
       "      <th>3</th>\n",
       "      <td>$2.43\\pm0.31$</td>\n",
       "    </tr>\n",
       "    <tr>\n",
       "      <th>4</th>\n",
       "      <td>$2.98\\pm0.40$</td>\n",
       "    </tr>\n",
       "  </tbody>\n",
       "</table>\n",
       "</div>"
      ],
      "text/plain": [
       "               z\n",
       "i               \n",
       "0  $3.64\\pm0.24$\n",
       "1  $2.94\\pm0.41$\n",
       "2  $3.27\\pm0.42$\n",
       "3  $2.43\\pm0.31$\n",
       "4  $2.98\\pm0.40$"
      ]
     },
     "metadata": {},
     "output_type": "display_data"
    },
    {
     "name": "stdout",
     "output_type": "stream",
     "text": [
      "\\begin{table}[H]\n",
      "\\centering\n",
      "\\begin{tabular}{l}\n",
      "\\toprule\n",
      "z \\\\\n",
      "\\midrule\n",
      "$3.64\\pm0.24$ \\\\\n",
      "$2.94\\pm0.41$ \\\\\n",
      "$3.27\\pm0.42$ \\\\\n",
      "$2.43\\pm0.31$ \\\\\n",
      "$2.98\\pm0.40$ \\\\\n",
      "\\bottomrule\n",
      "\\end{tabular}\n",
      "\\caption{Caption}\n",
      "\\label{tab:labelname}\n",
      "\\end{table}\n",
      "\n"
     ]
    }
   ],
   "source": [
    "z_vals_grouped = pt.Err.from_data(z_data, axis = 1)\n",
    "\n",
    "grouped_z_table_1 = pd.DataFrame({\n",
    "    f'z_{i}' : [val.formatted_mean(), val.formatted_err()] for i, val in enumerate(z_vals_grouped)\n",
    "}, index = ['mean', 'error'])\n",
    "\n",
    "grouped_z_table_2 = pd.DataFrame({\n",
    "    'z' : z_vals_grouped.latex_array()\n",
    "})\n",
    "grouped_z_table_2.index.name = 'i'\n",
    "\n",
    "display(z_vals_grouped)\n",
    "pt.log(grouped_z_table_1)\n",
    "pt.log(grouped_z_table_2)"
   ]
  },
  {
   "cell_type": "code",
   "execution_count": 5,
   "metadata": {},
   "outputs": [
    {
     "data": {
      "text/latex": [
       "$3.05\\pm0.16$"
      ],
      "text/plain": [
       "3.05 ± 0.16"
      ]
     },
     "metadata": {},
     "output_type": "display_data"
    },
    {
     "data": {
      "text/latex": [
       "$3.14\\pm0.15$"
      ],
      "text/plain": [
       "3.14 ± 0.15"
      ]
     },
     "metadata": {},
     "output_type": "display_data"
    }
   ],
   "source": [
    "z_val_1 = z_vals_grouped.average()\n",
    "z_val_2 = z_vals_grouped.weighted_average()\n",
    "\n",
    "display(z_val_1)\n",
    "display(z_val_2)"
   ]
  },
  {
   "cell_type": "code",
   "execution_count": 6,
   "metadata": {},
   "outputs": [
    {
     "name": "stdout",
     "output_type": "stream",
     "text": [
      "our initial equation\n"
     ]
    },
    {
     "data": {
      "text/latex": [
       "$\\displaystyle w + y - \\sin{\\left(x \\right)} = \\frac{a e^{y \\sin{\\left(x \\right)}}}{z} + 2$"
      ],
      "text/plain": [
       "Eq(w + y - sin(x), a*exp(y*sin(x))/z + 2)"
      ]
     },
     "metadata": {},
     "output_type": "display_data"
    },
    {
     "name": "stdout",
     "output_type": "stream",
     "text": [
      "our equation solved for w\n"
     ]
    },
    {
     "data": {
      "text/latex": [
       "$\\displaystyle \\frac{a e^{y \\sin{\\left(x \\right)}}}{z} - y + \\sin{\\left(x \\right)} + 2$"
      ],
      "text/plain": [
       "a*exp(y*sin(x))/z - y + sin(x) + 2"
      ]
     },
     "metadata": {},
     "output_type": "display_data"
    },
    {
     "name": "stdout",
     "output_type": "stream",
     "text": [
      "error derivation of w assuming x,y,z are values with errors and a is a constant\n"
     ]
    },
    {
     "data": {
      "text/latex": [
       "$\\displaystyle s_{w}^{2} = s_{x}^{2} \\left(\\frac{\\partial}{\\partial x} w{\\left(x,z,y \\right)}\\right)^{2} + s_{y}^{2} \\left(\\frac{\\partial}{\\partial y} w{\\left(x,z,y \\right)}\\right)^{2} + s_{z}^{2} \\left(\\frac{\\partial}{\\partial z} w{\\left(x,z,y \\right)}\\right)^{2}$"
      ],
      "text/plain": [
       "Eq(s_w**2, s_x**2*Derivative(w(x, z, y), x)**2 + s_y**2*Derivative(w(x, z, y), y)**2 + s_z**2*Derivative(w(x, z, y), z)**2)"
      ]
     },
     "metadata": {},
     "output_type": "display_data"
    },
    {
     "data": {
      "text/latex": [
       "$\\displaystyle s_{w}^{2} = s_{x}^{2} \\left(\\frac{a y e^{y \\sin{\\left(x \\right)}} \\cos{\\left(x \\right)}}{z} + \\cos{\\left(x \\right)}\\right)^{2} + s_{y}^{2} \\left(\\frac{a e^{y \\sin{\\left(x \\right)}} \\sin{\\left(x \\right)}}{z} - 1\\right)^{2} + s_{z}^{2} \\left(- \\frac{a e^{y \\sin{\\left(x \\right)}}}{z^{2}}\\right)^{2}$"
      ],
      "text/plain": [
       "Eq(s_w**2, s_x**2*(a*y*exp(y*sin(x))*cos(x)/z + cos(x))**2 + s_y**2*(a*exp(y*sin(x))*sin(x)/z - 1)**2 + s_z**2*(-a*exp(y*sin(x))/z**2)**2)"
      ]
     },
     "metadata": {},
     "output_type": "display_data"
    },
    {
     "data": {
      "text/latex": [
       "$\\displaystyle s_{w} = \\sqrt{s_{x}^{2} \\left(\\frac{a y e^{y \\sin{\\left(x \\right)}} \\cos{\\left(x \\right)}}{z} + \\cos{\\left(x \\right)}\\right)^{2} + s_{y}^{2} \\left(\\frac{a e^{y \\sin{\\left(x \\right)}} \\sin{\\left(x \\right)}}{z} - 1\\right)^{2} + s_{z}^{2} \\left(- \\frac{a e^{y \\sin{\\left(x \\right)}}}{z^{2}}\\right)^{2}}$"
      ],
      "text/plain": [
       "Eq(s_w, sqrt(s_x**2*(a*y*exp(y*sin(x))*cos(x)/z + cos(x))**2 + s_y**2*(a*exp(y*sin(x))*sin(x)/z - 1)**2 + s_z**2*(-a*exp(y*sin(x))/z**2)**2))"
      ]
     },
     "metadata": {},
     "output_type": "display_data"
    },
    {
     "data": {
      "text/latex": [
       "$\\displaystyle \\sqrt{s_{x}^{2} \\left(\\frac{a y e^{y \\sin{\\left(x \\right)}} \\cos{\\left(x \\right)}}{z} + \\cos{\\left(x \\right)}\\right)^{2} + s_{y}^{2} \\left(\\frac{a e^{y \\sin{\\left(x \\right)}} \\sin{\\left(x \\right)}}{z} - 1\\right)^{2} + s_{z}^{2} \\left(- \\frac{a e^{y \\sin{\\left(x \\right)}}}{z^{2}}\\right)^{2}}$"
      ],
      "text/plain": [
       "sqrt(s_x**2*(a*y*exp(y*sin(x))*cos(x)/z + cos(x))**2 + s_y**2*(a*exp(y*sin(x))*sin(x)/z - 1)**2 + s_z**2*(-a*exp(y*sin(x))/z**2)**2)"
      ]
     },
     "execution_count": 6,
     "metadata": {},
     "output_type": "execute_result"
    }
   ],
   "source": [
    "a,x,y,z,w = sympy.symbols('a,x,y,z,w')\n",
    "\n",
    "print('our initial equation')\n",
    "some_equation = sympy.Eq(w + y - sympy.sin(x), a * sympy.exp(y * sympy.sin(x)) / z + 2)\n",
    "display(some_equation)\n",
    "\n",
    "print('our equation solved for w')\n",
    "w_expr = sympy.solve(some_equation, w)[0]\n",
    "display(w_expr)\n",
    "\n",
    "print('error derivation of w assuming x,y,z are values with errors and a is a constant')\n",
    "pt.derive_err(w_expr, values = [x,y,z], target_symbol=w, do_display=True)"
   ]
  },
  {
   "cell_type": "code",
   "execution_count": 7,
   "metadata": {},
   "outputs": [
    {
     "name": "stdout",
     "output_type": "stream",
     "text": [
      "The error when computed for each value in the grouped z vals seperately\n"
     ]
    },
    {
     "data": {
      "text/latex": [
       "$1440\\pm720\\\\1780\\pm920\\\\1600\\pm830\\\\2200\\pm1100\\\\1760\\pm910$"
      ],
      "text/plain": [
       "['1440' '1780' '1600' '2200' '1760'] ± ['720' '920' '830' '1100' '910']"
      ]
     },
     "metadata": {},
     "output_type": "display_data"
    },
    {
     "name": "stdout",
     "output_type": "stream",
     "text": [
      "The average of the values above\n"
     ]
    },
    {
     "data": {
      "text/latex": [
       "$1750\\pm410$"
      ],
      "text/plain": [
       "1750 ± 410"
      ]
     },
     "metadata": {},
     "output_type": "display_data"
    },
    {
     "name": "stdout",
     "output_type": "stream",
     "text": [
      "The error when computed for the averaged z value\n"
     ]
    },
    {
     "data": {
      "text/latex": [
       "$1720\\pm860$"
      ],
      "text/plain": [
       "1720 ± 860"
      ]
     },
     "metadata": {},
     "output_type": "display_data"
    },
    {
     "name": "stdout",
     "output_type": "stream",
     "text": [
      "The value computed with the true means of the distribution\n"
     ]
    },
    {
     "data": {
      "text/latex": [
       "$1691.45$"
      ],
      "text/plain": [
       "1691.45 ± 0"
      ]
     },
     "metadata": {},
     "output_type": "display_data"
    }
   ],
   "source": [
    "A_VAL = np.pi * 300\n",
    "\n",
    "w_grouped_val = pt.calc_err(w_expr, {a : A_VAL, x: x_val, y: y_val, z: z_vals_grouped})\n",
    "w_val_1 = w_grouped_val.average()\n",
    "w_val_2 = pt.calc_err(w_expr, {a : A_VAL, x: x_val, y: y_val, z: z_val_1})\n",
    "theoretical_val = pt.calc_err(w_expr, {a: A_VAL, x: x_center, y: y_center, z: z_center})\n",
    "print('The error when computed for each value in the grouped z vals seperately')\n",
    "display(w_grouped_val)\n",
    "print('The average of the values above')\n",
    "display(w_val_1)\n",
    "print('The error when computed for the averaged z value')\n",
    "display(w_val_2)\n",
    "print('The value computed with the true means of the distribution')\n",
    "display(theoretical_val)\n",
    "\n",
    "assert w_val_1.approx_eq(theoretical_val)\n",
    "assert w_val_2.approx_eq(theoretical_val)"
   ]
  },
  {
   "cell_type": "code",
   "execution_count": 8,
   "metadata": {},
   "outputs": [
    {
     "data": {
      "text/latex": [
       "$7.19\\pm0.57$"
      ],
      "text/plain": [
       "7.19 ± 0.57"
      ]
     },
     "metadata": {},
     "output_type": "display_data"
    },
    {
     "data": {
      "text/latex": [
       "$7.19\\pm0.54$"
      ],
      "text/plain": [
       "7.19 ± 0.54"
      ]
     },
     "metadata": {},
     "output_type": "display_data"
    }
   ],
   "source": [
    "u_val_1 = pt.calc_err(x + y**2 + y, {x: x_val, y: y_val})\n",
    "u_val_2 = x_val + y_val**2 + y_val \n",
    "#since the terms y_val**2 and y_val are evaluated separately their correlation will not be captured in the final result. \n",
    "#In this case it is better to use the calc_err method\n",
    "display(u_val_1)\n",
    "display(u_val_2)\n",
    "assert not u_val_1.allclose(u_val_2)"
   ]
  },
  {
   "cell_type": "code",
   "execution_count": 9,
   "metadata": {},
   "outputs": [
    {
     "data": {
      "text/latex": [
       "$1.00\\pm0.45$"
      ],
      "text/plain": [
       "1.00 ± 0.45"
      ]
     },
     "metadata": {},
     "output_type": "display_data"
    },
    {
     "data": {
      "text/latex": [
       "$1.00\\pm0.45$"
      ],
      "text/plain": [
       "1.00 ± 0.45"
      ]
     },
     "metadata": {},
     "output_type": "display_data"
    }
   ],
   "source": [
    "v_val_1 = pt.calc_err(x**sympy.sin(y**0.5), {x: x_val, y: y_val})\n",
    "v_val_2 = x_val**(y_val**0.5).apply(sympy.sin) \n",
    "#if every independent variable only appears once in the expression the result of calc_err and direct evaluation will match up!\n",
    "#In this case direct evaluation is sufficent\n",
    "display(v_val_1)\n",
    "display(v_val_2)\n",
    "assert v_val_1.allclose(v_val_2)"
   ]
  }
 ],
 "metadata": {
  "kernelspec": {
   "display_name": "Python 3",
   "language": "python",
   "name": "python3"
  },
  "language_info": {
   "codemirror_mode": {
    "name": "ipython",
    "version": 3
   },
   "file_extension": ".py",
   "mimetype": "text/x-python",
   "name": "python",
   "nbconvert_exporter": "python",
   "pygments_lexer": "ipython3",
   "version": "3.11.5"
  }
 },
 "nbformat": 4,
 "nbformat_minor": 2
}
