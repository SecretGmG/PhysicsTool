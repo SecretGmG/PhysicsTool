{
 "cells": [
  {
   "cell_type": "code",
   "execution_count": 1,
   "metadata": {},
   "outputs": [],
   "source": [
    "import PhysicsTool as pt\n",
    "import pandas as pd\n",
    "import numpy as np\n",
    "import sympy\n",
    "import matplotlib.pyplot as plt\n",
    "from sys import stdout\n",
    "np.random.seed(1)"
   ]
  },
  {
   "cell_type": "markdown",
   "metadata": {},
   "source": [
    "Here I generate the raw data used in this example.\n",
    "We are interested in the following 3 Quantities:\n",
    " - $x$: Of which we know the mean and error\n",
    " - $y$: Of which we are given 10 measurements\n",
    " - $z$: Of which we are given 5 series of 10 measurements "
   ]
  },
  {
   "cell_type": "code",
   "execution_count": 2,
   "metadata": {},
   "outputs": [
    {
     "name": "stdout",
     "output_type": "stream",
     "text": [
      "x = 1.0 +- 0.45\n"
     ]
    },
    {
     "data": {
      "text/html": [
       "<div>\n",
       "<style scoped>\n",
       "    .dataframe tbody tr th:only-of-type {\n",
       "        vertical-align: middle;\n",
       "    }\n",
       "\n",
       "    .dataframe tbody tr th {\n",
       "        vertical-align: top;\n",
       "    }\n",
       "\n",
       "    .dataframe thead th {\n",
       "        text-align: right;\n",
       "    }\n",
       "</style>\n",
       "<table border=\"1\" class=\"dataframe\">\n",
       "  <thead>\n",
       "    <tr style=\"text-align: right;\">\n",
       "      <th></th>\n",
       "      <th>y</th>\n",
       "      <th>z_0</th>\n",
       "      <th>z_1</th>\n",
       "      <th>z_2</th>\n",
       "      <th>z_3</th>\n",
       "      <th>z_4</th>\n",
       "    </tr>\n",
       "  </thead>\n",
       "  <tbody>\n",
       "    <tr>\n",
       "      <th>0</th>\n",
       "      <td>2.812173</td>\n",
       "      <td>2.889938</td>\n",
       "      <td>2.745818</td>\n",
       "      <td>1.076285</td>\n",
       "      <td>2.160711</td>\n",
       "      <td>0.764357</td>\n",
       "    </tr>\n",
       "    <tr>\n",
       "      <th>1</th>\n",
       "      <td>1.694122</td>\n",
       "      <td>3.114472</td>\n",
       "      <td>1.823892</td>\n",
       "      <td>6.194814</td>\n",
       "      <td>2.242138</td>\n",
       "      <td>9.122539</td>\n",
       "    </tr>\n",
       "    <tr>\n",
       "      <th>2</th>\n",
       "      <td>1.735914</td>\n",
       "      <td>3.090159</td>\n",
       "      <td>2.010015</td>\n",
       "      <td>4.307971</td>\n",
       "      <td>3.704269</td>\n",
       "      <td>5.017458</td>\n",
       "    </tr>\n",
       "    <tr>\n",
       "      <th>3</th>\n",
       "      <td>1.463516</td>\n",
       "      <td>3.050249</td>\n",
       "      <td>5.242502</td>\n",
       "      <td>2.239863</td>\n",
       "      <td>4.547945</td>\n",
       "      <td>5.967893</td>\n",
       "    </tr>\n",
       "    <tr>\n",
       "      <th>4</th>\n",
       "      <td>2.432704</td>\n",
       "      <td>3.090086</td>\n",
       "      <td>3.067320</td>\n",
       "      <td>4.245721</td>\n",
       "      <td>3.748581</td>\n",
       "      <td>-2.474559</td>\n",
       "    </tr>\n",
       "    <tr>\n",
       "      <th>5</th>\n",
       "      <td>0.849231</td>\n",
       "      <td>2.931627</td>\n",
       "      <td>2.155981</td>\n",
       "      <td>2.807292</td>\n",
       "      <td>3.449258</td>\n",
       "      <td>3.846912</td>\n",
       "    </tr>\n",
       "    <tr>\n",
       "      <th>6</th>\n",
       "      <td>2.872406</td>\n",
       "      <td>2.987711</td>\n",
       "      <td>3.252963</td>\n",
       "      <td>5.885655</td>\n",
       "      <td>0.468250</td>\n",
       "      <td>6.702782</td>\n",
       "    </tr>\n",
       "    <tr>\n",
       "      <th>7</th>\n",
       "      <td>1.619397</td>\n",
       "      <td>2.906423</td>\n",
       "      <td>5.782838</td>\n",
       "      <td>6.875533</td>\n",
       "      <td>4.425303</td>\n",
       "      <td>-1.768503</td>\n",
       "    </tr>\n",
       "    <tr>\n",
       "      <th>8</th>\n",
       "      <td>2.159520</td>\n",
       "      <td>2.973211</td>\n",
       "      <td>3.159211</td>\n",
       "      <td>8.573217</td>\n",
       "      <td>3.459875</td>\n",
       "      <td>1.668907</td>\n",
       "    </tr>\n",
       "    <tr>\n",
       "      <th>9</th>\n",
       "      <td>1.875315</td>\n",
       "      <td>3.053036</td>\n",
       "      <td>3.817794</td>\n",
       "      <td>-0.561066</td>\n",
       "      <td>7.263802</td>\n",
       "      <td>3.163073</td>\n",
       "    </tr>\n",
       "    <tr>\n",
       "      <th>10</th>\n",
       "      <td>2.731054</td>\n",
       "      <td>2.930834</td>\n",
       "      <td>3.397726</td>\n",
       "      <td>-0.682490</td>\n",
       "      <td>7.525915</td>\n",
       "      <td>-3.865587</td>\n",
       "    </tr>\n",
       "    <tr>\n",
       "      <th>11</th>\n",
       "      <td>0.969930</td>\n",
       "      <td>2.960325</td>\n",
       "      <td>2.533269</td>\n",
       "      <td>1.713612</td>\n",
       "      <td>3.698965</td>\n",
       "      <td>4.575797</td>\n",
       "    </tr>\n",
       "    <tr>\n",
       "      <th>12</th>\n",
       "      <td>1.838791</td>\n",
       "      <td>2.931283</td>\n",
       "      <td>1.486163</td>\n",
       "      <td>3.408095</td>\n",
       "      <td>1.583299</td>\n",
       "      <td>7.230803</td>\n",
       "    </tr>\n",
       "    <tr>\n",
       "      <th>13</th>\n",
       "      <td>1.807973</td>\n",
       "      <td>2.915479</td>\n",
       "      <td>2.537121</td>\n",
       "      <td>5.234231</td>\n",
       "      <td>0.588793</td>\n",
       "      <td>-1.297580</td>\n",
       "    </tr>\n",
       "    <tr>\n",
       "      <th>14</th>\n",
       "      <td>2.566885</td>\n",
       "      <td>2.932875</td>\n",
       "      <td>2.723215</td>\n",
       "      <td>3.804869</td>\n",
       "      <td>4.598691</td>\n",
       "      <td>4.752730</td>\n",
       "    </tr>\n",
       "    <tr>\n",
       "      <th>15</th>\n",
       "      <td>1.450054</td>\n",
       "      <td>2.998734</td>\n",
       "      <td>3.777276</td>\n",
       "      <td>-2.156613</td>\n",
       "      <td>3.291959</td>\n",
       "      <td>-3.561417</td>\n",
       "    </tr>\n",
       "    <tr>\n",
       "      <th>16</th>\n",
       "      <td>1.913786</td>\n",
       "      <td>2.888269</td>\n",
       "      <td>4.111653</td>\n",
       "      <td>2.219180</td>\n",
       "      <td>1.701952</td>\n",
       "      <td>2.806522</td>\n",
       "    </tr>\n",
       "    <tr>\n",
       "      <th>17</th>\n",
       "      <td>1.561071</td>\n",
       "      <td>3.023442</td>\n",
       "      <td>4.233710</td>\n",
       "      <td>5.111335</td>\n",
       "      <td>3.164578</td>\n",
       "      <td>-5.078862</td>\n",
       "    </tr>\n",
       "    <tr>\n",
       "      <th>18</th>\n",
       "      <td>2.021107</td>\n",
       "      <td>3.165980</td>\n",
       "      <td>3.378403</td>\n",
       "      <td>3.586742</td>\n",
       "      <td>0.659497</td>\n",
       "      <td>8.607089</td>\n",
       "    </tr>\n",
       "    <tr>\n",
       "      <th>19</th>\n",
       "      <td>2.291408</td>\n",
       "      <td>3.074204</td>\n",
       "      <td>4.172812</td>\n",
       "      <td>4.943129</td>\n",
       "      <td>5.635071</td>\n",
       "      <td>5.044503</td>\n",
       "    </tr>\n",
       "  </tbody>\n",
       "</table>\n",
       "</div>"
      ],
      "text/plain": [
       "           y       z_0       z_1       z_2       z_3       z_4\n",
       "0   2.812173  2.889938  2.745818  1.076285  2.160711  0.764357\n",
       "1   1.694122  3.114472  1.823892  6.194814  2.242138  9.122539\n",
       "2   1.735914  3.090159  2.010015  4.307971  3.704269  5.017458\n",
       "3   1.463516  3.050249  5.242502  2.239863  4.547945  5.967893\n",
       "4   2.432704  3.090086  3.067320  4.245721  3.748581 -2.474559\n",
       "5   0.849231  2.931627  2.155981  2.807292  3.449258  3.846912\n",
       "6   2.872406  2.987711  3.252963  5.885655  0.468250  6.702782\n",
       "7   1.619397  2.906423  5.782838  6.875533  4.425303 -1.768503\n",
       "8   2.159520  2.973211  3.159211  8.573217  3.459875  1.668907\n",
       "9   1.875315  3.053036  3.817794 -0.561066  7.263802  3.163073\n",
       "10  2.731054  2.930834  3.397726 -0.682490  7.525915 -3.865587\n",
       "11  0.969930  2.960325  2.533269  1.713612  3.698965  4.575797\n",
       "12  1.838791  2.931283  1.486163  3.408095  1.583299  7.230803\n",
       "13  1.807973  2.915479  2.537121  5.234231  0.588793 -1.297580\n",
       "14  2.566885  2.932875  2.723215  3.804869  4.598691  4.752730\n",
       "15  1.450054  2.998734  3.777276 -2.156613  3.291959 -3.561417\n",
       "16  1.913786  2.888269  4.111653  2.219180  1.701952  2.806522\n",
       "17  1.561071  3.023442  4.233710  5.111335  3.164578 -5.078862\n",
       "18  2.021107  3.165980  3.378403  3.586742  0.659497  8.607089\n",
       "19  2.291408  3.074204  4.172812  4.943129  5.635071  5.044503"
      ]
     },
     "metadata": {},
     "output_type": "display_data"
    }
   ],
   "source": [
    "x_center = 1.0\n",
    "y_center = 2.0\n",
    "z_center = 3.0\n",
    "\n",
    "x_mean = x_center\n",
    "x_error = 0.45\n",
    "\n",
    "NR_MEASUREMENTS = 20\n",
    "NR_SERIES = 5\n",
    "\n",
    "y_data = np.random.standard_normal(NR_MEASUREMENTS) * 0.5 + y_center\n",
    "z_data = np.random.standard_normal((NR_SERIES, NR_MEASUREMENTS)) * np.linspace(0.1, 5, NR_SERIES)[:, None] + z_center\n",
    "\n",
    "raw_data_table = pd.DataFrame({\n",
    "    'y' : y_data,\n",
    "} | {\n",
    "    f'z_{i}' : col for i, col in enumerate(z_data)\n",
    "})\n",
    "print(f'x = {x_mean} +- {x_error}')\n",
    "display(raw_data_table)"
   ]
  },
  {
   "cell_type": "markdown",
   "metadata": {},
   "source": [
    "The error objects for $x$ and $y$ can be generated directly and using the `err.from_data()` method "
   ]
  },
  {
   "cell_type": "code",
   "execution_count": 3,
   "metadata": {},
   "outputs": [
    {
     "data": {
      "text/latex": [
       "$1.00\\pm0.45$"
      ],
      "text/plain": [
       "1.00 ± 0.45"
      ]
     },
     "metadata": {},
     "output_type": "display_data"
    },
    {
     "data": {
      "text/latex": [
       "$1.93\\pm0.13$"
      ],
      "text/plain": [
       "1.93 ± 0.13"
      ]
     },
     "metadata": {},
     "output_type": "display_data"
    },
    {
     "data": {
      "text/latex": [
       "$1.00\\pm0.45$"
      ],
      "text/plain": [
       "1.00 ± 0.45"
      ]
     },
     "metadata": {},
     "output_type": "display_data"
    },
    {
     "name": "stdout",
     "output_type": "stream",
     "text": [
      "$1.00\\pm0.45$\n"
     ]
    },
    {
     "data": {
      "text/latex": [
       "$1.93\\pm0.13$"
      ],
      "text/plain": [
       "1.93 ± 0.13"
      ]
     },
     "metadata": {},
     "output_type": "display_data"
    },
    {
     "name": "stdout",
     "output_type": "stream",
     "text": [
      "$1.93\\pm0.13$\n"
     ]
    }
   ],
   "source": [
    "x_val = pt.Err(x_mean, x_error)\n",
    "y_val = pt.Err.from_data(y_data)\n",
    "display(x_val)\n",
    "display(y_val)\n",
    "pt.log(x_val)\n",
    "pt.log(y_val)"
   ]
  },
  {
   "cell_type": "markdown",
   "metadata": {},
   "source": [
    "We could generate a single error object for the measurements of $z$. But we might want to calculate mean and error for each series separately. That's why the  `Err.from_data` method includes the `axis` argument to specify along what axis the mean and error should be computed"
   ]
  },
  {
   "cell_type": "code",
   "execution_count": 4,
   "metadata": {},
   "outputs": [],
   "source": [
    "z_vals_grouped = pt.Err.from_data(z_data, axis = 1)"
   ]
  },
  {
   "cell_type": "markdown",
   "metadata": {},
   "source": [
    "There are many ways to display the data stored in an `Err` object. Below multiple different ways to do this are shown."
   ]
  },
  {
   "cell_type": "code",
   "execution_count": 5,
   "metadata": {},
   "outputs": [
    {
     "name": "stdout",
     "output_type": "stream",
     "text": [
      "['2.995' '3.27' '3.44' '3.40' '2.56'] ± ['0.018' '0.25' '0.60' '0.44' '0.96']\n"
     ]
    },
    {
     "data": {
      "text/latex": [
       "$2.995\\pm0.018,  \\\\3.27\\pm0.25,  \\\\3.44\\pm0.60,  \\\\3.40\\pm0.44,  \\\\2.56\\pm0.96$"
      ],
      "text/plain": [
       "['2.995' '3.27' '3.44' '3.40' '2.56'] ± ['0.018' '0.25' '0.60' '0.44' '0.96']"
      ]
     },
     "metadata": {},
     "output_type": "display_data"
    },
    {
     "data": {
      "text/html": [
       "<div>\n",
       "<style scoped>\n",
       "    .dataframe tbody tr th:only-of-type {\n",
       "        vertical-align: middle;\n",
       "    }\n",
       "\n",
       "    .dataframe tbody tr th {\n",
       "        vertical-align: top;\n",
       "    }\n",
       "\n",
       "    .dataframe thead th {\n",
       "        text-align: right;\n",
       "    }\n",
       "</style>\n",
       "<table border=\"1\" class=\"dataframe\">\n",
       "  <thead>\n",
       "    <tr style=\"text-align: right;\">\n",
       "      <th></th>\n",
       "      <th>z_0</th>\n",
       "      <th>z_1</th>\n",
       "      <th>z_2</th>\n",
       "      <th>z_3</th>\n",
       "      <th>z_4</th>\n",
       "    </tr>\n",
       "  </thead>\n",
       "  <tbody>\n",
       "    <tr>\n",
       "      <th>mean</th>\n",
       "      <td>2.995</td>\n",
       "      <td>3.27</td>\n",
       "      <td>3.44</td>\n",
       "      <td>3.40</td>\n",
       "      <td>2.56</td>\n",
       "    </tr>\n",
       "    <tr>\n",
       "      <th>error</th>\n",
       "      <td>0.018</td>\n",
       "      <td>0.25</td>\n",
       "      <td>0.60</td>\n",
       "      <td>0.44</td>\n",
       "      <td>0.96</td>\n",
       "    </tr>\n",
       "  </tbody>\n",
       "</table>\n",
       "</div>"
      ],
      "text/plain": [
       "         z_0   z_1   z_2   z_3   z_4\n",
       "mean   2.995  3.27  3.44  3.40  2.56\n",
       "error  0.018  0.25  0.60  0.44  0.96"
      ]
     },
     "metadata": {},
     "output_type": "display_data"
    },
    {
     "data": {
      "text/html": [
       "<div>\n",
       "<style scoped>\n",
       "    .dataframe tbody tr th:only-of-type {\n",
       "        vertical-align: middle;\n",
       "    }\n",
       "\n",
       "    .dataframe tbody tr th {\n",
       "        vertical-align: top;\n",
       "    }\n",
       "\n",
       "    .dataframe thead th {\n",
       "        text-align: right;\n",
       "    }\n",
       "</style>\n",
       "<table border=\"1\" class=\"dataframe\">\n",
       "  <thead>\n",
       "    <tr style=\"text-align: right;\">\n",
       "      <th></th>\n",
       "      <th>z</th>\n",
       "    </tr>\n",
       "    <tr>\n",
       "      <th>i</th>\n",
       "      <th></th>\n",
       "    </tr>\n",
       "  </thead>\n",
       "  <tbody>\n",
       "    <tr>\n",
       "      <th>0</th>\n",
       "      <td>$2.995\\pm0.018$</td>\n",
       "    </tr>\n",
       "    <tr>\n",
       "      <th>1</th>\n",
       "      <td>$3.27\\pm0.25$</td>\n",
       "    </tr>\n",
       "    <tr>\n",
       "      <th>2</th>\n",
       "      <td>$3.44\\pm0.60$</td>\n",
       "    </tr>\n",
       "    <tr>\n",
       "      <th>3</th>\n",
       "      <td>$3.40\\pm0.44$</td>\n",
       "    </tr>\n",
       "    <tr>\n",
       "      <th>4</th>\n",
       "      <td>$2.56\\pm0.96$</td>\n",
       "    </tr>\n",
       "  </tbody>\n",
       "</table>\n",
       "</div>"
      ],
      "text/plain": [
       "                 z\n",
       "i                 \n",
       "0  $2.995\\pm0.018$\n",
       "1    $3.27\\pm0.25$\n",
       "2    $3.44\\pm0.60$\n",
       "3    $3.40\\pm0.44$\n",
       "4    $2.56\\pm0.96$"
      ]
     },
     "metadata": {},
     "output_type": "display_data"
    },
    {
     "name": "stdout",
     "output_type": "stream",
     "text": [
      "\\begin{table}[H]\n",
      "\\centering\n",
      "\\begin{tabular}{l}\n",
      "\\toprule\n",
      "z \\\\\n",
      "\\midrule\n",
      "$2.995\\pm0.018$ \\\\\n",
      "$3.27\\pm0.25$ \\\\\n",
      "$3.44\\pm0.60$ \\\\\n",
      "$3.40\\pm0.44$ \\\\\n",
      "$2.56\\pm0.96$ \\\\\n",
      "\\bottomrule\n",
      "\\end{tabular}\n",
      "\\caption{Caption}\n",
      "\\label{tab:labelname}\n",
      "\\end{table}\n",
      "\n"
     ]
    }
   ],
   "source": [
    "grouped_z_table_1 = pd.DataFrame({\n",
    "    f'z_{i}' : [val.formatted_mean(), val.formatted_err()] for i, val in enumerate(z_vals_grouped)\n",
    "}, index = ['mean', 'error'])\n",
    "\n",
    "grouped_z_table_2 = pd.DataFrame({\n",
    "    'z' : z_vals_grouped.latex_array()\n",
    "})\n",
    "grouped_z_table_2.index.name = 'i'\n",
    "\n",
    "print(z_vals_grouped)\n",
    "display(z_vals_grouped)\n",
    "pt.log(grouped_z_table_1, do_display = True, tex = None)\n",
    "pt.log(grouped_z_table_2, do_display = True, tex = stdout)"
   ]
  },
  {
   "cell_type": "markdown",
   "metadata": {},
   "source": [
    "`Err` objects can be indexed just like numpy arrays"
   ]
  },
  {
   "cell_type": "code",
   "execution_count": 6,
   "metadata": {},
   "outputs": [
    {
     "data": {
      "text/latex": [
       "$3.40\\pm0.44$"
      ],
      "text/plain": [
       "3.40 ± 0.44"
      ]
     },
     "metadata": {},
     "output_type": "display_data"
    },
    {
     "data": {
      "text/latex": [
       "$2.995\\pm0.018,  \\\\3.27\\pm0.25,  \\\\3.40\\pm0.44$"
      ],
      "text/plain": [
       "['2.995' '3.27' '3.40'] ± ['0.018' '0.25' '0.44']"
      ]
     },
     "metadata": {},
     "output_type": "display_data"
    },
    {
     "name": "stdout",
     "output_type": "stream",
     "text": [
      "0: 2.995 ± 0.018\n",
      "1: 3.27 ± 0.25\n"
     ]
    }
   ],
   "source": [
    "display(z_vals_grouped[3])\n",
    "display(z_vals_grouped[z_vals_grouped.err < 0.5])\n",
    "for i, z_val in enumerate(z_vals_grouped[0:2]):\n",
    "    print(f'{i}: {z_val}')"
   ]
  },
  {
   "cell_type": "markdown",
   "metadata": {},
   "source": [
    "We can now compute the average over the different series. Note how the weighted average gives a more accurate result."
   ]
  },
  {
   "cell_type": "code",
   "execution_count": 7,
   "metadata": {},
   "outputs": [
    {
     "data": {
      "text/latex": [
       "$3.13\\pm0.25$"
      ],
      "text/plain": [
       "3.13 ± 0.25"
      ]
     },
     "metadata": {},
     "output_type": "display_data"
    },
    {
     "data": {
      "text/latex": [
       "$2.998\\pm0.018$"
      ],
      "text/plain": [
       "2.998 ± 0.018"
      ]
     },
     "metadata": {},
     "output_type": "display_data"
    }
   ],
   "source": [
    "z_val_1 = z_vals_grouped.average()\n",
    "z_val_2 = z_vals_grouped.weighted_average()\n",
    "\n",
    "display(z_val_1)\n",
    "display(z_val_2)"
   ]
  },
  {
   "cell_type": "markdown",
   "metadata": {},
   "source": [
    "It is also possible to automate a big part of the error calculation using `sympy`."
   ]
  },
  {
   "cell_type": "code",
   "execution_count": 8,
   "metadata": {},
   "outputs": [
    {
     "name": "stdout",
     "output_type": "stream",
     "text": [
      "our initial equation\n"
     ]
    },
    {
     "data": {
      "text/latex": [
       "$\\displaystyle w + y - \\sin{\\left(x \\right)} = \\frac{a e^{y \\sin{\\left(x \\right)}}}{z} + 2$"
      ],
      "text/plain": [
       "Eq(w + y - sin(x), a*exp(y*sin(x))/z + 2)"
      ]
     },
     "metadata": {},
     "output_type": "display_data"
    },
    {
     "name": "stdout",
     "output_type": "stream",
     "text": [
      "our equation solved for w\n"
     ]
    },
    {
     "data": {
      "text/latex": [
       "$\\displaystyle \\frac{a e^{y \\sin{\\left(x \\right)}}}{z} - y + \\sin{\\left(x \\right)} + 2$"
      ],
      "text/plain": [
       "a*exp(y*sin(x))/z - y + sin(x) + 2"
      ]
     },
     "metadata": {},
     "output_type": "display_data"
    },
    {
     "name": "stdout",
     "output_type": "stream",
     "text": [
      "error derivation of w assuming x,y,z are values with errors and a is a constant\n"
     ]
    },
    {
     "data": {
      "text/latex": [
       "$\\displaystyle s_{w}^{2} = s_{x}^{2} \\left(\\frac{\\partial}{\\partial x} w{\\left(z,x,y \\right)}\\right)^{2} + s_{y}^{2} \\left(\\frac{\\partial}{\\partial y} w{\\left(z,x,y \\right)}\\right)^{2} + s_{z}^{2} \\left(\\frac{\\partial}{\\partial z} w{\\left(z,x,y \\right)}\\right)^{2}$"
      ],
      "text/plain": [
       "Eq(s_w**2, s_x**2*Derivative(w(z, x, y), x)**2 + s_y**2*Derivative(w(z, x, y), y)**2 + s_z**2*Derivative(w(z, x, y), z)**2)"
      ]
     },
     "metadata": {},
     "output_type": "display_data"
    },
    {
     "data": {
      "text/latex": [
       "$\\displaystyle s_{w}^{2} = s_{x}^{2} \\left(\\frac{a y e^{y \\sin{\\left(x \\right)}} \\cos{\\left(x \\right)}}{z} + \\cos{\\left(x \\right)}\\right)^{2} + s_{y}^{2} \\left(\\frac{a e^{y \\sin{\\left(x \\right)}} \\sin{\\left(x \\right)}}{z} - 1\\right)^{2} + s_{z}^{2} \\left(- \\frac{a e^{y \\sin{\\left(x \\right)}}}{z^{2}}\\right)^{2}$"
      ],
      "text/plain": [
       "Eq(s_w**2, s_x**2*(a*y*exp(y*sin(x))*cos(x)/z + cos(x))**2 + s_y**2*(a*exp(y*sin(x))*sin(x)/z - 1)**2 + s_z**2*(-a*exp(y*sin(x))/z**2)**2)"
      ]
     },
     "metadata": {},
     "output_type": "display_data"
    },
    {
     "data": {
      "text/latex": [
       "$\\displaystyle s_{w} = \\sqrt{s_{x}^{2} \\left(\\frac{a y e^{y \\sin{\\left(x \\right)}} \\cos{\\left(x \\right)}}{z} + \\cos{\\left(x \\right)}\\right)^{2} + s_{y}^{2} \\left(\\frac{a e^{y \\sin{\\left(x \\right)}} \\sin{\\left(x \\right)}}{z} - 1\\right)^{2} + s_{z}^{2} \\left(- \\frac{a e^{y \\sin{\\left(x \\right)}}}{z^{2}}\\right)^{2}}$"
      ],
      "text/plain": [
       "Eq(s_w, sqrt(s_x**2*(a*y*exp(y*sin(x))*cos(x)/z + cos(x))**2 + s_y**2*(a*exp(y*sin(x))*sin(x)/z - 1)**2 + s_z**2*(-a*exp(y*sin(x))/z**2)**2))"
      ]
     },
     "metadata": {},
     "output_type": "display_data"
    },
    {
     "data": {
      "text/latex": [
       "$\\displaystyle \\sqrt{s_{x}^{2} \\left(\\frac{a y e^{y \\sin{\\left(x \\right)}} \\cos{\\left(x \\right)}}{z} + \\cos{\\left(x \\right)}\\right)^{2} + s_{y}^{2} \\left(\\frac{a e^{y \\sin{\\left(x \\right)}} \\sin{\\left(x \\right)}}{z} - 1\\right)^{2} + s_{z}^{2} \\left(- \\frac{a e^{y \\sin{\\left(x \\right)}}}{z^{2}}\\right)^{2}}$"
      ],
      "text/plain": [
       "sqrt(s_x**2*(a*y*exp(y*sin(x))*cos(x)/z + cos(x))**2 + s_y**2*(a*exp(y*sin(x))*sin(x)/z - 1)**2 + s_z**2*(-a*exp(y*sin(x))/z**2)**2)"
      ]
     },
     "execution_count": 8,
     "metadata": {},
     "output_type": "execute_result"
    }
   ],
   "source": [
    "a,x,y,z,w = sympy.symbols('a,x,y,z,w')\n",
    "\n",
    "print('our initial equation')\n",
    "some_equation = sympy.Eq(w + y - sympy.sin(x), a * sympy.exp(y * sympy.sin(x)) / z + 2)\n",
    "display(some_equation)\n",
    "\n",
    "print('our equation solved for w')\n",
    "w_expr = sympy.solve(some_equation, w)[0]\n",
    "display(w_expr)\n",
    "\n",
    "print('error derivation of w assuming x,y,z are values with errors and a is a constant')\n",
    "pt.derive_err(w_expr, values = [x,y,z], target_symbol=w, do_display=True)"
   ]
  },
  {
   "cell_type": "markdown",
   "metadata": {},
   "source": [
    "Using the same `sympy` expressions we can calculate the error of the expressions using our measured values"
   ]
  },
  {
   "cell_type": "code",
   "execution_count": 9,
   "metadata": {},
   "outputs": [
    {
     "name": "stdout",
     "output_type": "stream",
     "text": [
      "The error when computed for each value in the grouped z vals separately\n"
     ]
    },
    {
     "data": {
      "text/latex": [
       "$1600\\pm770,  \\\\1470\\pm720,  \\\\1390\\pm710,  \\\\1410\\pm710,  \\\\1900\\pm1100$"
      ],
      "text/plain": [
       "['1600' '1470' '1390' '1410' '1900'] ± ['770' '720' '710' '710' '1100']"
      ]
     },
     "metadata": {},
     "output_type": "display_data"
    },
    {
     "name": "stdout",
     "output_type": "stream",
     "text": [
      "The average of the values above\n"
     ]
    },
    {
     "data": {
      "text/latex": [
       "$1550\\pm370$"
      ],
      "text/plain": [
       "1550 ± 370"
      ]
     },
     "metadata": {},
     "output_type": "display_data"
    },
    {
     "name": "stdout",
     "output_type": "stream",
     "text": [
      "The error when computed for the averaged z value\n"
     ]
    },
    {
     "data": {
      "text/latex": [
       "$1530\\pm750$"
      ],
      "text/plain": [
       "1530 ± 750"
      ]
     },
     "metadata": {},
     "output_type": "display_data"
    },
    {
     "name": "stdout",
     "output_type": "stream",
     "text": [
      "The value computed with the true means of the distribution\n"
     ]
    },
    {
     "data": {
      "text/latex": [
       "$1691.45$"
      ],
      "text/plain": [
       "1691.45 ± 0"
      ]
     },
     "metadata": {},
     "output_type": "display_data"
    }
   ],
   "source": [
    "A_VAL = np.pi * 300\n",
    "\n",
    "w_grouped_val = pt.calc_err(w_expr, {a : A_VAL, x: x_val, y: y_val, z: z_vals_grouped})\n",
    "w_val_1 = w_grouped_val.average()\n",
    "w_val_2 = pt.calc_err(w_expr, {a : A_VAL, x: x_val, y: y_val, z: z_val_1})\n",
    "theoretical_val = pt.calc_err(w_expr, {a: A_VAL, x: x_center, y: y_center, z: z_center})\n",
    "print('The error when computed for each value in the grouped z vals separately')\n",
    "display(w_grouped_val)\n",
    "print('The average of the values above')\n",
    "display(w_val_1)\n",
    "print('The error when computed for the averaged z value')\n",
    "display(w_val_2)\n",
    "print('The value computed with the true means of the distribution')\n",
    "display(theoretical_val)\n",
    "\n",
    "assert w_val_1.approx_eq(theoretical_val)\n",
    "assert w_val_2.approx_eq(theoretical_val)"
   ]
  },
  {
   "cell_type": "markdown",
   "metadata": {},
   "source": [
    "It is also possible to use operators on the `Err` objects directly. Not however that for some expressions the result using the direct evaluation will differ from the result using the `calc_err` method."
   ]
  },
  {
   "cell_type": "code",
   "execution_count": 10,
   "metadata": {},
   "outputs": [
    {
     "data": {
      "text/latex": [
       "$6.67\\pm0.76$"
      ],
      "text/plain": [
       "6.67 ± 0.76"
      ]
     },
     "metadata": {},
     "output_type": "display_data"
    },
    {
     "data": {
      "text/latex": [
       "$6.67\\pm0.68$"
      ],
      "text/plain": [
       "6.67 ± 0.68"
      ]
     },
     "metadata": {},
     "output_type": "display_data"
    }
   ],
   "source": [
    "u_val_1 = pt.calc_err(x + y**2 + y, {x: x_val, y: y_val})\n",
    "u_val_2 = x_val + y_val**2 + y_val \n",
    "#since the terms y_val**2 and y_val are evaluated separately their correlation will not be captured in the final result. \n",
    "#In this case it is better to use the calc_err method\n",
    "display(u_val_1)\n",
    "display(u_val_2)\n",
    "assert not u_val_1.allclose(u_val_2)"
   ]
  },
  {
   "cell_type": "code",
   "execution_count": 11,
   "metadata": {},
   "outputs": [
    {
     "data": {
      "text/latex": [
       "$1.00\\pm0.44$"
      ],
      "text/plain": [
       "1.00 ± 0.44"
      ]
     },
     "metadata": {},
     "output_type": "display_data"
    },
    {
     "data": {
      "text/latex": [
       "$1.00\\pm0.44$"
      ],
      "text/plain": [
       "1.00 ± 0.44"
      ]
     },
     "metadata": {},
     "output_type": "display_data"
    }
   ],
   "source": [
    "v_val_1 = pt.calc_err(x**sympy.sin(y**0.5), {x: x_val, y: y_val})\n",
    "v_val_2 = x_val**(y_val**0.5).apply(sympy.sin) \n",
    "#if every independent variable only appears once in the expression the result of calc_err and direct evaluation will match up!\n",
    "#In this case direct evaluation is sufficent\n",
    "display(v_val_1)\n",
    "display(v_val_2)\n",
    "assert v_val_1.allclose(v_val_2)"
   ]
  },
  {
   "cell_type": "code",
   "execution_count": 12,
   "metadata": {},
   "outputs": [
    {
     "data": {
      "text/latex": [
       "$4.55\\pm0.61$"
      ],
      "text/plain": [
       "4.55 ± 0.61"
      ]
     },
     "metadata": {},
     "output_type": "display_data"
    },
    {
     "data": {
      "text/latex": [
       "$4.55\\pm0.61$"
      ],
      "text/plain": [
       "4.55 ± 0.61"
      ]
     },
     "metadata": {},
     "output_type": "display_data"
    },
    {
     "data": {
      "text/latex": [
       "$-1.73\\pm0.61$"
      ],
      "text/plain": [
       "-1.73 ± 0.61"
      ]
     },
     "metadata": {},
     "output_type": "display_data"
    },
    {
     "data": {
      "text/latex": [
       "$1.73\\pm0.61$"
      ],
      "text/plain": [
       "1.73 ± 0.61"
      ]
     },
     "metadata": {},
     "output_type": "display_data"
    },
    {
     "data": {
      "text/latex": [
       "$4.4\\pm1.9$"
      ],
      "text/plain": [
       "4.4 ± 1.9"
      ]
     },
     "metadata": {},
     "output_type": "display_data"
    },
    {
     "data": {
      "text/latex": [
       "$4.4\\pm1.9$"
      ],
      "text/plain": [
       "4.4 ± 1.9"
      ]
     },
     "metadata": {},
     "output_type": "display_data"
    },
    {
     "data": {
      "text/latex": [
       "$0.45\\pm0.19$"
      ],
      "text/plain": [
       "0.45 ± 0.19"
      ]
     },
     "metadata": {},
     "output_type": "display_data"
    },
    {
     "data": {
      "text/latex": [
       "$2.22\\pm0.96$"
      ],
      "text/plain": [
       "2.22 ± 0.96"
      ]
     },
     "metadata": {},
     "output_type": "display_data"
    },
    {
     "data": {
      "text/latex": [
       "$3.0\\pm4.0$"
      ],
      "text/plain": [
       "3.0 ± 4.0"
      ]
     },
     "metadata": {},
     "output_type": "display_data"
    },
    {
     "data": {
      "text/latex": [
       "$5.0\\pm3.5$"
      ],
      "text/plain": [
       "5.0 ± 3.5"
      ]
     },
     "metadata": {},
     "output_type": "display_data"
    }
   ],
   "source": [
    "x_val = pt.Err(1.414, 0.61)\n",
    "other = 3.141\n",
    "tests = [\n",
    "    x_val + other,\n",
    "    other + x_val,\n",
    "    x_val - other,\n",
    "    other - x_val,\n",
    "    x_val * other,\n",
    "    other * x_val,\n",
    "    x_val / other,\n",
    "    other / x_val,\n",
    "    x_val ** other,\n",
    "    other ** x_val,\n",
    "    ]\n",
    "display(*tests)"
   ]
  },
  {
   "cell_type": "code",
   "execution_count": 13,
   "metadata": {},
   "outputs": [
    {
     "data": {
      "image/png": "[encoded data removed]",
      "text/plain": [
       "<Figure size 640x480 with 1 Axes>"
      ]
     },
     "metadata": {},
     "output_type": "display_data"
    }
   ],
   "source": [
    "x_data = np.linspace(1,2, 100)\n",
    "a_val = pt.Err(5,1)\n",
    "b_val = pt.Err(-1,0.5)\n",
    "a,b,x = sympy.symbols('a,b,c')\n",
    "expr = sympy.sin(a*x**2)*x**b\n",
    "y_data = pt.calc_err(expr, {a: a_val, b:b_val, x:x_data})\n",
    "pt.start_plt('An example plot', 'x', 'y')\n",
    "pt.err_band_plot(x_data, y_data.mean, y_data.err, label=r'$\\sin(a^x)b^x$', color = 'purple')\n",
    "pt.end_plt()"
   ]
  },
  {
   "cell_type": "code",
   "execution_count": 14,
   "metadata": {},
   "outputs": [
    {
     "data": {
      "image/png": "[encoded data removed]",
      "text/plain": [
       "<Figure size 640x480 with 1 Axes>"
      ]
     },
     "metadata": {},
     "output_type": "display_data"
    }
   ],
   "source": [
    "x_data = np.array([0.5, 2, 3, 4, 5])\n",
    "y_data = pt.Err(\n",
    "    np.array([4, 6, 6, 4, 1]),\n",
    "    np.array([5.4, 1.8, 2.5, 1.4, 1.4])*0.3\n",
    "    )\n",
    "\n",
    "\n",
    "pt.start_plt('linear regression example', 'x', 'y')\n",
    "\n",
    "plt.errorbar(x_data, y_data.mean, y_data.err, capsize=3, fmt='o')\n",
    "\n",
    "\n",
    "for method in ['script', 'residuals', 'covariance']:\n",
    "    slope, intercept, x_center, y_center = pt.linear_linregress(x_data, y_data, method)\n",
    "    x_data_linregress = np.linspace(x_data.min(), x_data.max())\n",
    "    #the shift by x_center is necessary to ensure proper error calculation\n",
    "    y_data_linregress = slope*(x_data_linregress-x_center)+x_center*slope.mean + intercept \n",
    "\n",
    "    pt.err_band_plot(x_data_linregress, y_data_linregress.mean, y_data_linregress.err, f'f(x) = ({slope.latex_array()}) x + {intercept.latex_array()} method : {method}')\n",
    "\n",
    "pt.end_plt()"
   ]
  }
 ],
 "metadata": {
  "kernelspec": {
   "display_name": "Python 3",
   "language": "python",
   "name": "python3"
  },
  "language_info": {
   "codemirror_mode": {
    "name": "ipython",
    "version": 3
   },
   "file_extension": ".py",
   "mimetype": "text/x-python",
   "name": "python",
   "nbconvert_exporter": "python",
   "pygments_lexer": "ipython3",
   "version": "3.12.5"
  }
 },
 "nbformat": 4,
 "nbformat_minor": 2
}
