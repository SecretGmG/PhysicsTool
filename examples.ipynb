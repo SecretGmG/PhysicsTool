{
 "cells": [
  {
   "cell_type": "markdown",
   "metadata": {},
   "source": [
    "# PhysicsTool: Overview\n",
    "\n",
    "`PhysicsTool` is designed to simplify error propagation and analysis in physics experiments. It provides a streamlined way to work with quantities that have both means and errors, using `Err` objects to manage error propagation automatically.\n",
    "\n",
    "### Key Features\n",
    "- Handle and propagate errors using custom `Err` objects.\n",
    "- Perform linear regression with error estimation.\n",
    "- Automatically derive error formulas with symbolic computation using `sympy`.\n",
    "- Plot results with error bands using built-in visualization tools.\n"
   ]
  },
  {
   "cell_type": "code",
   "execution_count": 1,
   "metadata": {},
   "outputs": [],
   "source": [
    "import PhysicsTool as pt\n",
    "import pandas as pd\n",
    "import numpy as np\n",
    "import sympy\n",
    "import matplotlib.pyplot as plt\n",
    "from sys import stdout\n",
    "np.random.seed(0)"
   ]
  },
  {
   "cell_type": "markdown",
   "metadata": {},
   "source": [
    "# Working with Err Objects\n",
    "\n",
    "In this section, we will demonstrate how to create `Err` objects that represent quantities with both a mean and an associated error. The `Err` class simplifies calculations involving uncertainties by handling both the mean and the error simultaneously.\n",
    "\n",
    "### Methods:\n",
    "- `Err`: Create an `Err` object from a mean and error.\n",
    "- `Err.from_data`: Automatically calculate the mean and standard deviation (error) from a data series.\n",
    "\n",
    "We will first generate random data and create `Err` objects using both methods.\n"
   ]
  },
  {
   "cell_type": "markdown",
   "metadata": {},
   "source": [
    "Here I generate the raw data used in this example.\n",
    "We are interested in the following 3 Quantities:\n",
    " - $x$: Of which we know the mean and error\n",
    " - $y$: Of which we are given 10 measurements\n",
    " - $z$: Of which we are given 5 series of 10 measurements "
   ]
  },
  {
   "cell_type": "code",
   "execution_count": 2,
   "metadata": {},
   "outputs": [
    {
     "name": "stdout",
     "output_type": "stream",
     "text": [
      "x mean: 1.4546354\n",
      "x error: 0.64813414\n"
     ]
    },
    {
     "data": {
      "text/html": [
       "<div>\n",
       "<style scoped>\n",
       "    .dataframe tbody tr th:only-of-type {\n",
       "        vertical-align: middle;\n",
       "    }\n",
       "\n",
       "    .dataframe tbody tr th {\n",
       "        vertical-align: top;\n",
       "    }\n",
       "\n",
       "    .dataframe thead th {\n",
       "        text-align: right;\n",
       "    }\n",
       "</style>\n",
       "<table border=\"1\" class=\"dataframe\">\n",
       "  <thead>\n",
       "    <tr style=\"text-align: right;\">\n",
       "      <th></th>\n",
       "      <th>y</th>\n",
       "      <th>z_0</th>\n",
       "      <th>z_1</th>\n",
       "      <th>z_2</th>\n",
       "      <th>z_3</th>\n",
       "      <th>z_4</th>\n",
       "    </tr>\n",
       "  </thead>\n",
       "  <tbody>\n",
       "    <tr>\n",
       "      <th>0</th>\n",
       "      <td>0.883367</td>\n",
       "      <td>1531.253801</td>\n",
       "      <td>1530.119767</td>\n",
       "      <td>1529.794326</td>\n",
       "      <td>1527.110659</td>\n",
       "      <td>1540.924853</td>\n",
       "    </tr>\n",
       "    <tr>\n",
       "      <th>1</th>\n",
       "      <td>0.201420</td>\n",
       "      <td>1531.574462</td>\n",
       "      <td>1529.627576</td>\n",
       "      <td>1530.592239</td>\n",
       "      <td>1534.909720</td>\n",
       "      <td>1524.770305</td>\n",
       "    </tr>\n",
       "    <tr>\n",
       "      <th>2</th>\n",
       "      <td>0.490710</td>\n",
       "      <td>1531.595544</td>\n",
       "      <td>1529.248292</td>\n",
       "      <td>1529.435577</td>\n",
       "      <td>1533.266976</td>\n",
       "      <td>1525.156675</td>\n",
       "    </tr>\n",
       "    <tr>\n",
       "      <th>3</th>\n",
       "      <td>1.121787</td>\n",
       "      <td>1531.434883</td>\n",
       "      <td>1534.093877</td>\n",
       "      <td>1527.107079</td>\n",
       "      <td>1525.709780</td>\n",
       "      <td>1536.356084</td>\n",
       "    </tr>\n",
       "    <tr>\n",
       "      <th>4</th>\n",
       "      <td>0.935120</td>\n",
       "      <td>1531.736075</td>\n",
       "      <td>1530.833811</td>\n",
       "      <td>1531.961537</td>\n",
       "      <td>1537.127252</td>\n",
       "      <td>1525.643483</td>\n",
       "    </tr>\n",
       "    <tr>\n",
       "      <th>5</th>\n",
       "      <td>-0.487298</td>\n",
       "      <td>1531.363663</td>\n",
       "      <td>1530.928652</td>\n",
       "      <td>1530.484559</td>\n",
       "      <td>1538.666082</td>\n",
       "      <td>1541.227206</td>\n",
       "    </tr>\n",
       "    <tr>\n",
       "      <th>6</th>\n",
       "      <td>0.476385</td>\n",
       "      <td>1531.513676</td>\n",
       "      <td>1529.849146</td>\n",
       "      <td>1527.352094</td>\n",
       "      <td>1535.958993</td>\n",
       "      <td>1529.441005</td>\n",
       "    </tr>\n",
       "    <tr>\n",
       "      <th>7</th>\n",
       "      <td>-0.074338</td>\n",
       "      <td>1531.490382</td>\n",
       "      <td>1532.539275</td>\n",
       "      <td>1532.689195</td>\n",
       "      <td>1530.829884</td>\n",
       "      <td>1527.771826</td>\n",
       "    </tr>\n",
       "    <tr>\n",
       "      <th>8</th>\n",
       "      <td>-0.050269</td>\n",
       "      <td>1531.662378</td>\n",
       "      <td>1529.370685</td>\n",
       "      <td>1529.195489</td>\n",
       "      <td>1527.467009</td>\n",
       "      <td>1541.123810</td>\n",
       "    </tr>\n",
       "    <tr>\n",
       "      <th>9</th>\n",
       "      <td>0.206640</td>\n",
       "      <td>1531.656036</td>\n",
       "      <td>1531.227219</td>\n",
       "      <td>1531.641561</td>\n",
       "      <td>1535.489655</td>\n",
       "      <td>1538.911674</td>\n",
       "    </tr>\n",
       "    <tr>\n",
       "      <th>10</th>\n",
       "      <td>0.073363</td>\n",
       "      <td>1531.524595</td>\n",
       "      <td>1530.322607</td>\n",
       "      <td>1533.368281</td>\n",
       "      <td>1529.987107</td>\n",
       "      <td>1540.846895</td>\n",
       "    </tr>\n",
       "    <tr>\n",
       "      <th>11</th>\n",
       "      <td>0.728478</td>\n",
       "      <td>1531.546916</td>\n",
       "      <td>1532.021746</td>\n",
       "      <td>1531.838006</td>\n",
       "      <td>1536.123830</td>\n",
       "      <td>1536.039323</td>\n",
       "    </tr>\n",
       "    <tr>\n",
       "      <th>12</th>\n",
       "      <td>0.381860</td>\n",
       "      <td>1531.420321</td>\n",
       "      <td>1530.832283</td>\n",
       "      <td>1534.414572</td>\n",
       "      <td>1532.295338</td>\n",
       "      <td>1527.202972</td>\n",
       "    </tr>\n",
       "    <tr>\n",
       "      <th>13</th>\n",
       "      <td>0.062178</td>\n",
       "      <td>1531.311020</td>\n",
       "      <td>1529.944762</td>\n",
       "      <td>1528.360294</td>\n",
       "      <td>1535.195912</td>\n",
       "      <td>1541.059425</td>\n",
       "    </tr>\n",
       "    <tr>\n",
       "      <th>14</th>\n",
       "      <td>0.223273</td>\n",
       "      <td>1531.474309</td>\n",
       "      <td>1531.471759</td>\n",
       "      <td>1532.535071</td>\n",
       "      <td>1532.854383</td>\n",
       "      <td>1530.169083</td>\n",
       "    </tr>\n",
       "    <tr>\n",
       "      <th>15</th>\n",
       "      <td>0.168178</td>\n",
       "      <td>1531.524735</td>\n",
       "      <td>1532.076640</td>\n",
       "      <td>1529.762834</td>\n",
       "      <td>1534.176414</td>\n",
       "      <td>1535.521382</td>\n",
       "    </tr>\n",
       "    <tr>\n",
       "      <th>16</th>\n",
       "      <td>0.748380</td>\n",
       "      <td>1531.632129</td>\n",
       "      <td>1531.597235</td>\n",
       "      <td>1529.288567</td>\n",
       "      <td>1531.548738</td>\n",
       "      <td>1536.245360</td>\n",
       "    </tr>\n",
       "    <tr>\n",
       "      <th>17</th>\n",
       "      <td>-0.101238</td>\n",
       "      <td>1531.629338</td>\n",
       "      <td>1531.909875</td>\n",
       "      <td>1530.033033</td>\n",
       "      <td>1538.250761</td>\n",
       "      <td>1530.734050</td>\n",
       "    </tr>\n",
       "    <tr>\n",
       "      <th>18</th>\n",
       "      <td>0.157875</td>\n",
       "      <td>1531.470367</td>\n",
       "      <td>1530.668623</td>\n",
       "      <td>1530.714641</td>\n",
       "      <td>1531.988193</td>\n",
       "      <td>1534.579497</td>\n",
       "    </tr>\n",
       "    <tr>\n",
       "      <th>19</th>\n",
       "      <td>-0.425707</td>\n",
       "      <td>1531.478870</td>\n",
       "      <td>1531.028468</td>\n",
       "      <td>1531.652322</td>\n",
       "      <td>1533.026610</td>\n",
       "      <td>1536.120133</td>\n",
       "    </tr>\n",
       "  </tbody>\n",
       "</table>\n",
       "</div>"
      ],
      "text/plain": [
       "           y          z_0          z_1          z_2          z_3          z_4\n",
       "0   0.883367  1531.253801  1530.119767  1529.794326  1527.110659  1540.924853\n",
       "1   0.201420  1531.574462  1529.627576  1530.592239  1534.909720  1524.770305\n",
       "2   0.490710  1531.595544  1529.248292  1529.435577  1533.266976  1525.156675\n",
       "3   1.121787  1531.434883  1534.093877  1527.107079  1525.709780  1536.356084\n",
       "4   0.935120  1531.736075  1530.833811  1531.961537  1537.127252  1525.643483\n",
       "5  -0.487298  1531.363663  1530.928652  1530.484559  1538.666082  1541.227206\n",
       "6   0.476385  1531.513676  1529.849146  1527.352094  1535.958993  1529.441005\n",
       "7  -0.074338  1531.490382  1532.539275  1532.689195  1530.829884  1527.771826\n",
       "8  -0.050269  1531.662378  1529.370685  1529.195489  1527.467009  1541.123810\n",
       "9   0.206640  1531.656036  1531.227219  1531.641561  1535.489655  1538.911674\n",
       "10  0.073363  1531.524595  1530.322607  1533.368281  1529.987107  1540.846895\n",
       "11  0.728478  1531.546916  1532.021746  1531.838006  1536.123830  1536.039323\n",
       "12  0.381860  1531.420321  1530.832283  1534.414572  1532.295338  1527.202972\n",
       "13  0.062178  1531.311020  1529.944762  1528.360294  1535.195912  1541.059425\n",
       "14  0.223273  1531.474309  1531.471759  1532.535071  1532.854383  1530.169083\n",
       "15  0.168178  1531.524735  1532.076640  1529.762834  1534.176414  1535.521382\n",
       "16  0.748380  1531.632129  1531.597235  1529.288567  1531.548738  1536.245360\n",
       "17 -0.101238  1531.629338  1531.909875  1530.033033  1538.250761  1530.734050\n",
       "18  0.157875  1531.470367  1530.668623  1530.714641  1531.988193  1534.579497\n",
       "19 -0.425707  1531.478870  1531.028468  1531.652322  1533.026610  1536.120133"
      ]
     },
     "metadata": {},
     "output_type": "display_data"
    }
   ],
   "source": [
    "x_center = 1.4546354\n",
    "y_center = 0.0013409\n",
    "z_center = 1531.5091\n",
    "\n",
    "x_mean = x_center\n",
    "x_error = 0.64813414\n",
    "\n",
    "NR_MEASUREMENTS = 20\n",
    "NR_SERIES = 5\n",
    "\n",
    "y_data = np.random.standard_normal(NR_MEASUREMENTS) * 0.5 + y_center\n",
    "z_data = np.random.standard_normal((NR_SERIES, NR_MEASUREMENTS)) * np.linspace(0.1, 5, NR_SERIES)[:, None] + z_center\n",
    "\n",
    "raw_data_table = pd.DataFrame({\n",
    "    'y' : y_data,\n",
    "} | {\n",
    "    f'z_{i}' : col for i, col in enumerate(z_data)\n",
    "})\n",
    "print(f'x mean: {x_mean}\\nx error: {x_error}')\n",
    "display(raw_data_table)"
   ]
  },
  {
   "cell_type": "markdown",
   "metadata": {},
   "source": [
    "The error objects for $x$ and $y$ can be generated directly and using the `err.from_data()` method "
   ]
  },
  {
   "cell_type": "code",
   "execution_count": 3,
   "metadata": {},
   "outputs": [],
   "source": [
    "x_val = pt.Err(x_mean, x_error)\n",
    "y_val = pt.Err.from_data(y_data)\n"
   ]
  },
  {
   "cell_type": "markdown",
   "metadata": {},
   "source": [
    "These objects can be displayed using IPython functions or logged with a logger that provides additional features."
   ]
  },
  {
   "cell_type": "code",
   "execution_count": 4,
   "metadata": {},
   "outputs": [
    {
     "data": {
      "text/latex": [
       "$1.45 \\pm 0.65$"
      ],
      "text/plain": [
       "1.45 ± 0.65"
      ]
     },
     "metadata": {},
     "output_type": "display_data"
    },
    {
     "data": {
      "text/latex": [
       "$(286 \\pm 97) \\times 10^{-3}$"
      ],
      "text/plain": [
       "(286 ± 97) × 10^-3"
      ]
     },
     "metadata": {},
     "output_type": "display_data"
    },
    {
     "data": {
      "text/latex": [
       "$1.45 \\pm 0.65$"
      ],
      "text/plain": [
       "1.45 ± 0.65"
      ]
     },
     "metadata": {},
     "output_type": "display_data"
    },
    {
     "name": "stdout",
     "output_type": "stream",
     "text": [
      "$1.45 \\pm 0.65$\n"
     ]
    },
    {
     "data": {
      "text/latex": [
       "$(286 \\pm 97) \\times 10^{-3}$"
      ],
      "text/plain": [
       "(286 ± 97) × 10^-3"
      ]
     },
     "metadata": {},
     "output_type": "display_data"
    },
    {
     "name": "stdout",
     "output_type": "stream",
     "text": [
      "$(286 \\pm 97) \\times 10^{-3}$\n"
     ]
    }
   ],
   "source": [
    "display(x_val)\n",
    "display(y_val)\n",
    "pt.log(x_val)\n",
    "pt.log(y_val)"
   ]
  },
  {
   "cell_type": "markdown",
   "metadata": {},
   "source": [
    "We could generate a single error object for the measurements of $z$. But we might want to calculate mean and error for each series separately. That's why the  `Err.from_data` method includes the `axis` argument to specify along what axis the mean and error should be computed"
   ]
  },
  {
   "cell_type": "code",
   "execution_count": 5,
   "metadata": {},
   "outputs": [],
   "source": [
    "z_vals_grouped = pt.Err.from_data(z_data, axis = 1)"
   ]
  },
  {
   "cell_type": "markdown",
   "metadata": {},
   "source": [
    "There are many ways to display the data stored in an `Err` object. Below multiple different ways to do this are shown."
   ]
  },
  {
   "cell_type": "code",
   "execution_count": 6,
   "metadata": {},
   "outputs": [
    {
     "name": "stdout",
     "output_type": "stream",
     "text": [
      "simple print statement\n",
      "\n",
      "(1.531515 ± 0.000027) × 10^3\n",
      "(1.53099 ± 0.00027) × 10^3\n",
      "(1.53061 ± 0.00043) × 10^3\n",
      "(1.53310 ± 0.00081) × 10^3\n",
      "(1.5340 ± 0.0013) × 10^3\n",
      "\n",
      "toString() showcasing custom arguments\n",
      "\n",
      "(1.531514675 ± 0.0017793%) × 10^3\n",
      "(1.53098561 ± 0.017427%) × 10^3\n",
      "(1.53061106 ± 0.028123%) × 10^3\n",
      "(1.53309916 ± 0.052591%) × 10^3\n",
      "(1.5339923 ± 0.085783%) × 10^3\n",
      "printing latex representation\n"
     ]
    },
    {
     "ename": "TypeError",
     "evalue": "Err.latex_array() got an unexpected keyword argument 'val_sigfigs'",
     "output_type": "error",
     "traceback": [
      "\u001b[1;31m---------------------------------------------------------------------------\u001b[0m",
      "\u001b[1;31mTypeError\u001b[0m                                 Traceback (most recent call last)",
      "Cell \u001b[1;32mIn[6], line 10\u001b[0m\n\u001b[0;32m      8\u001b[0m \u001b[38;5;28mprint\u001b[39m(z_vals_grouped\u001b[38;5;241m.\u001b[39mtoString(\u001b[38;5;241m5\u001b[39m, relative\u001b[38;5;241m=\u001b[39m\u001b[38;5;28;01mTrue\u001b[39;00m, expontent_factor\u001b[38;5;241m=\u001b[39m\u001b[38;5;241m1\u001b[39m))\n\u001b[0;32m      9\u001b[0m \u001b[38;5;28mprint\u001b[39m(\u001b[38;5;124m'\u001b[39m\u001b[38;5;124mprinting latex representation\u001b[39m\u001b[38;5;124m'\u001b[39m)\n\u001b[1;32m---> 10\u001b[0m \u001b[38;5;28mprint\u001b[39m(z_vals_grouped\u001b[38;5;241m.\u001b[39mlatex())\n\u001b[0;32m     11\u001b[0m \u001b[38;5;28mprint\u001b[39m(\u001b[38;5;124m'\u001b[39m\u001b[38;5;130;01m\\n\u001b[39;00m\u001b[38;5;124msimple IPython display\u001b[39m\u001b[38;5;130;01m\\n\u001b[39;00m\u001b[38;5;124m'\u001b[39m)\n\u001b[0;32m     12\u001b[0m display(z_vals_grouped)\n",
      "File \u001b[1;32mc:\\Users\\cedric\\Documents\\repos\\PhysicsTool\\PhysicsTool\\err.py:201\u001b[0m, in \u001b[0;36mErr.latex\u001b[1;34m(self, err_sigfigs, val_sigfigs, relative, delimiter)\u001b[0m\n\u001b[0;32m    188\u001b[0m \u001b[38;5;28;01mdef\u001b[39;00m \u001b[38;5;21mlatex\u001b[39m(\u001b[38;5;28mself\u001b[39m, err_sigfigs: \u001b[38;5;28mint\u001b[39m \u001b[38;5;241m=\u001b[39m \u001b[38;5;241m2\u001b[39m, val_sigfigs: \u001b[38;5;28mint\u001b[39m \u001b[38;5;241m=\u001b[39m \u001b[38;5;241m5\u001b[39m, relative: \u001b[38;5;28mbool\u001b[39m \u001b[38;5;241m=\u001b[39m \u001b[38;5;28;01mFalse\u001b[39;00m, delimiter: \u001b[38;5;28mstr\u001b[39m \u001b[38;5;241m=\u001b[39m \u001b[38;5;124m'\u001b[39m\u001b[38;5;124m$\u001b[39m\u001b[38;5;124m'\u001b[39m) \u001b[38;5;241m-\u001b[39m\u001b[38;5;241m>\u001b[39m \u001b[38;5;28mstr\u001b[39m:\n\u001b[0;32m    189\u001b[0m \u001b[38;5;250m    \u001b[39m\u001b[38;5;124;03m'''\u001b[39;00m\n\u001b[0;32m    190\u001b[0m \u001b[38;5;124;03m    Generates a LaTeX string for the error and mean values with customizable formatting.\u001b[39;00m\n\u001b[0;32m    191\u001b[0m \n\u001b[1;32m   (...)\u001b[0m\n\u001b[0;32m    199\u001b[0m \u001b[38;5;124;03m        str: A LaTeX-formatted string.\u001b[39;00m\n\u001b[0;32m    200\u001b[0m \u001b[38;5;124;03m    '''\u001b[39;00m\n\u001b[1;32m--> 201\u001b[0m     latex_strings \u001b[38;5;241m=\u001b[39m np\u001b[38;5;241m.\u001b[39mravel(\u001b[38;5;28mself\u001b[39m\u001b[38;5;241m.\u001b[39mlatex_array(err_sigfigs\u001b[38;5;241m=\u001b[39merr_sigfigs, val_sigfigs\u001b[38;5;241m=\u001b[39mval_sigfigs, relative\u001b[38;5;241m=\u001b[39mrelative, delimiter\u001b[38;5;241m=\u001b[39mdelimiter))\n\u001b[0;32m    202\u001b[0m     \u001b[38;5;28;01mreturn\u001b[39;00m delimiter \u001b[38;5;241m+\u001b[39m \u001b[38;5;124mr\u001b[39m\u001b[38;5;124m'\u001b[39m\u001b[38;5;130;01m\\\\\u001b[39;00m\u001b[38;5;124m'\u001b[39m\u001b[38;5;241m.\u001b[39mjoin(latex_strings) \u001b[38;5;241m+\u001b[39m delimiter\n",
      "\u001b[1;31mTypeError\u001b[0m: Err.latex_array() got an unexpected keyword argument 'val_sigfigs'"
     ]
    }
   ],
   "source": [
    "display_example_table = pd.DataFrame({\n",
    "    'z' : z_vals_grouped.latex_array()\n",
    "})\n",
    "display_example_table.index.name = 'i'\n",
    "print('simple print statement\\n')\n",
    "print(z_vals_grouped)\n",
    "print('\\ntoString() showcasing custom arguments\\n')\n",
    "print(z_vals_grouped.toString(5, relative=True, expontent_factor=1))\n",
    "print('printing latex representation')\n",
    "print(z_vals_grouped.latex())\n",
    "print('\\nsimple IPython display\\n')\n",
    "display(z_vals_grouped)\n",
    "print('\\nlogging a DataFrame, this can optionally write the LaTex representation to a TextIO Stream\\n')\n",
    "pt.log(display_example_table, tex = stdout)"
   ]
  },
  {
   "cell_type": "markdown",
   "metadata": {},
   "source": [
    "`Err` objects can be indexed just like numpy arrays"
   ]
  },
  {
   "cell_type": "code",
   "execution_count": 8,
   "metadata": {},
   "outputs": [
    {
     "data": {
      "text/latex": [
       "$(1.53310 \\pm 0.00081) \\times 10^{3}$"
      ],
      "text/plain": [
       "(1.53310 ± 0.00081) × 10^3"
      ]
     },
     "metadata": {},
     "output_type": "display_data"
    },
    {
     "data": {
      "text/latex": [
       "$(1.531515 \\pm 0.000027) \\times 10^{3}\\\\(1.53099 \\pm 0.00027) \\times 10^{3}\\\\(1.53061 \\pm 0.00043) \\times 10^{3}$"
      ],
      "text/plain": [
       "(1.531515 ± 0.000027) × 10^3\n",
       "(1.53099 ± 0.00027) × 10^3\n",
       "(1.53061 ± 0.00043) × 10^3"
      ]
     },
     "metadata": {},
     "output_type": "display_data"
    },
    {
     "name": "stdout",
     "output_type": "stream",
     "text": [
      "0: (1.531515 ± 0.000027) × 10^3\n",
      "1: (1.53099 ± 0.00027) × 10^3\n"
     ]
    }
   ],
   "source": [
    "display(z_vals_grouped[3])\n",
    "display(z_vals_grouped[z_vals_grouped.err < 0.5])\n",
    "for i, z_val in enumerate(z_vals_grouped[0:2]):\n",
    "    print(f'{i}: {z_val}')"
   ]
  },
  {
   "cell_type": "markdown",
   "metadata": {},
   "source": [
    "We can now compute the average over the different series. Note how the weighted average gives a more accurate result."
   ]
  },
  {
   "cell_type": "code",
   "execution_count": 9,
   "metadata": {},
   "outputs": [
    {
     "data": {
      "text/latex": [
       "$(1.53204 \\pm 0.00032) \\times 10^{3}$"
      ],
      "text/plain": [
       "(1.53204 ± 0.00032) × 10^3"
      ]
     },
     "metadata": {},
     "output_type": "display_data"
    },
    {
     "data": {
      "text/latex": [
       "$(1.531509 \\pm 0.000027) \\times 10^{3}$"
      ],
      "text/plain": [
       "(1.531509 ± 0.000027) × 10^3"
      ]
     },
     "metadata": {},
     "output_type": "display_data"
    }
   ],
   "source": [
    "z_val_1 = z_vals_grouped.average()\n",
    "z_val_2 = z_vals_grouped.weighted_average()\n",
    "\n",
    "display(z_val_1)\n",
    "display(z_val_2)"
   ]
  },
  {
   "cell_type": "markdown",
   "metadata": {},
   "source": [
    "It is also possible to automate a big part of the error calculation using `sympy`."
   ]
  },
  {
   "cell_type": "code",
   "execution_count": 10,
   "metadata": {},
   "outputs": [
    {
     "name": "stdout",
     "output_type": "stream",
     "text": [
      "our initial equation\n"
     ]
    },
    {
     "data": {
      "text/latex": [
       "$\\displaystyle w + y - \\sin{\\left(x \\right)} = \\frac{a e^{y \\sin{\\left(x \\right)}}}{z} + 2$"
      ],
      "text/plain": [
       "Eq(w + y - sin(x), a*exp(y*sin(x))/z + 2)"
      ]
     },
     "metadata": {},
     "output_type": "display_data"
    },
    {
     "name": "stdout",
     "output_type": "stream",
     "text": [
      "our equation solved for w\n"
     ]
    },
    {
     "data": {
      "text/latex": [
       "$\\displaystyle \\frac{a e^{y \\sin{\\left(x \\right)}}}{z} - y + \\sin{\\left(x \\right)} + 2$"
      ],
      "text/plain": [
       "a*exp(y*sin(x))/z - y + sin(x) + 2"
      ]
     },
     "metadata": {},
     "output_type": "display_data"
    },
    {
     "name": "stdout",
     "output_type": "stream",
     "text": [
      "error derivation of w assuming x,y,z are values with errors and a is a constant\n"
     ]
    },
    {
     "data": {
      "text/latex": [
       "$\\displaystyle s_{w}^{2} = s_{x}^{2} \\left(\\frac{\\partial}{\\partial x} w{\\left(x,y,z \\right)}\\right)^{2} + s_{y}^{2} \\left(\\frac{\\partial}{\\partial y} w{\\left(x,y,z \\right)}\\right)^{2} + s_{z}^{2} \\left(\\frac{\\partial}{\\partial z} w{\\left(x,y,z \\right)}\\right)^{2}$"
      ],
      "text/plain": [
       "Eq(s_w**2, s_x**2*Derivative(w(x, y, z), x)**2 + s_y**2*Derivative(w(x, y, z), y)**2 + s_z**2*Derivative(w(x, y, z), z)**2)"
      ]
     },
     "metadata": {},
     "output_type": "display_data"
    },
    {
     "name": "stdout",
     "output_type": "stream",
     "text": [
      "\\[\n",
      "s_{w}^{2} = s_{x}^{2} \\left(\\frac{\\partial}{\\partial x} w{\\left(x,y,z \\right)}\\right)^{2} + s_{y}^{2} \\left(\\frac{\\partial}{\\partial y} w{\\left(x,y,z \\right)}\\right)^{2} + s_{z}^{2} \\left(\\frac{\\partial}{\\partial z} w{\\left(x,y,z \\right)}\\right)^{2}\n",
      "\\]\n"
     ]
    },
    {
     "data": {
      "text/latex": [
       "$\\displaystyle s_{w}^{2} = s_{x}^{2} \\left(\\frac{a y e^{y \\sin{\\left(x \\right)}} \\cos{\\left(x \\right)}}{z} + \\cos{\\left(x \\right)}\\right)^{2} + s_{y}^{2} \\left(\\frac{a e^{y \\sin{\\left(x \\right)}} \\sin{\\left(x \\right)}}{z} - 1\\right)^{2} + s_{z}^{2} \\left(- \\frac{a e^{y \\sin{\\left(x \\right)}}}{z^{2}}\\right)^{2}$"
      ],
      "text/plain": [
       "Eq(s_w**2, s_x**2*(a*y*exp(y*sin(x))*cos(x)/z + cos(x))**2 + s_y**2*(a*exp(y*sin(x))*sin(x)/z - 1)**2 + s_z**2*(-a*exp(y*sin(x))/z**2)**2)"
      ]
     },
     "metadata": {},
     "output_type": "display_data"
    },
    {
     "name": "stdout",
     "output_type": "stream",
     "text": [
      "\\[\n",
      "s_{w}^{2} = s_{x}^{2} \\left(\\frac{a y e^{y \\sin{\\left(x \\right)}} \\cos{\\left(x \\right)}}{z} + \\cos{\\left(x \\right)}\\right)^{2} + s_{y}^{2} \\left(\\frac{a e^{y \\sin{\\left(x \\right)}} \\sin{\\left(x \\right)}}{z} - 1\\right)^{2} + s_{z}^{2} \\left(- \\frac{a e^{y \\sin{\\left(x \\right)}}}{z^{2}}\\right)^{2}\n",
      "\\]\n"
     ]
    },
    {
     "data": {
      "text/latex": [
       "$\\displaystyle s_{w} = \\sqrt{s_{x}^{2} \\left(\\frac{a y e^{y \\sin{\\left(x \\right)}} \\cos{\\left(x \\right)}}{z} + \\cos{\\left(x \\right)}\\right)^{2} + s_{y}^{2} \\left(\\frac{a e^{y \\sin{\\left(x \\right)}} \\sin{\\left(x \\right)}}{z} - 1\\right)^{2} + s_{z}^{2} \\left(- \\frac{a e^{y \\sin{\\left(x \\right)}}}{z^{2}}\\right)^{2}}$"
      ],
      "text/plain": [
       "Eq(s_w, sqrt(s_x**2*(a*y*exp(y*sin(x))*cos(x)/z + cos(x))**2 + s_y**2*(a*exp(y*sin(x))*sin(x)/z - 1)**2 + s_z**2*(-a*exp(y*sin(x))/z**2)**2))"
      ]
     },
     "metadata": {},
     "output_type": "display_data"
    },
    {
     "name": "stdout",
     "output_type": "stream",
     "text": [
      "\\[\n",
      "s_{w} = \\sqrt{s_{x}^{2} \\left(\\frac{a y e^{y \\sin{\\left(x \\right)}} \\cos{\\left(x \\right)}}{z} + \\cos{\\left(x \\right)}\\right)^{2} + s_{y}^{2} \\left(\\frac{a e^{y \\sin{\\left(x \\right)}} \\sin{\\left(x \\right)}}{z} - 1\\right)^{2} + s_{z}^{2} \\left(- \\frac{a e^{y \\sin{\\left(x \\right)}}}{z^{2}}\\right)^{2}}\n",
      "\\]\n"
     ]
    },
    {
     "data": {
      "text/latex": [
       "$\\displaystyle \\sqrt{s_{x}^{2} \\left(\\frac{a y e^{y \\sin{\\left(x \\right)}} \\cos{\\left(x \\right)}}{z} + \\cos{\\left(x \\right)}\\right)^{2} + s_{y}^{2} \\left(\\frac{a e^{y \\sin{\\left(x \\right)}} \\sin{\\left(x \\right)}}{z} - 1\\right)^{2} + s_{z}^{2} \\left(- \\frac{a e^{y \\sin{\\left(x \\right)}}}{z^{2}}\\right)^{2}}$"
      ],
      "text/plain": [
       "sqrt(s_x**2*(a*y*exp(y*sin(x))*cos(x)/z + cos(x))**2 + s_y**2*(a*exp(y*sin(x))*sin(x)/z - 1)**2 + s_z**2*(-a*exp(y*sin(x))/z**2)**2)"
      ]
     },
     "execution_count": 10,
     "metadata": {},
     "output_type": "execute_result"
    }
   ],
   "source": [
    "a,x,y,z,w = sympy.symbols('a,x,y,z,w')\n",
    "\n",
    "print('our initial equation')\n",
    "some_equation = sympy.Eq(w + y - sympy.sin(x), a * sympy.exp(y * sympy.sin(x)) / z + 2)\n",
    "display(some_equation)\n",
    "\n",
    "print('our equation solved for w')\n",
    "w_expr = sympy.solve(some_equation, w)[0]\n",
    "display(w_expr)\n",
    "\n",
    "print('error derivation of w assuming x,y,z are values with errors and a is a constant')\n",
    "pt.derive_err(w_expr, values = [x,y,z], target_symbol=w, do_display=True, tex = stdout)"
   ]
  },
  {
   "cell_type": "markdown",
   "metadata": {},
   "source": [
    "Using the same `sympy` expressions we can calculate the error of the expressions using our measured values"
   ]
  },
  {
   "cell_type": "code",
   "execution_count": 11,
   "metadata": {},
   "outputs": [
    {
     "name": "stdout",
     "output_type": "stream",
     "text": [
      "The error when computed for each value in the grouped z vals separately\n"
     ]
    },
    {
     "data": {
      "text/latex": [
       "$3.525 \\pm 0.094\\\\3.525 \\pm 0.094\\\\3.525 \\pm 0.094\\\\3.524 \\pm 0.094\\\\3.524 \\pm 0.094$"
      ],
      "text/plain": [
       "3.525 ± 0.094\n",
       "3.525 ± 0.094\n",
       "3.525 ± 0.094\n",
       "3.524 ± 0.094\n",
       "3.524 ± 0.094"
      ]
     },
     "metadata": {},
     "output_type": "display_data"
    },
    {
     "name": "stdout",
     "output_type": "stream",
     "text": [
      "The average of the values above\n"
     ]
    },
    {
     "data": {
      "text/latex": [
       "$3.525 \\pm 0.042$"
      ],
      "text/plain": [
       "3.525 ± 0.042"
      ]
     },
     "metadata": {},
     "output_type": "display_data"
    },
    {
     "name": "stdout",
     "output_type": "stream",
     "text": [
      "The error when computed for the averaged z value\n"
     ]
    },
    {
     "data": {
      "text/latex": [
       "$3.525 \\pm 0.094$"
      ],
      "text/plain": [
       "3.525 ± 0.094"
      ]
     },
     "metadata": {},
     "output_type": "display_data"
    },
    {
     "name": "stdout",
     "output_type": "stream",
     "text": [
      "The value computed with the true means of the distribution\n"
     ]
    },
    {
     "data": {
      "text/latex": [
       "$3 \\pm 0$"
      ],
      "text/plain": [
       "3.6081 ± 0"
      ]
     },
     "metadata": {},
     "output_type": "display_data"
    }
   ],
   "source": [
    "A_VAL = np.pi * 300\n",
    "\n",
    "w_grouped_val = pt.calc_err(w_expr, {a : A_VAL, x: x_val, y: y_val, z: z_vals_grouped})\n",
    "w_val_1 = w_grouped_val.average()\n",
    "w_val_2 = pt.calc_err(w_expr, {a : A_VAL, x: x_val, y: y_val, z: z_val_1})\n",
    "theoretical_val = pt.calc_err(w_expr, {a: A_VAL, x: x_center, y: y_center, z: z_center})\n",
    "print('The error when computed for each value in the grouped z vals separately')\n",
    "display(w_grouped_val)\n",
    "print('The average of the values above')\n",
    "display(w_val_1)\n",
    "print('The error when computed for the averaged z value')\n",
    "display(w_val_2)\n",
    "print('The value computed with the true means of the distribution')\n",
    "display(theoretical_val)\n",
    "\n",
    "assert w_val_1.approx_eq(theoretical_val, tolerance=10)\n",
    "assert w_val_2.approx_eq(theoretical_val, tolerance=10)"
   ]
  },
  {
   "cell_type": "markdown",
   "metadata": {},
   "source": [
    "It is also possible to use operators on the `Err` objects directly. Not however that for some expressions the result using the direct evaluation will differ from the result using the `calc_err` method."
   ]
  },
  {
   "cell_type": "code",
   "execution_count": 12,
   "metadata": {},
   "outputs": [
    {
     "data": {
      "text/latex": [
       "$1.82 \\pm 0.67$"
      ],
      "text/plain": [
       "1.82 ± 0.67"
      ]
     },
     "metadata": {},
     "output_type": "display_data"
    },
    {
     "data": {
      "text/latex": [
       "$1.82 \\pm 0.66$"
      ],
      "text/plain": [
       "1.82 ± 0.66"
      ]
     },
     "metadata": {},
     "output_type": "display_data"
    }
   ],
   "source": [
    "u_val_1 = pt.calc_err(x + y**2 + y, {x: x_val, y: y_val})\n",
    "u_val_2 = x_val + y_val**2 + y_val \n",
    "#since the terms y_val**2 and y_val are evaluated separately their correlation will not be captured in the final result. \n",
    "#In this case it is better to use the calc_err method\n",
    "display(u_val_1)\n",
    "display(u_val_2)\n",
    "assert not u_val_1.allclose(u_val_2)"
   ]
  },
  {
   "cell_type": "code",
   "execution_count": 13,
   "metadata": {},
   "outputs": [
    {
     "data": {
      "text/latex": [
       "$1.21 \\pm 0.28$"
      ],
      "text/plain": [
       "1.21 ± 0.28"
      ]
     },
     "metadata": {},
     "output_type": "display_data"
    },
    {
     "data": {
      "text/latex": [
       "$1.21 \\pm 0.28$"
      ],
      "text/plain": [
       "1.21 ± 0.28"
      ]
     },
     "metadata": {},
     "output_type": "display_data"
    }
   ],
   "source": [
    "v_val_1 = pt.calc_err(x**sympy.sin(y**0.5), {x: x_val, y: y_val})\n",
    "v_val_2 = x_val**(y_val**0.5).apply(sympy.sin) \n",
    "#if every independent variable only appears once in the expression the result of calc_err and direct evaluation will match up!\n",
    "#In this case direct evaluation is sufficent\n",
    "display(v_val_1)\n",
    "display(v_val_2)\n",
    "assert v_val_1.allclose(v_val_2)"
   ]
  },
  {
   "cell_type": "code",
   "execution_count": 14,
   "metadata": {},
   "outputs": [
    {
     "data": {
      "text/latex": [
       "$4.55 \\pm 0.61$"
      ],
      "text/plain": [
       "4.55 ± 0.61"
      ]
     },
     "metadata": {},
     "output_type": "display_data"
    },
    {
     "data": {
      "text/latex": [
       "$4.55 \\pm 0.61$"
      ],
      "text/plain": [
       "4.55 ± 0.61"
      ]
     },
     "metadata": {},
     "output_type": "display_data"
    },
    {
     "data": {
      "text/latex": [
       "$-1.73 \\pm 0.61$"
      ],
      "text/plain": [
       "-1.73 ± 0.61"
      ]
     },
     "metadata": {},
     "output_type": "display_data"
    },
    {
     "data": {
      "text/latex": [
       "$1.73 \\pm 0.61$"
      ],
      "text/plain": [
       "1.73 ± 0.61"
      ]
     },
     "metadata": {},
     "output_type": "display_data"
    },
    {
     "data": {
      "text/latex": [
       "$4.4 \\pm 1.9$"
      ],
      "text/plain": [
       "4.4 ± 1.9"
      ]
     },
     "metadata": {},
     "output_type": "display_data"
    },
    {
     "data": {
      "text/latex": [
       "$4.4 \\pm 1.9$"
      ],
      "text/plain": [
       "4.4 ± 1.9"
      ]
     },
     "metadata": {},
     "output_type": "display_data"
    },
    {
     "data": {
      "text/latex": [
       "$(450 \\pm 194) \\times 10^{-3}$"
      ],
      "text/plain": [
       "(450 ± 194) × 10^-3"
      ]
     },
     "metadata": {},
     "output_type": "display_data"
    },
    {
     "data": {
      "text/latex": [
       "$2.22 \\pm 0.96$"
      ],
      "text/plain": [
       "2.22 ± 0.96"
      ]
     },
     "metadata": {},
     "output_type": "display_data"
    },
    {
     "data": {
      "text/latex": [
       "$3.0 \\pm 4.0$"
      ],
      "text/plain": [
       "3.0 ± 4.0"
      ]
     },
     "metadata": {},
     "output_type": "display_data"
    },
    {
     "data": {
      "text/latex": [
       "$5.0 \\pm 3.5$"
      ],
      "text/plain": [
       "5.0 ± 3.5"
      ]
     },
     "metadata": {},
     "output_type": "display_data"
    }
   ],
   "source": [
    "x_val = pt.Err(1.414, 0.61)\n",
    "other = 3.141\n",
    "tests = [\n",
    "    x_val + other,\n",
    "    other + x_val,\n",
    "    x_val - other,\n",
    "    other - x_val,\n",
    "    x_val * other,\n",
    "    other * x_val,\n",
    "    x_val / other,\n",
    "    other / x_val,\n",
    "    x_val ** other,\n",
    "    other ** x_val,\n",
    "    ]\n",
    "display(*tests)"
   ]
  },
  {
   "cell_type": "code",
   "execution_count": 15,
   "metadata": {},
   "outputs": [
    {
     "data": {
      "image/png": "[encoded data removed]",
      "text/plain": [
       "<Figure size 640x480 with 1 Axes>"
      ]
     },
     "metadata": {},
     "output_type": "display_data"
    }
   ],
   "source": [
    "x_data = np.linspace(1,2, 100)\n",
    "a_val = pt.Err(5,1)\n",
    "b_val = pt.Err(-1,0.5)\n",
    "a,b,x = sympy.symbols('a,b,c')\n",
    "expr = sympy.sin(a*x**2)*x**b\n",
    "y_data = pt.calc_err(expr, {a: a_val, b:b_val, x:x_data})\n",
    "pt.start_plt('An example plot', 'x', 'y')\n",
    "pt.err_band_plot(x_data, y_data.mean, y_data.err, label=r'$\\sin(a^x)b^x$', color = 'purple')\n",
    "pt.end_plt()"
   ]
  },
  {
   "cell_type": "markdown",
   "metadata": {},
   "source": [
    "# Error Calculation Methods: A Comparison\n",
    "\n",
    "There are multiple ways to calculate the error in linear regression, depending on how residuals and uncertainties are handled. Here, we explore three methods:\n",
    "\n",
    "1. **Script**: This method uses a manual script-based calculation.\n",
    "2. **Residuals**: This method calculates the residuals and weights the regression based on them.\n",
    "3. **Covariance**: This method uses the covariance matrix to compute the regression parameters.\n",
    "\n",
    "Each of these methods provides a different way to handle uncertainties, and we will visually compare them below.\n"
   ]
  },
  {
   "cell_type": "markdown",
   "metadata": {},
   "source": [
    "# Linear Regression Results: Interpretation\n",
    "\n",
    "After performing linear regression using weighted least squares, we obtain the slope, intercept, and their respective errors. These parameters allow us to model the relationship between the independent variable (`x`) and the dependent variable (`y`).\n",
    "\n",
    "### Key Results:\n",
    "- **Slope**: The rate of change in `y` with respect to `x`, along with its uncertainty.\n",
    "- **Intercept**: The point where the regression line intersects the y-axis, also with an associated error.\n",
    "- **Weighted Mean**: The average of the `x` and `y` values, weighted by their errors.\n",
    "  \n",
    "These results provide insight into how well our model fits the data and how uncertainty in the measurements affects the model.\n"
   ]
  },
  {
   "cell_type": "code",
   "execution_count": 16,
   "metadata": {},
   "outputs": [
    {
     "data": {
      "image/png": "[encoded data removed]",
      "text/plain": [
       "<Figure size 640x480 with 1 Axes>"
      ]
     },
     "metadata": {},
     "output_type": "display_data"
    }
   ],
   "source": [
    "x_data = np.array([0.5, 2, 3, 4, 5])\n",
    "y_data = pt.Err(\n",
    "    np.array([4, 6, 6, 4, 1]),\n",
    "    np.array([5.4, 1.8, 2.5, 1.4, 1.4])*0.3\n",
    "    )\n",
    "\n",
    "\n",
    "pt.start_plt('linear regression example', 'x', 'y')\n",
    "\n",
    "plt.errorbar(x_data, y_data.mean, y_data.err, capsize=3, fmt='o')\n",
    "\n",
    "\n",
    "for method in ['script', 'residuals', 'covariance']:\n",
    "    slope, intercept, x_center, y_center = pt.linear_linregress(x_data, y_data, method)\n",
    "    x_data_linregress = np.linspace(x_data.min(), x_data.max())\n",
    "    #the shift by x_center is necessary to ensure proper error calculation\n",
    "    y_data_linregress = slope*(x_data_linregress-x_center)+x_center*slope.mean + intercept \n",
    "\n",
    "    pt.err_band_plot(x_data_linregress, y_data_linregress.mean, y_data_linregress.err, f'$f(x) = ({slope.latex_array(delimiter='')[0]}) x + {intercept.latex_array(delimiter='')[0]}$ method : {method}')\n",
    "\n",
    "pt.end_plt()"
   ]
  },
  {
   "cell_type": "code",
   "execution_count": 17,
   "metadata": {},
   "outputs": [
    {
     "name": "stdout",
     "output_type": "stream",
     "text": [
      "All tests passed!\n"
     ]
    }
   ],
   "source": [
    "# Unit Tests for Err Objects\n",
    "\n",
    "# Test 1: Arithmetic with constants\n",
    "x_val = pt.Err(1.414, 0.61)\n",
    "const = 3.141\n",
    "\n",
    "assert (x_val + const).approx_eq(pt.Err(1.414 + 3.141, 0.61), tolerance=0.001)\n",
    "assert (x_val * const).approx_eq(pt.Err(1.414 * 3.141, 0.61 * 3.141), tolerance=0.001)\n",
    "\n",
    "# Test 2: Arithmetic between Err objects\n",
    "y_val = pt.Err(2.718, 0.22)\n",
    "assert (x_val + y_val).approx_eq(pt.Err(1.414 + 2.718, np.sqrt(0.61**2 + 0.22**2)), tolerance=0.001)\n",
    "\n",
    "# Test 3: Weighted average calculation\n",
    "z_vals_grouped = pt.Err.from_data(np.random.standard_normal((5, 10)) * 0.5 + 1, axis=1)\n",
    "z_avg = z_vals_grouped.weighted_average()\n",
    "assert isinstance(z_avg, pt.Err)\n",
    "print(\"All tests passed!\")\n"
   ]
  },
  {
   "cell_type": "code",
   "execution_count": 18,
   "metadata": {},
   "outputs": [
    {
     "name": "stdout",
     "output_type": "stream",
     "text": [
      "CPU times: total: 1min 27s\n",
      "Wall time: 14.9 s\n"
     ]
    }
   ],
   "source": [
    "# Performance Test: Large Dataset\n",
    "\n",
    "large_x_data = np.linspace(1, 100, 10_000)\n",
    "large_y_data = pt.Err(large_x_data * 2 + np.random.normal(0, 0.5, 10_000), np.ones(10_000) * 0.3)\n",
    "\n",
    "# Linear regression on large data\n",
    "%time slope, intercept, _, _ = pt.linear_linregress(large_x_data, large_y_data, 'covariance')\n"
   ]
  }
 ],
 "metadata": {
  "kernelspec": {
   "display_name": "pract",
   "language": "python",
   "name": "python3"
  },
  "language_info": {
   "codemirror_mode": {
    "name": "ipython",
    "version": 3
   },
   "file_extension": ".py",
   "mimetype": "text/x-python",
   "name": "python",
   "nbconvert_exporter": "python",
   "pygments_lexer": "ipython3",
   "version": "3.12.5"
  }
 },
 "nbformat": 4,
 "nbformat_minor": 2
}
