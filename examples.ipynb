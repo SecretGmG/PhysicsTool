{
 "cells": [
  {
   "cell_type": "code",
   "execution_count": 1,
   "metadata": {},
   "outputs": [],
   "source": [
    "import PhysicsTool as pt\n",
    "import pandas as pd\n",
    "import numpy as np\n",
    "import sympy"
   ]
  },
  {
   "cell_type": "code",
   "execution_count": 2,
   "metadata": {},
   "outputs": [
    {
     "name": "stdout",
     "output_type": "stream",
     "text": [
      "x = 1.0 +- 0.45\n"
     ]
    },
    {
     "data": {
      "text/html": [
       "<div>\n",
       "<style scoped>\n",
       "    .dataframe tbody tr th:only-of-type {\n",
       "        vertical-align: middle;\n",
       "    }\n",
       "\n",
       "    .dataframe tbody tr th {\n",
       "        vertical-align: top;\n",
       "    }\n",
       "\n",
       "    .dataframe thead th {\n",
       "        text-align: right;\n",
       "    }\n",
       "</style>\n",
       "<table border=\"1\" class=\"dataframe\">\n",
       "  <thead>\n",
       "    <tr style=\"text-align: right;\">\n",
       "      <th></th>\n",
       "      <th>y</th>\n",
       "      <th>z_0</th>\n",
       "      <th>z_1</th>\n",
       "      <th>z_2</th>\n",
       "      <th>z_3</th>\n",
       "      <th>z_4</th>\n",
       "      <th>z_5</th>\n",
       "      <th>z_6</th>\n",
       "      <th>z_7</th>\n",
       "      <th>z_8</th>\n",
       "      <th>z_9</th>\n",
       "    </tr>\n",
       "  </thead>\n",
       "  <tbody>\n",
       "    <tr>\n",
       "      <th>0</th>\n",
       "      <td>2.707971</td>\n",
       "      <td>5.610185</td>\n",
       "      <td>3.089722</td>\n",
       "      <td>4.123386</td>\n",
       "      <td>7.333259</td>\n",
       "      <td>4.934509</td>\n",
       "      <td>1.824823</td>\n",
       "      <td>4.272122</td>\n",
       "      <td>3.382849</td>\n",
       "      <td>5.434029</td>\n",
       "      <td>-2.630699</td>\n",
       "    </tr>\n",
       "    <tr>\n",
       "      <th>1</th>\n",
       "      <td>-1.223995</td>\n",
       "      <td>2.978626</td>\n",
       "      <td>3.147876</td>\n",
       "      <td>0.792681</td>\n",
       "      <td>2.507795</td>\n",
       "      <td>3.083144</td>\n",
       "      <td>1.097678</td>\n",
       "      <td>5.706071</td>\n",
       "      <td>6.074764</td>\n",
       "      <td>2.414700</td>\n",
       "      <td>1.197269</td>\n",
       "    </tr>\n",
       "    <tr>\n",
       "      <th>2</th>\n",
       "      <td>5.483334</td>\n",
       "      <td>4.722422</td>\n",
       "      <td>-2.761868</td>\n",
       "      <td>1.075024</td>\n",
       "      <td>4.384146</td>\n",
       "      <td>5.785078</td>\n",
       "      <td>1.101338</td>\n",
       "      <td>-0.049993</td>\n",
       "      <td>2.104400</td>\n",
       "      <td>3.217410</td>\n",
       "      <td>3.022904</td>\n",
       "    </tr>\n",
       "    <tr>\n",
       "      <th>3</th>\n",
       "      <td>-3.550384</td>\n",
       "      <td>3.598800</td>\n",
       "      <td>3.690103</td>\n",
       "      <td>-0.152824</td>\n",
       "      <td>1.168998</td>\n",
       "      <td>5.722322</td>\n",
       "      <td>1.512804</td>\n",
       "      <td>2.399307</td>\n",
       "      <td>2.552665</td>\n",
       "      <td>2.193293</td>\n",
       "      <td>4.366712</td>\n",
       "    </tr>\n",
       "    <tr>\n",
       "      <th>4</th>\n",
       "      <td>-2.490223</td>\n",
       "      <td>2.766083</td>\n",
       "      <td>1.964797</td>\n",
       "      <td>0.652242</td>\n",
       "      <td>3.150620</td>\n",
       "      <td>0.915505</td>\n",
       "      <td>4.038830</td>\n",
       "      <td>3.448423</td>\n",
       "      <td>2.117412</td>\n",
       "      <td>4.536146</td>\n",
       "      <td>1.702321</td>\n",
       "    </tr>\n",
       "    <tr>\n",
       "      <th>5</th>\n",
       "      <td>4.082435</td>\n",
       "      <td>1.820614</td>\n",
       "      <td>2.607809</td>\n",
       "      <td>3.937426</td>\n",
       "      <td>2.625420</td>\n",
       "      <td>2.005181</td>\n",
       "      <td>1.790289</td>\n",
       "      <td>3.260296</td>\n",
       "      <td>2.733713</td>\n",
       "      <td>3.944608</td>\n",
       "      <td>1.644674</td>\n",
       "    </tr>\n",
       "    <tr>\n",
       "      <th>6</th>\n",
       "      <td>4.556580</td>\n",
       "      <td>5.194823</td>\n",
       "      <td>3.565639</td>\n",
       "      <td>2.499208</td>\n",
       "      <td>1.320855</td>\n",
       "      <td>3.150987</td>\n",
       "      <td>4.018744</td>\n",
       "      <td>1.463690</td>\n",
       "      <td>4.323032</td>\n",
       "      <td>0.892632</td>\n",
       "      <td>-1.267901</td>\n",
       "    </tr>\n",
       "    <tr>\n",
       "      <th>7</th>\n",
       "      <td>-5.013404</td>\n",
       "      <td>1.128114</td>\n",
       "      <td>4.240482</td>\n",
       "      <td>4.158530</td>\n",
       "      <td>0.534687</td>\n",
       "      <td>1.785084</td>\n",
       "      <td>2.263921</td>\n",
       "      <td>1.534214</td>\n",
       "      <td>1.070615</td>\n",
       "      <td>1.717803</td>\n",
       "      <td>4.949283</td>\n",
       "    </tr>\n",
       "    <tr>\n",
       "      <th>8</th>\n",
       "      <td>0.538454</td>\n",
       "      <td>3.581162</td>\n",
       "      <td>1.013915</td>\n",
       "      <td>0.929843</td>\n",
       "      <td>3.365276</td>\n",
       "      <td>0.339890</td>\n",
       "      <td>3.019584</td>\n",
       "      <td>4.580739</td>\n",
       "      <td>2.476619</td>\n",
       "      <td>3.331746</td>\n",
       "      <td>0.005436</td>\n",
       "    </tr>\n",
       "    <tr>\n",
       "      <th>9</th>\n",
       "      <td>-0.470374</td>\n",
       "      <td>6.384862</td>\n",
       "      <td>0.739410</td>\n",
       "      <td>2.890437</td>\n",
       "      <td>-0.461667</td>\n",
       "      <td>3.222153</td>\n",
       "      <td>-0.323306</td>\n",
       "      <td>2.695606</td>\n",
       "      <td>6.994755</td>\n",
       "      <td>5.777690</td>\n",
       "      <td>1.859529</td>\n",
       "    </tr>\n",
       "  </tbody>\n",
       "</table>\n",
       "</div>"
      ],
      "text/plain": [
       "          y       z_0       z_1       z_2       z_3       z_4       z_5  \\\n",
       "0  2.707971  5.610185  3.089722  4.123386  7.333259  4.934509  1.824823   \n",
       "1 -1.223995  2.978626  3.147876  0.792681  2.507795  3.083144  1.097678   \n",
       "2  5.483334  4.722422 -2.761868  1.075024  4.384146  5.785078  1.101338   \n",
       "3 -3.550384  3.598800  3.690103 -0.152824  1.168998  5.722322  1.512804   \n",
       "4 -2.490223  2.766083  1.964797  0.652242  3.150620  0.915505  4.038830   \n",
       "5  4.082435  1.820614  2.607809  3.937426  2.625420  2.005181  1.790289   \n",
       "6  4.556580  5.194823  3.565639  2.499208  1.320855  3.150987  4.018744   \n",
       "7 -5.013404  1.128114  4.240482  4.158530  0.534687  1.785084  2.263921   \n",
       "8  0.538454  3.581162  1.013915  0.929843  3.365276  0.339890  3.019584   \n",
       "9 -0.470374  6.384862  0.739410  2.890437 -0.461667  3.222153 -0.323306   \n",
       "\n",
       "        z_6       z_7       z_8       z_9  \n",
       "0  4.272122  3.382849  5.434029 -2.630699  \n",
       "1  5.706071  6.074764  2.414700  1.197269  \n",
       "2 -0.049993  2.104400  3.217410  3.022904  \n",
       "3  2.399307  2.552665  2.193293  4.366712  \n",
       "4  3.448423  2.117412  4.536146  1.702321  \n",
       "5  3.260296  2.733713  3.944608  1.644674  \n",
       "6  1.463690  4.323032  0.892632 -1.267901  \n",
       "7  1.534214  1.070615  1.717803  4.949283  \n",
       "8  4.580739  2.476619  3.331746  0.005436  \n",
       "9  2.695606  6.994755  5.777690  1.859529  "
      ]
     },
     "metadata": {},
     "output_type": "display_data"
    }
   ],
   "source": [
    "x_center = 1.0\n",
    "y_center = 2.0\n",
    "z_center = 3.0\n",
    "\n",
    "x_mean = x_center\n",
    "x_error = 0.45\n",
    "y_data = np.random.standard_normal(10) * 5.0 + y_center\n",
    "z_data = np.random.standard_normal((10, 10)) * 2 + z_center\n",
    "\n",
    "raw_data_table = pd.DataFrame({\n",
    "    'y' : y_data,\n",
    "} | {\n",
    "    f'z_{i}' : col for i, col in enumerate(z_data)\n",
    "})\n",
    "print(f'x = {x_mean} +- {x_error}')\n",
    "display(raw_data_table)"
   ]
  },
  {
   "cell_type": "code",
   "execution_count": 3,
   "metadata": {},
   "outputs": [
    {
     "data": {
      "text/latex": [
       "$1.00\\pm0.45$"
      ],
      "text/plain": [
       "1.00 ± 0.45"
      ]
     },
     "metadata": {},
     "output_type": "display_data"
    },
    {
     "data": {
      "text/latex": [
       "$0.5\\pm1.1$"
      ],
      "text/plain": [
       "0.5 ± 1.1"
      ]
     },
     "metadata": {},
     "output_type": "display_data"
    }
   ],
   "source": [
    "x_val = pt.Err(x_mean, x_error)\n",
    "y_val = pt.Err.from_data(y_data)\n",
    "display(x_val)\n",
    "display(y_val)"
   ]
  },
  {
   "cell_type": "code",
   "execution_count": 4,
   "metadata": {},
   "outputs": [
    {
     "data": {
      "text/latex": [
       "$3.78\\pm0.53\\\\2.13\\pm0.65\\\\2.09\\pm0.51\\\\2.59\\pm0.70\\\\3.09\\pm0.60\\\\2.03\\pm0.43\\\\2.93\\pm0.54\\\\3.38\\pm0.59\\\\3.35\\pm0.50\\\\1.48\\pm0.74$"
      ],
      "text/plain": [
       "['3.78' '2.13' '2.09' '2.59' '3.09' '2.03' '2.93' '3.38' '3.35' '1.48'] ± ['0.53' '0.65' '0.51' '0.70' '0.60' '0.43' '0.54' '0.59' '0.50' '0.74']"
      ]
     },
     "metadata": {},
     "output_type": "display_data"
    },
    {
     "data": {
      "text/html": [
       "<div>\n",
       "<style scoped>\n",
       "    .dataframe tbody tr th:only-of-type {\n",
       "        vertical-align: middle;\n",
       "    }\n",
       "\n",
       "    .dataframe tbody tr th {\n",
       "        vertical-align: top;\n",
       "    }\n",
       "\n",
       "    .dataframe thead th {\n",
       "        text-align: right;\n",
       "    }\n",
       "</style>\n",
       "<table border=\"1\" class=\"dataframe\">\n",
       "  <thead>\n",
       "    <tr style=\"text-align: right;\">\n",
       "      <th></th>\n",
       "      <th>z_0</th>\n",
       "      <th>z_1</th>\n",
       "      <th>z_2</th>\n",
       "      <th>z_3</th>\n",
       "      <th>z_4</th>\n",
       "      <th>z_5</th>\n",
       "      <th>z_6</th>\n",
       "      <th>z_7</th>\n",
       "      <th>z_8</th>\n",
       "      <th>z_9</th>\n",
       "    </tr>\n",
       "  </thead>\n",
       "  <tbody>\n",
       "    <tr>\n",
       "      <th>mean</th>\n",
       "      <td>3.78</td>\n",
       "      <td>2.13</td>\n",
       "      <td>2.09</td>\n",
       "      <td>2.59</td>\n",
       "      <td>3.09</td>\n",
       "      <td>2.03</td>\n",
       "      <td>2.93</td>\n",
       "      <td>3.38</td>\n",
       "      <td>3.35</td>\n",
       "      <td>1.48</td>\n",
       "    </tr>\n",
       "    <tr>\n",
       "      <th>error</th>\n",
       "      <td>0.53</td>\n",
       "      <td>0.65</td>\n",
       "      <td>0.51</td>\n",
       "      <td>0.70</td>\n",
       "      <td>0.60</td>\n",
       "      <td>0.43</td>\n",
       "      <td>0.54</td>\n",
       "      <td>0.59</td>\n",
       "      <td>0.50</td>\n",
       "      <td>0.74</td>\n",
       "    </tr>\n",
       "  </tbody>\n",
       "</table>\n",
       "</div>"
      ],
      "text/plain": [
       "        z_0   z_1   z_2   z_3   z_4   z_5   z_6   z_7   z_8   z_9\n",
       "mean   3.78  2.13  2.09  2.59  3.09  2.03  2.93  3.38  3.35  1.48\n",
       "error  0.53  0.65  0.51  0.70  0.60  0.43  0.54  0.59  0.50  0.74"
      ]
     },
     "metadata": {},
     "output_type": "display_data"
    },
    {
     "name": "stdout",
     "output_type": "stream",
     "text": [
      "\\begin{table}[H]\n",
      "\\centering\n",
      "\\begin{tabular}{llllllllll}\n",
      "\\toprule\n",
      "z_0 & z_1 & z_2 & z_3 & z_4 & z_5 & z_6 & z_7 & z_8 & z_9 \\\\\n",
      "\\midrule\n",
      "3.78 & 2.13 & 2.09 & 2.59 & 3.09 & 2.03 & 2.93 & 3.38 & 3.35 & 1.48 \\\\\n",
      "0.53 & 0.65 & 0.51 & 0.70 & 0.60 & 0.43 & 0.54 & 0.59 & 0.50 & 0.74 \\\\\n",
      "\\bottomrule\n",
      "\\end{tabular}\n",
      "\\caption{Caption}\n",
      "\\label{tab:labelname}\n",
      "\\end{table}\n",
      "\n"
     ]
    },
    {
     "data": {
      "text/html": [
       "<div>\n",
       "<style scoped>\n",
       "    .dataframe tbody tr th:only-of-type {\n",
       "        vertical-align: middle;\n",
       "    }\n",
       "\n",
       "    .dataframe tbody tr th {\n",
       "        vertical-align: top;\n",
       "    }\n",
       "\n",
       "    .dataframe thead th {\n",
       "        text-align: right;\n",
       "    }\n",
       "</style>\n",
       "<table border=\"1\" class=\"dataframe\">\n",
       "  <thead>\n",
       "    <tr style=\"text-align: right;\">\n",
       "      <th></th>\n",
       "      <th>z</th>\n",
       "    </tr>\n",
       "    <tr>\n",
       "      <th>i</th>\n",
       "      <th></th>\n",
       "    </tr>\n",
       "  </thead>\n",
       "  <tbody>\n",
       "    <tr>\n",
       "      <th>0</th>\n",
       "      <td>$3.78\\pm0.53$</td>\n",
       "    </tr>\n",
       "    <tr>\n",
       "      <th>1</th>\n",
       "      <td>$2.13\\pm0.65$</td>\n",
       "    </tr>\n",
       "    <tr>\n",
       "      <th>2</th>\n",
       "      <td>$2.09\\pm0.51$</td>\n",
       "    </tr>\n",
       "    <tr>\n",
       "      <th>3</th>\n",
       "      <td>$2.59\\pm0.70$</td>\n",
       "    </tr>\n",
       "    <tr>\n",
       "      <th>4</th>\n",
       "      <td>$3.09\\pm0.60$</td>\n",
       "    </tr>\n",
       "    <tr>\n",
       "      <th>5</th>\n",
       "      <td>$2.03\\pm0.43$</td>\n",
       "    </tr>\n",
       "    <tr>\n",
       "      <th>6</th>\n",
       "      <td>$2.93\\pm0.54$</td>\n",
       "    </tr>\n",
       "    <tr>\n",
       "      <th>7</th>\n",
       "      <td>$3.38\\pm0.59$</td>\n",
       "    </tr>\n",
       "    <tr>\n",
       "      <th>8</th>\n",
       "      <td>$3.35\\pm0.50$</td>\n",
       "    </tr>\n",
       "    <tr>\n",
       "      <th>9</th>\n",
       "      <td>$1.48\\pm0.74$</td>\n",
       "    </tr>\n",
       "  </tbody>\n",
       "</table>\n",
       "</div>"
      ],
      "text/plain": [
       "               z\n",
       "i               \n",
       "0  $3.78\\pm0.53$\n",
       "1  $2.13\\pm0.65$\n",
       "2  $2.09\\pm0.51$\n",
       "3  $2.59\\pm0.70$\n",
       "4  $3.09\\pm0.60$\n",
       "5  $2.03\\pm0.43$\n",
       "6  $2.93\\pm0.54$\n",
       "7  $3.38\\pm0.59$\n",
       "8  $3.35\\pm0.50$\n",
       "9  $1.48\\pm0.74$"
      ]
     },
     "metadata": {},
     "output_type": "display_data"
    },
    {
     "name": "stdout",
     "output_type": "stream",
     "text": [
      "\\begin{table}[H]\n",
      "\\centering\n",
      "\\begin{tabular}{l}\n",
      "\\toprule\n",
      "z \\\\\n",
      "\\midrule\n",
      "$3.78\\pm0.53$ \\\\\n",
      "$2.13\\pm0.65$ \\\\\n",
      "$2.09\\pm0.51$ \\\\\n",
      "$2.59\\pm0.70$ \\\\\n",
      "$3.09\\pm0.60$ \\\\\n",
      "$2.03\\pm0.43$ \\\\\n",
      "$2.93\\pm0.54$ \\\\\n",
      "$3.38\\pm0.59$ \\\\\n",
      "$3.35\\pm0.50$ \\\\\n",
      "$1.48\\pm0.74$ \\\\\n",
      "\\bottomrule\n",
      "\\end{tabular}\n",
      "\\caption{Caption}\n",
      "\\label{tab:labelname}\n",
      "\\end{table}\n",
      "\n"
     ]
    }
   ],
   "source": [
    "z_vals_grouped = pt.Err.from_data(z_data, axis = 1)\n",
    "\n",
    "grouped_z_table_1 = pd.DataFrame({\n",
    "    f'z_{i}' : [val.formatted_mean(), val.formatted_err()] for i, val in enumerate(z_vals_grouped)\n",
    "}, index = ['mean', 'error'])\n",
    "\n",
    "grouped_z_table_2 = pd.DataFrame({\n",
    "    'z' : z_vals_grouped.latex()\n",
    "})\n",
    "grouped_z_table_2.index.name = 'i'\n",
    "\n",
    "display(z_vals_grouped)\n",
    "pt.log(grouped_z_table_1)\n",
    "pt.log(grouped_z_table_2)"
   ]
  },
  {
   "cell_type": "code",
   "execution_count": 5,
   "metadata": {},
   "outputs": [
    {
     "data": {
      "text/latex": [
       "$2.69\\pm0.19$"
      ],
      "text/plain": [
       "2.69 ± 0.19"
      ]
     },
     "metadata": {},
     "output_type": "display_data"
    },
    {
     "data": {
      "text/latex": [
       "$2.72\\pm0.18$"
      ],
      "text/plain": [
       "2.72 ± 0.18"
      ]
     },
     "metadata": {},
     "output_type": "display_data"
    }
   ],
   "source": [
    "z_val_1 = z_vals_grouped.average()\n",
    "z_val_2 = z_vals_grouped.weighted_average()\n",
    "\n",
    "display(z_val_1)\n",
    "display(z_val_2)"
   ]
  },
  {
   "cell_type": "code",
   "execution_count": 6,
   "metadata": {},
   "outputs": [
    {
     "name": "stdout",
     "output_type": "stream",
     "text": [
      "our initial equation\n"
     ]
    },
    {
     "data": {
      "text/latex": [
       "$\\displaystyle w + y - \\sin{\\left(x \\right)} = \\frac{a e^{y \\sin{\\left(x \\right)}}}{z} + 2$"
      ],
      "text/plain": [
       "Eq(w + y - sin(x), a*exp(y*sin(x))/z + 2)"
      ]
     },
     "metadata": {},
     "output_type": "display_data"
    },
    {
     "name": "stdout",
     "output_type": "stream",
     "text": [
      "our equation solved for w\n"
     ]
    },
    {
     "data": {
      "text/latex": [
       "$\\displaystyle \\frac{a e^{y \\sin{\\left(x \\right)}}}{z} - y + \\sin{\\left(x \\right)} + 2$"
      ],
      "text/plain": [
       "a*exp(y*sin(x))/z - y + sin(x) + 2"
      ]
     },
     "metadata": {},
     "output_type": "display_data"
    },
    {
     "name": "stdout",
     "output_type": "stream",
     "text": [
      "error derivation of w assuming x,y,z are values with errors and a is a constant\n"
     ]
    },
    {
     "data": {
      "text/latex": [
       "$\\displaystyle s_{w}^{2} = s_{x}^{2} \\left(\\frac{\\partial}{\\partial x} w{\\left(y,x,z \\right)}\\right)^{2} + s_{y}^{2} \\left(\\frac{\\partial}{\\partial y} w{\\left(y,x,z \\right)}\\right)^{2} + s_{z}^{2} \\left(\\frac{\\partial}{\\partial z} w{\\left(y,x,z \\right)}\\right)^{2}$"
      ],
      "text/plain": [
       "Eq(s_w**2, s_x**2*Derivative(w(y, x, z), x)**2 + s_y**2*Derivative(w(y, x, z), y)**2 + s_z**2*Derivative(w(y, x, z), z)**2)"
      ]
     },
     "metadata": {},
     "output_type": "display_data"
    },
    {
     "data": {
      "text/latex": [
       "$\\displaystyle s_{w}^{2} = s_{x}^{2} \\left(\\frac{a y e^{y \\sin{\\left(x \\right)}} \\cos{\\left(x \\right)}}{z} + \\cos{\\left(x \\right)}\\right)^{2} + s_{y}^{2} \\left(\\frac{a e^{y \\sin{\\left(x \\right)}} \\sin{\\left(x \\right)}}{z} - 1\\right)^{2} + s_{z}^{2} \\left(- \\frac{a e^{y \\sin{\\left(x \\right)}}}{z^{2}}\\right)^{2}$"
      ],
      "text/plain": [
       "Eq(s_w**2, s_x**2*(a*y*exp(y*sin(x))*cos(x)/z + cos(x))**2 + s_y**2*(a*exp(y*sin(x))*sin(x)/z - 1)**2 + s_z**2*(-a*exp(y*sin(x))/z**2)**2)"
      ]
     },
     "metadata": {},
     "output_type": "display_data"
    },
    {
     "data": {
      "text/latex": [
       "$\\displaystyle s_{w} = \\sqrt{s_{x}^{2} \\left(\\frac{a y e^{y \\sin{\\left(x \\right)}} \\cos{\\left(x \\right)}}{z} + \\cos{\\left(x \\right)}\\right)^{2} + s_{y}^{2} \\left(\\frac{a e^{y \\sin{\\left(x \\right)}} \\sin{\\left(x \\right)}}{z} - 1\\right)^{2} + s_{z}^{2} \\left(- \\frac{a e^{y \\sin{\\left(x \\right)}}}{z^{2}}\\right)^{2}}$"
      ],
      "text/plain": [
       "Eq(s_w, sqrt(s_x**2*(a*y*exp(y*sin(x))*cos(x)/z + cos(x))**2 + s_y**2*(a*exp(y*sin(x))*sin(x)/z - 1)**2 + s_z**2*(-a*exp(y*sin(x))/z**2)**2))"
      ]
     },
     "metadata": {},
     "output_type": "display_data"
    },
    {
     "data": {
      "text/latex": [
       "$\\displaystyle \\sqrt{s_{x}^{2} \\left(\\frac{a y e^{y \\sin{\\left(x \\right)}} \\cos{\\left(x \\right)}}{z} + \\cos{\\left(x \\right)}\\right)^{2} + s_{y}^{2} \\left(\\frac{a e^{y \\sin{\\left(x \\right)}} \\sin{\\left(x \\right)}}{z} - 1\\right)^{2} + s_{z}^{2} \\left(- \\frac{a e^{y \\sin{\\left(x \\right)}}}{z^{2}}\\right)^{2}}$"
      ],
      "text/plain": [
       "sqrt(s_x**2*(a*y*exp(y*sin(x))*cos(x)/z + cos(x))**2 + s_y**2*(a*exp(y*sin(x))*sin(x)/z - 1)**2 + s_z**2*(-a*exp(y*sin(x))/z**2)**2)"
      ]
     },
     "execution_count": 6,
     "metadata": {},
     "output_type": "execute_result"
    }
   ],
   "source": [
    "a,x,y,z,w = sympy.symbols('a,x,y,z,w')\n",
    "\n",
    "print('our initial equation')\n",
    "some_equation = sympy.Eq(w + y - sympy.sin(x), a * sympy.exp(y * sympy.sin(x)) / z + 2)\n",
    "display(some_equation)\n",
    "\n",
    "print('our equation solved for w')\n",
    "w_expr = sympy.solve(some_equation, w)[0]\n",
    "display(w_expr)\n",
    "\n",
    "print('error derivation of w assuming x,y,z are values with errors and a is a constant')\n",
    "pt.derive_err(w_expr, values = [x,y,z], target_symbol=w, do_display=True)\n"
   ]
  },
  {
   "cell_type": "code",
   "execution_count": 7,
   "metadata": {},
   "outputs": [
    {
     "name": "stdout",
     "output_type": "stream",
     "text": [
      "The error when computed for each value in the grouped z vals seperately\n"
     ]
    },
    {
     "data": {
      "text/latex": [
       "$3.61\\pm0.42\\\\4.6\\pm1.3\\\\4.6\\pm1.2\\\\4.17\\pm0.87\\\\3.88\\pm0.59\\\\4.7\\pm1.3\\\\3.96\\pm0.64\\\\3.75\\pm0.50\\\\3.76\\pm0.49\\\\5.5\\pm2.5$"
      ],
      "text/plain": [
       "['3.61' '4.6' '4.6' '4.17' '3.88' '4.7' '3.96' '3.75' '3.76' '5.5'] ± ['0.42' '1.3' '1.2' '0.87' '0.59' '1.3' '0.64' '0.50' '0.49' '2.5']"
      ]
     },
     "metadata": {},
     "output_type": "display_data"
    },
    {
     "name": "stdout",
     "output_type": "stream",
     "text": [
      "The average of the values above\n"
     ]
    },
    {
     "data": {
      "text/latex": [
       "$4.24\\pm0.36$"
      ],
      "text/plain": [
       "4.24 ± 0.36"
      ]
     },
     "metadata": {},
     "output_type": "display_data"
    },
    {
     "name": "stdout",
     "output_type": "stream",
     "text": [
      "The error when computed for the averaged z value\n"
     ]
    },
    {
     "data": {
      "text/latex": [
       "$4.10\\pm0.69$"
      ],
      "text/plain": [
       "4.10 ± 0.69"
      ]
     },
     "metadata": {},
     "output_type": "display_data"
    },
    {
     "name": "stdout",
     "output_type": "stream",
     "text": [
      "The value computed with the true means of the distribution\n"
     ]
    },
    {
     "data": {
      "text/latex": [
       "$6.5\\pm0$"
      ],
      "text/plain": [
       "6.5 ± 0"
      ]
     },
     "metadata": {},
     "output_type": "display_data"
    }
   ],
   "source": [
    "w_grouped_val = pt.calc_err(w_expr, {a : np.pi, x: x_val, y: y_val, z: z_vals_grouped})\n",
    "w_val_1 = w_grouped_val.average()\n",
    "w_val_2 = pt.calc_err(w_expr, {a : np.pi, x: x_val, y: y_val, z: z_val_1})\n",
    "theoretical_val = pt.calc_err(w_expr, {a: np.pi, x: x_center, y: y_center, z: z_center})\n",
    "print('The error when computed for each value in the grouped z vals seperately')\n",
    "display(w_grouped_val)\n",
    "print('The average of the values above')\n",
    "display(w_val_1)\n",
    "print('The error when computed for the averaged z value')\n",
    "display(w_val_2)\n",
    "print('The value computed with the true means of the distribution')\n",
    "display(theoretical_val)"
   ]
  }
 ],
 "metadata": {
  "kernelspec": {
   "display_name": "Python 3",
   "language": "python",
   "name": "python3"
  },
  "language_info": {
   "codemirror_mode": {
    "name": "ipython",
    "version": 3
   },
   "file_extension": ".py",
   "mimetype": "text/x-python",
   "name": "python",
   "nbconvert_exporter": "python",
   "pygments_lexer": "ipython3",
   "version": "3.11.5"
  }
 },
 "nbformat": 4,
 "nbformat_minor": 2
}
