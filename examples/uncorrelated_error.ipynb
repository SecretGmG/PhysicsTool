{
 "cells": [
  {
   "cell_type": "code",
   "execution_count": 1,
   "metadata": {},
   "outputs": [],
   "source": [
    "import sys\n",
    "from pathlib import Path\n",
    "\n",
    "sys.path.append(str(Path().resolve().parent))  # parent of examples -> project root"
   ]
  },
  {
   "cell_type": "code",
   "execution_count": 2,
   "metadata": {},
   "outputs": [],
   "source": [
    "import PhysicsTool as pt\n",
    "pt.plotting.set_theme()\n",
    "import matplotlib.pyplot as plt\n",
    "import pandas as pd\n",
    "import numpy as np\n",
    "import sympy\n",
    "np.random.seed(0)"
   ]
  },
  {
   "cell_type": "markdown",
   "metadata": {},
   "source": [
    "# Working with Err Objects\n",
    "\n",
    "In this section, we will demonstrate how to create uncorrelated error `UErr` objects that represent quantities with both a mean and an associated error. The `UErr` class simplifies calculations involving uncertainties by handling both the mean and the error simultaneously, but where the correlation between values is **not** considered."
   ]
  },
  {
   "cell_type": "markdown",
   "metadata": {},
   "source": [
    "## Creating some example data\n",
    "\n",
    "Here I generate the raw data used in this example.\n",
    "We are interested in the following 3 Quantities:\n",
    " - $x$: Of which we know the mean and error\n",
    " - $y$: Of which we are given 10 measurements\n",
    " - $z$: Of which we are given 5 series of 10 measurements "
   ]
  },
  {
   "cell_type": "code",
   "execution_count": 3,
   "metadata": {},
   "outputs": [
    {
     "name": "stdout",
     "output_type": "stream",
     "text": [
      "x mean: 1.4546354\n",
      "x error: 0.64813414\n"
     ]
    },
    {
     "data": {
      "application/vnd.microsoft.datawrangler.viewer.v0+json": {
       "columns": [
        {
         "name": "index",
         "rawType": "int64",
         "type": "integer"
        },
        {
         "name": "y",
         "rawType": "float64",
         "type": "float"
        },
        {
         "name": "z_0",
         "rawType": "float64",
         "type": "float"
        },
        {
         "name": "z_1",
         "rawType": "float64",
         "type": "float"
        },
        {
         "name": "z_2",
         "rawType": "float64",
         "type": "float"
        },
        {
         "name": "z_3",
         "rawType": "float64",
         "type": "float"
        },
        {
         "name": "z_4",
         "rawType": "float64",
         "type": "float"
        }
       ],
       "ref": "65cb65df-e2fd-4d90-a46e-5647727cb438",
       "rows": [
        [
         "0",
         "0.883367072983832",
         "1531.2538010184167",
         "1530.1197673212862",
         "1529.7943258581713",
         "1527.1106593510428",
         "1540.9248534852813"
        ],
        [
         "1",
         "0.20141950418361165",
         "1531.574461859544",
         "1529.627576233238",
         "1530.5922394380716",
         "1534.909719988252",
         "1524.7703046942877"
        ],
        [
         "2",
         "0.4907098920528696",
         "1531.595543619886",
         "1529.2482919974218",
         "1529.4355769807867",
         "1533.2669757099825",
         "1525.1566750075713"
        ],
        [
         "3",
         "1.1217874996007289",
         "1531.4348834979594",
         "1534.093877398682",
         "1527.1070793640542",
         "1525.7097800843035",
         "1536.35608354079"
        ],
        [
         "4",
         "0.9351198950749837",
         "1531.7360754623987",
         "1530.833810859179",
         "1531.961536662747",
         "1537.1272520315783",
         "1525.6434829744292"
        ],
        [
         "5",
         "-0.48729803993820553",
         "1531.36366343254",
         "1530.9286515503652",
         "1530.484558612669",
         "1538.6660816395154",
         "1541.2272059282463"
        ],
        [
         "6",
         "0.47638510876279466",
         "1531.51367585173",
         "1529.8491461479339",
         "1527.3520942152365",
         "1535.9589928811276",
         "1529.4410050962013"
        ],
        [
         "7",
         "-0.07433770414884894",
         "1531.4903816149974",
         "1532.5392747214773",
         "1532.6891947515908",
         "1530.8298837448083",
         "1527.771825942796"
        ],
        [
         "8",
         "-0.05026852589677892",
         "1531.6623779214358",
         "1529.3706853519857",
         "1529.1954891708226",
         "1527.4670088537978",
         "1541.123810132402"
        ],
        [
         "9",
         "0.20664015096918617",
         "1531.65603587699",
         "1531.2272191287166",
         "1531.64156075928",
         "1535.489655269165",
         "1538.911673957172"
        ],
        [
         "10",
         "0.073362685580439",
         "1531.5245947425697",
         "1530.3226068064184",
         "1533.3682809335528",
         "1529.9871070251763",
         "1540.8468948021327"
        ],
        [
         "11",
         "0.7284776534814875",
         "1531.5469162519603",
         "1532.0217458096636",
         "1531.8380064224314",
         "1536.1238301406936",
         "1536.0393232913768"
        ],
        [
         "12",
         "0.3818597625734967",
         "1531.420321425237",
         "1530.8322831927212",
         "1534.4145717455854",
         "1532.2953380422402",
         "1527.2029715747265"
        ],
        [
         "13",
         "0.062178408246414206",
         "1531.3110203531776",
         "1529.9447623560377",
         "1528.3602941580982",
         "1535.195912362726",
         "1541.0594247654951"
        ],
        [
         "14",
         "0.22327251637271284",
         "1531.4743087850675",
         "1531.4717585474514",
         "1532.5350711850028",
         "1532.8543831493334",
         "1530.1690831452431"
        ],
        [
         "15",
         "0.16817806368713342",
         "1531.5247348969103",
         "1532.0766397284528",
         "1529.762834268102",
         "1534.1764137099246",
         "1535.521381978982"
        ],
        [
         "16",
         "0.748380436578803",
         "1531.6321290680728",
         "1531.5972353196578",
         "1529.288567269586",
         "1531.548737578221",
         "1536.2453598388688"
        ],
        [
         "17",
         "-0.10123823188290043",
         "1531.6293379848785",
         "1531.9098752645052",
         "1530.0330333548507",
         "1538.2507611144945",
         "1530.7340495345459"
        ],
        [
         "18",
         "0.1578747508254507",
         "1531.4703673182592",
         "1530.6686232258728",
         "1530.7146410430753",
         "1531.9881931499563",
         "1534.5794968517305"
        ],
        [
         "19",
         "-0.4257069696508624",
         "1531.4788697249426",
         "1531.028467955067",
         "1531.6523216226858",
         "1533.0266098470038",
         "1536.1201333578326"
        ]
       ],
       "shape": {
        "columns": 6,
        "rows": 20
       }
      },
      "text/html": [
       "<div>\n",
       "<style scoped>\n",
       "    .dataframe tbody tr th:only-of-type {\n",
       "        vertical-align: middle;\n",
       "    }\n",
       "\n",
       "    .dataframe tbody tr th {\n",
       "        vertical-align: top;\n",
       "    }\n",
       "\n",
       "    .dataframe thead th {\n",
       "        text-align: right;\n",
       "    }\n",
       "</style>\n",
       "<table border=\"1\" class=\"dataframe\">\n",
       "  <thead>\n",
       "    <tr style=\"text-align: right;\">\n",
       "      <th></th>\n",
       "      <th>y</th>\n",
       "      <th>z_0</th>\n",
       "      <th>z_1</th>\n",
       "      <th>z_2</th>\n",
       "      <th>z_3</th>\n",
       "      <th>z_4</th>\n",
       "    </tr>\n",
       "  </thead>\n",
       "  <tbody>\n",
       "    <tr>\n",
       "      <th>0</th>\n",
       "      <td>0.883367</td>\n",
       "      <td>1531.253801</td>\n",
       "      <td>1530.119767</td>\n",
       "      <td>1529.794326</td>\n",
       "      <td>1527.110659</td>\n",
       "      <td>1540.924853</td>\n",
       "    </tr>\n",
       "    <tr>\n",
       "      <th>1</th>\n",
       "      <td>0.201420</td>\n",
       "      <td>1531.574462</td>\n",
       "      <td>1529.627576</td>\n",
       "      <td>1530.592239</td>\n",
       "      <td>1534.909720</td>\n",
       "      <td>1524.770305</td>\n",
       "    </tr>\n",
       "    <tr>\n",
       "      <th>2</th>\n",
       "      <td>0.490710</td>\n",
       "      <td>1531.595544</td>\n",
       "      <td>1529.248292</td>\n",
       "      <td>1529.435577</td>\n",
       "      <td>1533.266976</td>\n",
       "      <td>1525.156675</td>\n",
       "    </tr>\n",
       "    <tr>\n",
       "      <th>3</th>\n",
       "      <td>1.121787</td>\n",
       "      <td>1531.434883</td>\n",
       "      <td>1534.093877</td>\n",
       "      <td>1527.107079</td>\n",
       "      <td>1525.709780</td>\n",
       "      <td>1536.356084</td>\n",
       "    </tr>\n",
       "    <tr>\n",
       "      <th>4</th>\n",
       "      <td>0.935120</td>\n",
       "      <td>1531.736075</td>\n",
       "      <td>1530.833811</td>\n",
       "      <td>1531.961537</td>\n",
       "      <td>1537.127252</td>\n",
       "      <td>1525.643483</td>\n",
       "    </tr>\n",
       "    <tr>\n",
       "      <th>5</th>\n",
       "      <td>-0.487298</td>\n",
       "      <td>1531.363663</td>\n",
       "      <td>1530.928652</td>\n",
       "      <td>1530.484559</td>\n",
       "      <td>1538.666082</td>\n",
       "      <td>1541.227206</td>\n",
       "    </tr>\n",
       "    <tr>\n",
       "      <th>6</th>\n",
       "      <td>0.476385</td>\n",
       "      <td>1531.513676</td>\n",
       "      <td>1529.849146</td>\n",
       "      <td>1527.352094</td>\n",
       "      <td>1535.958993</td>\n",
       "      <td>1529.441005</td>\n",
       "    </tr>\n",
       "    <tr>\n",
       "      <th>7</th>\n",
       "      <td>-0.074338</td>\n",
       "      <td>1531.490382</td>\n",
       "      <td>1532.539275</td>\n",
       "      <td>1532.689195</td>\n",
       "      <td>1530.829884</td>\n",
       "      <td>1527.771826</td>\n",
       "    </tr>\n",
       "    <tr>\n",
       "      <th>8</th>\n",
       "      <td>-0.050269</td>\n",
       "      <td>1531.662378</td>\n",
       "      <td>1529.370685</td>\n",
       "      <td>1529.195489</td>\n",
       "      <td>1527.467009</td>\n",
       "      <td>1541.123810</td>\n",
       "    </tr>\n",
       "    <tr>\n",
       "      <th>9</th>\n",
       "      <td>0.206640</td>\n",
       "      <td>1531.656036</td>\n",
       "      <td>1531.227219</td>\n",
       "      <td>1531.641561</td>\n",
       "      <td>1535.489655</td>\n",
       "      <td>1538.911674</td>\n",
       "    </tr>\n",
       "    <tr>\n",
       "      <th>10</th>\n",
       "      <td>0.073363</td>\n",
       "      <td>1531.524595</td>\n",
       "      <td>1530.322607</td>\n",
       "      <td>1533.368281</td>\n",
       "      <td>1529.987107</td>\n",
       "      <td>1540.846895</td>\n",
       "    </tr>\n",
       "    <tr>\n",
       "      <th>11</th>\n",
       "      <td>0.728478</td>\n",
       "      <td>1531.546916</td>\n",
       "      <td>1532.021746</td>\n",
       "      <td>1531.838006</td>\n",
       "      <td>1536.123830</td>\n",
       "      <td>1536.039323</td>\n",
       "    </tr>\n",
       "    <tr>\n",
       "      <th>12</th>\n",
       "      <td>0.381860</td>\n",
       "      <td>1531.420321</td>\n",
       "      <td>1530.832283</td>\n",
       "      <td>1534.414572</td>\n",
       "      <td>1532.295338</td>\n",
       "      <td>1527.202972</td>\n",
       "    </tr>\n",
       "    <tr>\n",
       "      <th>13</th>\n",
       "      <td>0.062178</td>\n",
       "      <td>1531.311020</td>\n",
       "      <td>1529.944762</td>\n",
       "      <td>1528.360294</td>\n",
       "      <td>1535.195912</td>\n",
       "      <td>1541.059425</td>\n",
       "    </tr>\n",
       "    <tr>\n",
       "      <th>14</th>\n",
       "      <td>0.223273</td>\n",
       "      <td>1531.474309</td>\n",
       "      <td>1531.471759</td>\n",
       "      <td>1532.535071</td>\n",
       "      <td>1532.854383</td>\n",
       "      <td>1530.169083</td>\n",
       "    </tr>\n",
       "    <tr>\n",
       "      <th>15</th>\n",
       "      <td>0.168178</td>\n",
       "      <td>1531.524735</td>\n",
       "      <td>1532.076640</td>\n",
       "      <td>1529.762834</td>\n",
       "      <td>1534.176414</td>\n",
       "      <td>1535.521382</td>\n",
       "    </tr>\n",
       "    <tr>\n",
       "      <th>16</th>\n",
       "      <td>0.748380</td>\n",
       "      <td>1531.632129</td>\n",
       "      <td>1531.597235</td>\n",
       "      <td>1529.288567</td>\n",
       "      <td>1531.548738</td>\n",
       "      <td>1536.245360</td>\n",
       "    </tr>\n",
       "    <tr>\n",
       "      <th>17</th>\n",
       "      <td>-0.101238</td>\n",
       "      <td>1531.629338</td>\n",
       "      <td>1531.909875</td>\n",
       "      <td>1530.033033</td>\n",
       "      <td>1538.250761</td>\n",
       "      <td>1530.734050</td>\n",
       "    </tr>\n",
       "    <tr>\n",
       "      <th>18</th>\n",
       "      <td>0.157875</td>\n",
       "      <td>1531.470367</td>\n",
       "      <td>1530.668623</td>\n",
       "      <td>1530.714641</td>\n",
       "      <td>1531.988193</td>\n",
       "      <td>1534.579497</td>\n",
       "    </tr>\n",
       "    <tr>\n",
       "      <th>19</th>\n",
       "      <td>-0.425707</td>\n",
       "      <td>1531.478870</td>\n",
       "      <td>1531.028468</td>\n",
       "      <td>1531.652322</td>\n",
       "      <td>1533.026610</td>\n",
       "      <td>1536.120133</td>\n",
       "    </tr>\n",
       "  </tbody>\n",
       "</table>\n",
       "</div>"
      ],
      "text/plain": [
       "           y          z_0          z_1          z_2          z_3          z_4\n",
       "0   0.883367  1531.253801  1530.119767  1529.794326  1527.110659  1540.924853\n",
       "1   0.201420  1531.574462  1529.627576  1530.592239  1534.909720  1524.770305\n",
       "2   0.490710  1531.595544  1529.248292  1529.435577  1533.266976  1525.156675\n",
       "3   1.121787  1531.434883  1534.093877  1527.107079  1525.709780  1536.356084\n",
       "4   0.935120  1531.736075  1530.833811  1531.961537  1537.127252  1525.643483\n",
       "5  -0.487298  1531.363663  1530.928652  1530.484559  1538.666082  1541.227206\n",
       "6   0.476385  1531.513676  1529.849146  1527.352094  1535.958993  1529.441005\n",
       "7  -0.074338  1531.490382  1532.539275  1532.689195  1530.829884  1527.771826\n",
       "8  -0.050269  1531.662378  1529.370685  1529.195489  1527.467009  1541.123810\n",
       "9   0.206640  1531.656036  1531.227219  1531.641561  1535.489655  1538.911674\n",
       "10  0.073363  1531.524595  1530.322607  1533.368281  1529.987107  1540.846895\n",
       "11  0.728478  1531.546916  1532.021746  1531.838006  1536.123830  1536.039323\n",
       "12  0.381860  1531.420321  1530.832283  1534.414572  1532.295338  1527.202972\n",
       "13  0.062178  1531.311020  1529.944762  1528.360294  1535.195912  1541.059425\n",
       "14  0.223273  1531.474309  1531.471759  1532.535071  1532.854383  1530.169083\n",
       "15  0.168178  1531.524735  1532.076640  1529.762834  1534.176414  1535.521382\n",
       "16  0.748380  1531.632129  1531.597235  1529.288567  1531.548738  1536.245360\n",
       "17 -0.101238  1531.629338  1531.909875  1530.033033  1538.250761  1530.734050\n",
       "18  0.157875  1531.470367  1530.668623  1530.714641  1531.988193  1534.579497\n",
       "19 -0.425707  1531.478870  1531.028468  1531.652322  1533.026610  1536.120133"
      ]
     },
     "metadata": {},
     "output_type": "display_data"
    }
   ],
   "source": [
    "x_center = 1.4546354\n",
    "y_center = 0.0013409\n",
    "z_center = 1531.5091\n",
    "\n",
    "x_mean = x_center\n",
    "x_error = 0.64813414\n",
    "\n",
    "NR_MEASUREMENTS = 20\n",
    "NR_SERIES = 5\n",
    "\n",
    "y_data = np.random.standard_normal(NR_MEASUREMENTS) * 0.5 + y_center\n",
    "z_data = np.random.standard_normal((NR_SERIES, NR_MEASUREMENTS)) * np.linspace(0.1, 5, NR_SERIES)[:, None] + z_center\n",
    "\n",
    "raw_data_table = pd.DataFrame({\n",
    "    'y' : y_data,\n",
    "} | {\n",
    "    f'z_{i}' : col for i, col in enumerate(z_data)\n",
    "})\n",
    "\n",
    "print(f'x mean: {x_mean}\\nx error: {x_error}')\n",
    "display(raw_data_table)"
   ]
  },
  {
   "cell_type": "markdown",
   "metadata": {},
   "source": [
    "## Instanciating error objects\n",
    "\n",
    "The error objects for $x$ and $y$ can be generated directly using mean and standar error or using the `err.from_data()` method "
   ]
  },
  {
   "cell_type": "code",
   "execution_count": 4,
   "metadata": {},
   "outputs": [],
   "source": [
    "x_val = pt.UErr(x_mean, x_error)\n",
    "y_val = pt.err.from_data(y_data)"
   ]
  },
  {
   "cell_type": "markdown",
   "metadata": {},
   "source": [
    "### Creating error objects along an axis from data\n",
    "We could generate a single error object for the measurements of $z$. But we might want to calculate mean and error for each series separately. That's why the  `err.from_data` method includes the `axis` argument to specify along what axis the mean and error should be computed"
   ]
  },
  {
   "cell_type": "code",
   "execution_count": 5,
   "metadata": {},
   "outputs": [],
   "source": [
    "z_vals_grouped = pt.err.from_data(z_data, axis = 1)"
   ]
  },
  {
   "cell_type": "markdown",
   "metadata": {},
   "source": [
    "## Advanced displaying of error objects\n",
    "There are many ways to display the data stored in an `UErr` object. Below multiple different ways to do this are shown."
   ]
  },
  {
   "cell_type": "markdown",
   "metadata": {},
   "source": [
    "### simple print statement"
   ]
  },
  {
   "cell_type": "code",
   "execution_count": 6,
   "metadata": {},
   "outputs": [
    {
     "name": "stdout",
     "output_type": "stream",
     "text": [
      "(1.53151 ± 0.00003) × 10^3\n",
      "(1.5310 ± 0.0003) × 10^3\n",
      "(1.5306 ± 0.0004) × 10^3\n",
      "(1.5331 ± 0.0008) × 10^3\n",
      "(1.534 ± 0.001) × 10^3\n"
     ]
    }
   ],
   "source": [
    "print(z_vals_grouped)"
   ]
  },
  {
   "cell_type": "markdown",
   "metadata": {},
   "source": [
    "### In a dataframe"
   ]
  },
  {
   "cell_type": "code",
   "execution_count": 7,
   "metadata": {},
   "outputs": [
    {
     "data": {
      "application/vnd.microsoft.datawrangler.viewer.v0+json": {
       "columns": [
        {
         "name": "i",
         "rawType": "int64",
         "type": "integer"
        },
        {
         "name": "z",
         "rawType": "object",
         "type": "unknown"
        }
       ],
       "ref": "a75804ef-0938-4dc0-a6ff-7bfaea7fef24",
       "rows": [
        [
         "0",
         "(1.53151 ± 0.00003) × 10^3"
        ],
        [
         "1",
         "(1.5310 ± 0.0003) × 10^3"
        ],
        [
         "2",
         "(1.5306 ± 0.0004) × 10^3"
        ],
        [
         "3",
         "(1.5331 ± 0.0008) × 10^3"
        ],
        [
         "4",
         "(1.534 ± 0.001) × 10^3"
        ]
       ],
       "shape": {
        "columns": 1,
        "rows": 5
       }
      },
      "text/html": [
       "<div>\n",
       "<style scoped>\n",
       "    .dataframe tbody tr th:only-of-type {\n",
       "        vertical-align: middle;\n",
       "    }\n",
       "\n",
       "    .dataframe tbody tr th {\n",
       "        vertical-align: top;\n",
       "    }\n",
       "\n",
       "    .dataframe thead th {\n",
       "        text-align: right;\n",
       "    }\n",
       "</style>\n",
       "<table border=\"1\" class=\"dataframe\">\n",
       "  <thead>\n",
       "    <tr style=\"text-align: right;\">\n",
       "      <th></th>\n",
       "      <th>z</th>\n",
       "    </tr>\n",
       "    <tr>\n",
       "      <th>i</th>\n",
       "      <th></th>\n",
       "    </tr>\n",
       "  </thead>\n",
       "  <tbody>\n",
       "    <tr>\n",
       "      <th>0</th>\n",
       "      <td>((((1.53151 ± 0.00003) × 10^3)))</td>\n",
       "    </tr>\n",
       "    <tr>\n",
       "      <th>1</th>\n",
       "      <td>((((1.5310 ± 0.0003) × 10^3)))</td>\n",
       "    </tr>\n",
       "    <tr>\n",
       "      <th>2</th>\n",
       "      <td>((((1.5306 ± 0.0004) × 10^3)))</td>\n",
       "    </tr>\n",
       "    <tr>\n",
       "      <th>3</th>\n",
       "      <td>((((1.5331 ± 0.0008) × 10^3)))</td>\n",
       "    </tr>\n",
       "    <tr>\n",
       "      <th>4</th>\n",
       "      <td>((((1.534 ± 0.001) × 10^3)))</td>\n",
       "    </tr>\n",
       "  </tbody>\n",
       "</table>\n",
       "</div>"
      ],
      "text/plain": [
       "                                  z\n",
       "i                                  \n",
       "0  ((((1.53151 ± 0.00003) × 10^3)))\n",
       "1    ((((1.5310 ± 0.0003) × 10^3)))\n",
       "2    ((((1.5306 ± 0.0004) × 10^3)))\n",
       "3    ((((1.5331 ± 0.0008) × 10^3)))\n",
       "4      ((((1.534 ± 0.001) × 10^3)))"
      ]
     },
     "metadata": {},
     "output_type": "display_data"
    },
    {
     "data": {
      "text/latex": [
       "$(1.53151 \\pm 0.00003) \\times 10^{3}\\\\\n",
       "(1.5310 \\pm 0.0003) \\times 10^{3}\\\\\n",
       "(1.5306 \\pm 0.0004) \\times 10^{3}\\\\\n",
       "(1.5331 \\pm 0.0008) \\times 10^{3}\\\\\n",
       "(1.534 \\pm 0.001) \\times 10^{3}$"
      ],
      "text/plain": [
       "(1.53151 ± 0.00003) × 10^3\n",
       "(1.5310 ± 0.0003) × 10^3\n",
       "(1.5306 ± 0.0004) × 10^3\n",
       "(1.5331 ± 0.0008) × 10^3\n",
       "(1.534 ± 0.001) × 10^3"
      ]
     },
     "metadata": {},
     "output_type": "display_data"
    },
    {
     "name": "stdout",
     "output_type": "stream",
     "text": [
      "(1.53151 ± 0.00003) × 10^3\n",
      "(1.5310 ± 0.0003) × 10^3\n",
      "(1.5306 ± 0.0004) × 10^3\n",
      "(1.5331 ± 0.0008) × 10^3\n",
      "(1.534 ± 0.001) × 10^3\n"
     ]
    }
   ],
   "source": [
    "display_example_table = pd.DataFrame()\n",
    "display_example_table['z'] = z_vals_grouped\n",
    "display_example_table.index.name = 'i'\n",
    "display(display_example_table)\n",
    "\n",
    "z_vals_from_series = pt.err.concatenate(display_example_table['z'])\n",
    "display(z_vals_from_series)\n",
    "print(z_vals_from_series)"
   ]
  },
  {
   "cell_type": "markdown",
   "metadata": {},
   "source": [
    "### with custom formatting"
   ]
  },
  {
   "cell_type": "code",
   "execution_count": 8,
   "metadata": {},
   "outputs": [
    {
     "name": "stdout",
     "output_type": "stream",
     "text": [
      "\n",
      "toString() showcasing custom arguments\n",
      "\n",
      "(1.531515 ± 0.0018%) × 10^3\n",
      "(1.53099 ± 0.017%) × 10^3\n",
      "(1.53061 ± 0.028%) × 10^3\n",
      "(1.53310 ± 0.053%) × 10^3\n",
      "(1.5340 ± 0.086%) × 10^3\n",
      "printing latex representation\n",
      "\\SI{1.53151e3}{\\SI{0.002}{\\percent}}\\\\\n",
      "\\SI{1.5310e3}{\\SI{0.02}{\\percent}}\\\\\n",
      "\\SI{1.5306e3}{\\SI{0.03}{\\percent}}\\\\\n",
      "\\SI{1.5331e3}{\\SI{0.05}{\\percent}}\\\\\n",
      "\\SI{1.534e3}{\\SI{0.09}{\\percent}}\n"
     ]
    }
   ],
   "source": [
    "print('\\ntoString() showcasing custom arguments\\n')\n",
    "print(z_vals_grouped.toString(pt.err.ENG_FORMAT_REL))\n",
    "print('printing latex representation')\n",
    "print(z_vals_grouped.latex(pt.err.SCI_FORMAT_REL))"
   ]
  },
  {
   "cell_type": "markdown",
   "metadata": {},
   "source": [
    "## Indexing, and enumerating\n",
    "error objects can be indexed just like numpy arrays"
   ]
  },
  {
   "cell_type": "code",
   "execution_count": 9,
   "metadata": {},
   "outputs": [
    {
     "data": {
      "text/latex": [
       "$(1.5331 \\pm 0.0008) \\times 10^{3}$"
      ],
      "text/plain": [
       "(1.5331 ± 0.0008) × 10^3"
      ]
     },
     "metadata": {},
     "output_type": "display_data"
    },
    {
     "data": {
      "text/latex": [
       "$(1.53151 \\pm 0.00003) \\times 10^{3}\\\\\n",
       "(1.5310 \\pm 0.0003) \\times 10^{3}\\\\\n",
       "(1.5306 \\pm 0.0004) \\times 10^{3}$"
      ],
      "text/plain": [
       "(1.53151 ± 0.00003) × 10^3\n",
       "(1.5310 ± 0.0003) × 10^3\n",
       "(1.5306 ± 0.0004) × 10^3"
      ]
     },
     "metadata": {},
     "output_type": "display_data"
    },
    {
     "name": "stdout",
     "output_type": "stream",
     "text": [
      "0: (1.53151 ± 0.00003) × 10^3\n",
      "1: (1.5310 ± 0.0003) × 10^3\n"
     ]
    }
   ],
   "source": [
    "display(z_vals_grouped[3])\n",
    "display(z_vals_grouped[z_vals_grouped.err < 0.5])\n",
    "for i, z_val in enumerate(z_vals_grouped[0:2]):\n",
    "    print(f'{i}: {z_val}')"
   ]
  },
  {
   "cell_type": "markdown",
   "metadata": {},
   "source": [
    "An iterable of error expressions can be concatenated with `pt.err.concatenate` similar to numpy arrays"
   ]
  },
  {
   "cell_type": "code",
   "execution_count": 10,
   "metadata": {},
   "outputs": [
    {
     "data": {
      "text/latex": [
       "$1.0 \\pm 0.1\\\\\n",
       "2.0 \\pm 0.2\\\\\n",
       "3.0 \\pm 0.3$"
      ],
      "text/plain": [
       "1.0 ± 0.1\n",
       "2.0 ± 0.2\n",
       "3.0 ± 0.3"
      ]
     },
     "metadata": {},
     "output_type": "display_data"
    }
   ],
   "source": [
    "err_list = [pt.UErr(1, 0.1), pt.UErr(2, 0.2), pt.UErr(3, 0.3)]\n",
    "err = pt.err.concatenate(err_list)\n",
    "display(err)"
   ]
  },
  {
   "cell_type": "markdown",
   "metadata": {},
   "source": [
    "## Averaging\n",
    "We can compute the average over the different series. Note how the weighted average gives a more accurate result."
   ]
  },
  {
   "cell_type": "code",
   "execution_count": 11,
   "metadata": {},
   "outputs": [
    {
     "data": {
      "text/latex": [
       "$(1.5320 \\pm 0.0003) \\times 10^{3}$"
      ],
      "text/plain": [
       "(1.5320 ± 0.0003) × 10^3"
      ]
     },
     "metadata": {},
     "output_type": "display_data"
    },
    {
     "data": {
      "text/latex": [
       "$(1.53151 \\pm 0.00003) \\times 10^{3}$"
      ],
      "text/plain": [
       "(1.53151 ± 0.00003) × 10^3"
      ]
     },
     "metadata": {},
     "output_type": "display_data"
    }
   ],
   "source": [
    "z_val_1 = z_vals_grouped.average()\n",
    "z_val_2 = z_vals_grouped.weighted_average()\n",
    "\n",
    "display(z_val_1)\n",
    "display(z_val_2)"
   ]
  },
  {
   "cell_type": "markdown",
   "metadata": {},
   "source": [
    "# Error propagation\n",
    "It is also possible to automate a big part of the error calculation using `sympy` expression, or even working with the error objects directly\n",
    "\n",
    "It is important to note, working with the errors directly **cannot** model correlations properly: \n",
    "i.e. if we have a value \n",
    "$$x = 1 \\pm 0.5$$\n",
    "then the result of\n",
    "$x - x$ should be $x-x = 0 \\pm 0$, however these types of operations will concider each variable to be **independent** from every other one, even if it is the same object, therefore the result would in this case be \n",
    "$$x-x = 0 \\pm \\sqrt{0.5}$$"
   ]
  },
  {
   "cell_type": "code",
   "execution_count": 12,
   "metadata": {},
   "outputs": [
    {
     "data": {
      "text/latex": [
       "$1.0 \\pm 0.5$"
      ],
      "text/plain": [
       "1.0 ± 0.5"
      ]
     },
     "metadata": {},
     "output_type": "display_data"
    },
    {
     "data": {
      "text/latex": [
       "$\\displaystyle - x + x$"
      ],
      "text/plain": [
       "-x + x"
      ]
     },
     "metadata": {},
     "output_type": "display_data"
    },
    {
     "name": "stdout",
     "output_type": "stream",
     "text": [
      "working with the value directly\n"
     ]
    },
    {
     "data": {
      "text/latex": [
       "$0.0 \\pm 0.7$"
      ],
      "text/plain": [
       "0.0 ± 0.7"
      ]
     },
     "metadata": {},
     "output_type": "display_data"
    },
    {
     "name": "stdout",
     "output_type": "stream",
     "text": [
      "working with the expression\n"
     ]
    },
    {
     "data": {
      "text/latex": [
       "$0.0000 \\pm 0$"
      ],
      "text/plain": [
       "0.0000 ± 0"
      ]
     },
     "metadata": {},
     "output_type": "display_data"
    }
   ],
   "source": [
    "x_err = pt.UErr(1, 0.5)\n",
    "x_sym = sympy.symbols('x')\n",
    "with sympy.evaluate(False):\n",
    "    expr = x_sym - x_sym\n",
    "\n",
    "display(x_err)\n",
    "display(expr)\n",
    "\n",
    "print('working with the value directly')\n",
    "display(x_err-x_err)\n",
    "print('working with the expression')\n",
    "display(pt.err.u_propagate_error(expr, {x_sym : x_err}))\n"
   ]
  },
  {
   "cell_type": "markdown",
   "metadata": {},
   "source": [
    "## Displaying the error derivation\n",
    "Sometimes you might be interested in the expression of the error itself, not only the value, this can be accomplished using `sympy` and `pt.derive_err` "
   ]
  },
  {
   "cell_type": "code",
   "execution_count": 13,
   "metadata": {},
   "outputs": [
    {
     "name": "stdout",
     "output_type": "stream",
     "text": [
      "our initial equation\n"
     ]
    },
    {
     "data": {
      "text/latex": [
       "$\\displaystyle w + y - \\sin{\\left(x \\right)} = a e^{y \\sin{\\left(x \\right)}} + 2$"
      ],
      "text/plain": [
       "Eq(w + y - sin(x), a*exp(y*sin(x)) + 2)"
      ]
     },
     "metadata": {},
     "output_type": "display_data"
    },
    {
     "name": "stdout",
     "output_type": "stream",
     "text": [
      "our equation solved for w\n"
     ]
    },
    {
     "data": {
      "text/latex": [
       "$\\displaystyle a e^{y \\sin{\\left(x \\right)}} - y + \\sin{\\left(x \\right)} + 2$"
      ],
      "text/plain": [
       "a*exp(y*sin(x)) - y + sin(x) + 2"
      ]
     },
     "metadata": {},
     "output_type": "display_data"
    },
    {
     "name": "stdout",
     "output_type": "stream",
     "text": [
      "error derivation of w assuming x,y,z are values with errors and a is a constant\n"
     ]
    },
    {
     "data": {
      "text/latex": [
       "$\\displaystyle s_{w}^{2} = s_{x}^{2} \\left(\\frac{\\partial}{\\partial x} w{\\left(x,y \\right)}\\right)^{2} + s_{y}^{2} \\left(\\frac{\\partial}{\\partial y} w{\\left(x,y \\right)}\\right)^{2}$"
      ],
      "text/plain": [
       "Eq(s_w**2, s_x**2*Derivative(w(x, y), x)**2 + s_y**2*Derivative(w(x, y), y)**2)"
      ]
     },
     "metadata": {},
     "output_type": "display_data"
    },
    {
     "name": "stdout",
     "output_type": "stream",
     "text": [
      "s_{w}^{2} = s_{x}^{2} \\left(\\frac{\\partial}{\\partial x} w{\\left(x,y \\right)}\\right)^{2} + s_{y}^{2} \\left(\\frac{\\partial}{\\partial y} w{\\left(x,y \\right)}\\right)^{2}\n"
     ]
    },
    {
     "data": {
      "text/latex": [
       "$\\displaystyle s_{w}^{2} = s_{x}^{2} \\left(a y e^{y \\sin{\\left(x \\right)}} \\cos{\\left(x \\right)} + \\cos{\\left(x \\right)}\\right)^{2} + s_{y}^{2} \\left(a e^{y \\sin{\\left(x \\right)}} \\sin{\\left(x \\right)} - 1\\right)^{2}$"
      ],
      "text/plain": [
       "Eq(s_w**2, s_x**2*(a*y*exp(y*sin(x))*cos(x) + cos(x))**2 + s_y**2*(a*exp(y*sin(x))*sin(x) - 1)**2)"
      ]
     },
     "metadata": {},
     "output_type": "display_data"
    },
    {
     "name": "stdout",
     "output_type": "stream",
     "text": [
      "s_{w}^{2} = s_{x}^{2} \\left(a y e^{y \\sin{\\left(x \\right)}} \\cos{\\left(x \\right)} + \\cos{\\left(x \\right)}\\right)^{2} + s_{y}^{2} \\left(a e^{y \\sin{\\left(x \\right)}} \\sin{\\left(x \\right)} - 1\\right)^{2}\n"
     ]
    },
    {
     "data": {
      "text/latex": [
       "$\\displaystyle s_{w} = \\sqrt{s_{x}^{2} \\left(a y e^{y \\sin{\\left(x \\right)}} \\cos{\\left(x \\right)} + \\cos{\\left(x \\right)}\\right)^{2} + s_{y}^{2} \\left(a e^{y \\sin{\\left(x \\right)}} \\sin{\\left(x \\right)} - 1\\right)^{2}}$"
      ],
      "text/plain": [
       "Eq(s_w, sqrt(s_x**2*(a*y*exp(y*sin(x))*cos(x) + cos(x))**2 + s_y**2*(a*exp(y*sin(x))*sin(x) - 1)**2))"
      ]
     },
     "metadata": {},
     "output_type": "display_data"
    },
    {
     "name": "stdout",
     "output_type": "stream",
     "text": [
      "s_{w} = \\sqrt{s_{x}^{2} \\left(a y e^{y \\sin{\\left(x \\right)}} \\cos{\\left(x \\right)} + \\cos{\\left(x \\right)}\\right)^{2} + s_{y}^{2} \\left(a e^{y \\sin{\\left(x \\right)}} \\sin{\\left(x \\right)} - 1\\right)^{2}}\n",
      "the computed error expression:\n"
     ]
    },
    {
     "data": {
      "text/latex": [
       "$\\displaystyle \\sqrt{s_{x}^{2} \\left(a y e^{y \\sin{\\left(x \\right)}} \\cos{\\left(x \\right)} + \\cos{\\left(x \\right)}\\right)^{2} + s_{y}^{2} \\left(a e^{y \\sin{\\left(x \\right)}} \\sin{\\left(x \\right)} - 1\\right)^{2}}$"
      ],
      "text/plain": [
       "sqrt(s_x**2*(a*y*exp(y*sin(x))*cos(x) + cos(x))**2 + s_y**2*(a*exp(y*sin(x))*sin(x) - 1)**2)"
      ]
     },
     "metadata": {},
     "output_type": "display_data"
    }
   ],
   "source": [
    "from sys import stdout\n",
    "a,x,y,w = sympy.symbols('a,x,y,w')\n",
    "\n",
    "print('our initial equation')\n",
    "some_equation = sympy.Eq(w + y - sympy.sin(x), a * sympy.exp(y * sympy.sin(x)) + 2)\n",
    "display(some_equation)\n",
    "\n",
    "print('our equation solved for w')\n",
    "w_expr = sympy.solve(some_equation, w)[0]\n",
    "display(w_expr)\n",
    "\n",
    "print('error derivation of w assuming x,y,z are values with errors and a is a constant')\n",
    "\n",
    "def log(eq : sympy.Eq):\n",
    "    display(eq)\n",
    "    print(sympy.latex(eq))\n",
    "\n",
    "error_expr = pt.u_error_propagation_formula(w_expr, values = [x,y], target_symbol=w, logger = log)\n",
    "\n",
    "print('the computed error expression:')\n",
    "display(error_expr)"
   ]
  },
  {
   "cell_type": "markdown",
   "metadata": {},
   "source": [
    "## computing more complex things directly\n",
    "Even complex formulae can be computed directly using `numpy` ufuncs, most numpy functions will work just fine on error objects simplifying the workflow"
   ]
  },
  {
   "cell_type": "code",
   "execution_count": 14,
   "metadata": {},
   "outputs": [
    {
     "data": {
      "text/latex": [
       "$1.2 \\pm 0.3$"
      ],
      "text/plain": [
       "1.2 ± 0.3"
      ]
     },
     "metadata": {},
     "output_type": "display_data"
    },
    {
     "data": {
      "text/latex": [
       "$1.2 \\pm 0.3$"
      ],
      "text/plain": [
       "1.2 ± 0.3"
      ]
     },
     "metadata": {},
     "output_type": "display_data"
    }
   ],
   "source": [
    "v_expr = x**sympy.sin(y**0.5)\n",
    "v_val_expr= pt.u_propagate_error(v_expr, {x: x_val, y: y_val})\n",
    "\n",
    "v_val_direct = x_val**np.sin(y_val**0.5)\n",
    "\n",
    "display(v_val_expr)\n",
    "display(v_val_direct)\n",
    "\n",
    "assert v_val_expr.allclose(v_val_direct)"
   ]
  },
  {
   "cell_type": "markdown",
   "metadata": {},
   "source": [
    "## This does not always work !!!\n",
    "\n",
    "If the same symbols appears multiple times the values are correlated, then direct evaluation on using `sympy` will result in diffrent errors\n"
   ]
  },
  {
   "cell_type": "code",
   "execution_count": 15,
   "metadata": {},
   "outputs": [
    {
     "data": {
      "text/latex": [
       "$-0.2 \\pm 0.3$"
      ],
      "text/plain": [
       "-0.2 ± 0.3"
      ]
     },
     "metadata": {},
     "output_type": "display_data"
    },
    {
     "data": {
      "text/latex": [
       "$-0.2 \\pm 0.7$"
      ],
      "text/plain": [
       "-0.2 ± 0.7"
      ]
     },
     "metadata": {},
     "output_type": "display_data"
    }
   ],
   "source": [
    "w_expr = x**sympy.sin(y**0.5) - x**sympy.cos(y)\n",
    "w_val_expr= pt.u_propagate_error(w_expr, {x: x_val, y: y_val})\n",
    "\n",
    "w_val_direct = x_val**np.sin(y_val**0.5) - x_val**np.cos(y_val)\n",
    "\n",
    "display(w_val_expr)\n",
    "display(w_val_direct)\n",
    "\n",
    "assert not w_val_expr.allclose(w_val_direct)"
   ]
  },
  {
   "cell_type": "markdown",
   "metadata": {},
   "source": [
    "# Plotting\n",
    "There are some helper functions which makes plotting, especially using errors easier"
   ]
  },
  {
   "cell_type": "code",
   "execution_count": 16,
   "metadata": {},
   "outputs": [
    {
     "data": {
      "image/png": "[encoded data removed]",
      "text/plain": [
       "<Figure size 1280x960 with 1 Axes>"
      ]
     },
     "metadata": {},
     "output_type": "display_data"
    }
   ],
   "source": [
    "x_data = pt.UErr(np.linspace(0.1,1.5, 100), 0.5)\n",
    "a_val = pt.UErr(5,0.1)\n",
    "b_val = pt.UErr(-1,0.1)\n",
    "a,b,x = sympy.symbols('a,b,c')\n",
    "\n",
    "# we use calc err here instead of computing directly because x appears multiple times in the expression\n",
    "y_data1 = pt.u_propagate_error(\n",
    "    sympy.sin(a*x**2)*x**b,\n",
    "    {\n",
    "        a: a_val,\n",
    "        b:b_val, x:x_data\n",
    "    })\n",
    "\n",
    "y_data2 = np.sin(a_val*x_data**2)*x_data**b_val\n",
    "\n",
    "#start plot automatically adds tytle, x and y labels and the grid, you can also set the fontsize and more\n",
    "pt.plotting.set_up_plot(r'Compare methods on $y(x) = \\sin(a^x)b^x$', 'x', 'y')\n",
    "\n",
    "pt.plotting.err_band_plot(x_data.mean, y_data1.mean, y_data1.err, label=r'via expr', color = 'purple')\n",
    "pt.plotting.err_band_plot(x_data.mean, y_data2.mean, y_data2.err, label=r'direct', color = 'green')\n",
    "plt.legend()\n",
    "plt.show()"
   ]
  }
 ],
 "metadata": {
  "kernelspec": {
   "display_name": ".venv",
   "language": "python",
   "name": "python3"
  },
  "language_info": {
   "codemirror_mode": {
    "name": "ipython",
    "version": 3
   },
   "file_extension": ".py",
   "mimetype": "text/x-python",
   "name": "python",
   "nbconvert_exporter": "python",
   "pygments_lexer": "ipython3",
   "version": "3.12.3"
  }
 },
 "nbformat": 4,
 "nbformat_minor": 2
}
